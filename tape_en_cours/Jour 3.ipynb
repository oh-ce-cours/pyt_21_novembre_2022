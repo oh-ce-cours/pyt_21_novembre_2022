{
 "cells": [
  {
   "cell_type": "markdown",
   "id": "93489a1e",
   "metadata": {},
   "source": [
    "# Jour 3 \n",
    "\n",
    "## Rappel du jour 2 \n",
    "\n",
    "* conteneurs \n",
    "    * listes \n",
    "    * indexation : [index_a_acceder]\n",
    "    * slicing : [debut:fin]\n",
    "* fichiers \n",
    "    * ouverture \n",
    "    * lecture / écriture \n",
    "    * fermeture \n",
    "    * utilisation des contexts managers (`with`)\n",
    "* exceptions \n",
    "    * familles d'exceptions \n",
    "    * mots clés (`try` / `except` / `else` / `finally`)\n",
    "* mécanismes d'import\n",
    "    * on peut importer tout un module (namespace)\n",
    "    * on peut importer une chose d'un module (`from ... import ...`)\n",
    "    * on peut renommer (pour éviter des conflits de nommages / pour être plus explicite) avec `as`\n",
    "* modules de données (json / CSV)\n",
    "\n",
    "# Ressources intéressantes : \n",
    "\n",
    "## Pratiquer python\n",
    "* https://snakify.org/fr/\n",
    "* https://learnpython.org/en/Variables_and_Types\n",
    "* https://leetcode.com/problems\n",
    "\n",
    "## Manipulation de regexp\n",
    "* https://regex101.com"
   ]
  },
  {
   "cell_type": "code",
   "execution_count": 11,
   "id": "aa2db207",
   "metadata": {},
   "outputs": [
    {
     "name": "stdout",
     "output_type": "stream",
     "text": [
      "dans try\n",
      "dans except\n",
      "dans finally\n"
     ]
    },
    {
     "ename": "ZeroDivisionError",
     "evalue": "division by zero",
     "output_type": "error",
     "traceback": [
      "\u001b[0;31m---------------------------------------------------------------------------\u001b[0m",
      "\u001b[0;31mZeroDivisionError\u001b[0m                         Traceback (most recent call last)",
      "Cell \u001b[0;32mIn [11], line 5\u001b[0m\n\u001b[1;32m      4\u001b[0m     \u001b[38;5;28mprint\u001b[39m(\u001b[38;5;124m\"\u001b[39m\u001b[38;5;124mdans try\u001b[39m\u001b[38;5;124m\"\u001b[39m)\n\u001b[0;32m----> 5\u001b[0m     \u001b[38;5;241;43m1\u001b[39;49m\u001b[38;5;241;43m/\u001b[39;49m\u001b[38;5;241;43m0\u001b[39;49m\n\u001b[1;32m      6\u001b[0m \u001b[38;5;28;01mexcept\u001b[39;00m:\n",
      "\u001b[0;31mZeroDivisionError\u001b[0m: division by zero",
      "\nDuring handling of the above exception, another exception occurred:\n",
      "\u001b[0;31mZeroDivisionError\u001b[0m                         Traceback (most recent call last)",
      "Cell \u001b[0;32mIn [11], line 8\u001b[0m\n\u001b[1;32m      6\u001b[0m \u001b[38;5;28;01mexcept\u001b[39;00m:\n\u001b[1;32m      7\u001b[0m     \u001b[38;5;28mprint\u001b[39m(\u001b[38;5;124m\"\u001b[39m\u001b[38;5;124mdans except\u001b[39m\u001b[38;5;124m\"\u001b[39m)\n\u001b[0;32m----> 8\u001b[0m     \u001b[38;5;241;43m1\u001b[39;49m\u001b[38;5;241;43m/\u001b[39;49m\u001b[38;5;241;43m0\u001b[39;49m\n\u001b[1;32m      9\u001b[0m \u001b[38;5;28;01melse\u001b[39;00m:\n\u001b[1;32m     10\u001b[0m     \u001b[38;5;28mprint\u001b[39m(\u001b[38;5;124m\"\u001b[39m\u001b[38;5;124mdans else\u001b[39m\u001b[38;5;124m\"\u001b[39m)\n",
      "\u001b[0;31mZeroDivisionError\u001b[0m: division by zero"
     ]
    }
   ],
   "source": [
    "try:\n",
    "    f = open(\"texte.csv\")\n",
    "    f.read()\n",
    "    print(\"dans try\")\n",
    "    1/0\n",
    "except:\n",
    "    print(\"dans except\")\n",
    "    1/0\n",
    "else:\n",
    "    print(\"dans else\")\n",
    "finally:\n",
    "    print(\"dans finally\")\n",
    "    f.close()    "
   ]
  },
  {
   "cell_type": "code",
   "execution_count": 12,
   "id": "4ca37bf2",
   "metadata": {},
   "outputs": [
    {
     "name": "stdout",
     "output_type": "stream",
     "text": [
      "print(locals(), globals())\n",
      "import numpy\n",
      "\n",
      "print(locals(), globals())\n",
      "from numpy import *\n",
      "\n",
      "print(locals(), globals())\n",
      "print(str)\n"
     ]
    }
   ],
   "source": [
    "with open(\"./variables.py\") as f:\n",
    "    for line in f:\n",
    "        print(line, end=\"\")"
   ]
  },
  {
   "cell_type": "code",
   "execution_count": 13,
   "id": "421395aa",
   "metadata": {},
   "outputs": [
    {
     "name": "stdout",
     "output_type": "stream",
     "text": [
      "['print(locals(), globals())\\n', 'import numpy\\n', '\\n', 'print(locals(), globals())\\n', 'from numpy import *\\n', '\\n', 'print(locals(), globals())\\n', 'print(str)\\n']\n"
     ]
    }
   ],
   "source": [
    "with open(\"./variables.py\") as f:\n",
    "    print(f.readlines())"
   ]
  },
  {
   "cell_type": "code",
   "execution_count": 15,
   "id": "87c8699b",
   "metadata": {},
   "outputs": [
    {
     "name": "stdout",
     "output_type": "stream",
     "text": [
      "riri\n",
      "fifi\n",
      "loulou\n"
     ]
    }
   ],
   "source": [
    "castors = [\"riri\", \"fifi\", \"loulou\"]\n",
    "\n",
    "for castor in castors:\n",
    "    print(castor)"
   ]
  },
  {
   "cell_type": "code",
   "execution_count": 32,
   "id": "69bf071a",
   "metadata": {},
   "outputs": [
    {
     "name": "stdout",
     "output_type": "stream",
     "text": [
      "loulou\n",
      "fifi\n",
      "riri\n"
     ]
    }
   ],
   "source": [
    "castors = [\"riri\", \"fifi\", \"loulou\"]\n",
    "for castor in reversed(castors):\n",
    "    print(castor)"
   ]
  },
  {
   "cell_type": "code",
   "execution_count": 23,
   "id": "ad48c5ae",
   "metadata": {},
   "outputs": [
    {
     "name": "stdout",
     "output_type": "stream",
     "text": [
      "loulou\n",
      "fifi\n",
      "riri\n"
     ]
    }
   ],
   "source": [
    "castors = [\"riri\", \"fifi\", \"loulou\"]\n",
    "castors.reverse()\n",
    "for castor in castors:\n",
    "    print(castor)"
   ]
  },
  {
   "cell_type": "code",
   "execution_count": 25,
   "id": "a0cf2a49",
   "metadata": {},
   "outputs": [
    {
     "name": "stdout",
     "output_type": "stream",
     "text": [
      "loulou\n",
      "fifi\n",
      "riri\n"
     ]
    }
   ],
   "source": [
    "castors = [\"riri\", \"fifi\", \"loulou\"]\n",
    "for castor in castors[::-1]:\n",
    "    print(castor)"
   ]
  },
  {
   "cell_type": "code",
   "execution_count": 27,
   "id": "e00d6e9d",
   "metadata": {},
   "outputs": [
    {
     "name": "stdout",
     "output_type": "stream",
     "text": [
      "riri\n",
      "fifi\n"
     ]
    }
   ],
   "source": [
    "castors = [\"riri\", \"fifi\", \"loulou\"]\n",
    "for castor in castors[:2]:\n",
    "    print(castor)"
   ]
  },
  {
   "cell_type": "code",
   "execution_count": 28,
   "id": "c4176f65",
   "metadata": {},
   "outputs": [
    {
     "name": "stdout",
     "output_type": "stream",
     "text": [
      "fifi\n",
      "loulou\n"
     ]
    }
   ],
   "source": [
    "castors = [\"riri\", \"fifi\", \"loulou\"]\n",
    "for castor in castors[-2:]:\n",
    "    print(castor)"
   ]
  },
  {
   "cell_type": "code",
   "execution_count": 31,
   "id": "704cf32c",
   "metadata": {},
   "outputs": [
    {
     "name": "stdout",
     "output_type": "stream",
     "text": [
      "45\n",
      "9\n"
     ]
    }
   ],
   "source": [
    "with open(\"./J1.ipynb\"):\n",
    "    for i in range(10):\n",
    "        zertyuhtregjtuyhtfe = i * 5\n",
    "    \n",
    "print(zertyuhtregjtuyhtfe)\n",
    "print(i)"
   ]
  },
  {
   "cell_type": "code",
   "execution_count": 41,
   "id": "31a0be29",
   "metadata": {},
   "outputs": [
    {
     "name": "stdout",
     "output_type": "stream",
     "text": [
      "l[0:5]='abcde'\n",
      "l[:5]='abcde'\n",
      "l[-5:len(l)]='vwxyz'\n",
      "l[5:-10:2]='fhjlnp'\n",
      "l[::2]='acegikmoqsuwy'\n",
      "l[1::2]='bdfhjlnprtvxz'\n"
     ]
    }
   ],
   "source": [
    "l = \"abcdefghijklmnopqrstuvwxyz\"\n",
    "print(f\"{l[0:5]=}\")\n",
    "print(f\"{l[:5]=}\")\n",
    "print(f\"{l[-5:len(l)]=}\")\n",
    "print(f\"{l[5:-10:2]=}\")\n",
    "print(f\"{l[::2]=}\")\n",
    "print(f\"{l[1::2]=}\")"
   ]
  },
  {
   "cell_type": "code",
   "execution_count": 42,
   "id": "f13981dd",
   "metadata": {},
   "outputs": [
    {
     "name": "stdout",
     "output_type": "stream",
     "text": [
      "Match 1 was found at 0-5: 12:59\n",
      "Group 1 found at 0-2: 12\n",
      "Group 2 found at 3-5: 59\n",
      "Match 2 was found at 35-40: 22:54\n",
      "Group 1 found at 35-37: 22\n",
      "Group 2 found at 38-40: 54\n",
      "Match 3 was found at 73-78: 07:52\n",
      "Group 1 found at 73-75: 07\n",
      "Group 2 found at 76-78: 52\n"
     ]
    }
   ],
   "source": [
    "\n",
    "import re\n",
    "\n",
    "regex = r\"([01][0-9]|[2][0-3]):([0-5][0-9])\"\n",
    "\n",
    "test_str = (\"12:59\\n\"\n",
    "\t\"je me suis endormi, il était 22:54 et je me suis réveillé il était 07:52\\n\")\n",
    "\n",
    "matches = re.finditer(regex, test_str)\n",
    "\n",
    "for matchNum, match in enumerate(matches, start=1):\n",
    "    \n",
    "    print (\"Match {matchNum} was found at {start}-{end}: {match}\".format(matchNum = matchNum, start = match.start(), end = match.end(), match = match.group()))\n",
    "    \n",
    "    for groupNum in range(0, len(match.groups())):\n",
    "        groupNum = groupNum + 1\n",
    "        \n",
    "        print (\"Group {groupNum} found at {start}-{end}: {group}\".format(groupNum = groupNum, start = match.start(groupNum), end = match.end(groupNum), group = match.group(groupNum)))\n",
    "\n",
    "# Note: for Python 2.7 compatibility, use ur\"\" to prefix the regex and u\"\" to prefix the test string and substitution."
   ]
  },
  {
   "cell_type": "code",
   "execution_count": 46,
   "id": "e437db04",
   "metadata": {},
   "outputs": [
    {
     "name": "stdout",
     "output_type": "stream",
     "text": [
      "9\n",
      "8\n",
      "7\n",
      "6\n",
      "5\n",
      "4\n",
      "3\n",
      "2\n",
      "1\n",
      "0\n"
     ]
    }
   ],
   "source": [
    "for n in reversed(range(10)):\n",
    "    print(n)"
   ]
  },
  {
   "cell_type": "code",
   "execution_count": 48,
   "id": "fc25178f",
   "metadata": {},
   "outputs": [
    {
     "data": {
      "text/plain": [
       "[9, 8, 7, 6, 5, 4, 3, 2, 1, 0]"
      ]
     },
     "execution_count": 48,
     "metadata": {},
     "output_type": "execute_result"
    }
   ],
   "source": [
    "list(reversed(range(10)))"
   ]
  },
  {
   "cell_type": "code",
   "execution_count": 114,
   "id": "2506a2d4",
   "metadata": {},
   "outputs": [
    {
     "name": "stdout",
     "output_type": "stream",
     "text": [
      "9999999999\n",
      "9999999998\n",
      "9999999997\n",
      "9999999996\n",
      "9999999995\n",
      "9999999994\n",
      "9999999993\n",
      "9999999992\n",
      "9999999991\n",
      "9999999990\n"
     ]
    }
   ],
   "source": [
    "for _, n in zip(range(10), reversed(range(10_000_000_000))):\n",
    "    print(n)"
   ]
  },
  {
   "cell_type": "code",
   "execution_count": 51,
   "id": "29d73c1c",
   "metadata": {},
   "outputs": [
    {
     "data": {
      "text/plain": [
       "True"
      ]
     },
     "execution_count": 51,
     "metadata": {},
     "output_type": "execute_result"
    }
   ],
   "source": [
    "5 in range(10)"
   ]
  },
  {
   "cell_type": "code",
   "execution_count": 52,
   "id": "4788f212",
   "metadata": {},
   "outputs": [
    {
     "data": {
      "text/plain": [
       "True"
      ]
     },
     "execution_count": 52,
     "metadata": {},
     "output_type": "execute_result"
    }
   ],
   "source": [
    "\"salut\" in \"salut les copains\""
   ]
  },
  {
   "cell_type": "code",
   "execution_count": 61,
   "id": "215943ea",
   "metadata": {},
   "outputs": [
    {
     "data": {
      "text/plain": [
       "[(0, 'a'), (1, 'b'), (2, 'c')]"
      ]
     },
     "execution_count": 61,
     "metadata": {},
     "output_type": "execute_result"
    }
   ],
   "source": [
    "list(enumerate([\"a\", \"b\", \"c\"]))"
   ]
  },
  {
   "cell_type": "code",
   "execution_count": 65,
   "id": "1c4112ad",
   "metadata": {},
   "outputs": [
    {
     "name": "stdout",
     "output_type": "stream",
     "text": [
      "3.2 True <class 'float'> <class 'bool'>\n"
     ]
    }
   ],
   "source": [
    "res, status_code = 3.2, True\n",
    "print(res, status_code, type(res), type(status_code))"
   ]
  },
  {
   "cell_type": "code",
   "execution_count": 66,
   "id": "ddf8f868",
   "metadata": {},
   "outputs": [],
   "source": [
    "a = 3.2, True\n",
    "res = a[0]\n",
    "status_code = a[1]"
   ]
  },
  {
   "cell_type": "code",
   "execution_count": 87,
   "id": "a4bf37b6",
   "metadata": {},
   "outputs": [
    {
     "name": "stdout",
     "output_type": "stream",
     "text": [
      "0 1 8 9 [2, 3, 4, 5, 6, 7]\n"
     ]
    }
   ],
   "source": [
    "a, b, *_, c, d = range(10)\n",
    "print(a, b, c, d, _)"
   ]
  },
  {
   "cell_type": "code",
   "execution_count": 93,
   "id": "0f5103a7",
   "metadata": {},
   "outputs": [
    {
     "name": "stdout",
     "output_type": "stream",
     "text": [
      "1 2 (3, 4) 4\n"
     ]
    }
   ],
   "source": [
    "a, b, c = (1, 2, (3, 4))\n",
    "print(a, b, c, d)"
   ]
  },
  {
   "cell_type": "code",
   "execution_count": 94,
   "id": "64bc0c89",
   "metadata": {},
   "outputs": [
    {
     "name": "stdout",
     "output_type": "stream",
     "text": [
      "s ['a', 'l', 'u', 't', ' ', 'l', 'e', 's', ' ', 'c', 'o', 'p', 'a', 'i', 'n'] s\n"
     ]
    }
   ],
   "source": [
    "a, *b, c = \"salut les copains\"\n",
    "print(a, b, c)"
   ]
  },
  {
   "cell_type": "code",
   "execution_count": 98,
   "id": "4e00f711",
   "metadata": {},
   "outputs": [
    {
     "name": "stdout",
     "output_type": "stream",
     "text": [
      "i=0\n",
      "i=1\n",
      "i=2\n",
      "i=3\n",
      "i=4\n",
      "i=5\n",
      "i=6\n",
      "i=7\n",
      "i=8\n",
      "i=9\n",
      "nb=0\n",
      "nb=2\n",
      "nb=4\n",
      "nb=6\n",
      "nb=8\n",
      "nb=10\n",
      "nb=12\n",
      "nb=14\n",
      "nb=16\n",
      "nb=18\n"
     ]
    }
   ],
   "source": [
    "def f():\n",
    "    res = []\n",
    "    for i in range(10):\n",
    "        print(f\"{i=}\")\n",
    "        res.append(i*2)\n",
    "    return res\n",
    "\n",
    "for nb in f():\n",
    "    print(f\"{nb=}\")"
   ]
  },
  {
   "cell_type": "code",
   "execution_count": 101,
   "id": "dec62622",
   "metadata": {},
   "outputs": [
    {
     "name": "stdout",
     "output_type": "stream",
     "text": [
      "i=0\n",
      "nb=0\n",
      "nb=0\n",
      "nb=0\n",
      "nb=0\n",
      "i=1\n",
      "nb=1\n",
      "nb=2\n",
      "nb=3\n",
      "nb=4\n",
      "i=2\n",
      "nb=2\n",
      "nb=4\n",
      "nb=6\n",
      "nb=8\n",
      "i=3\n",
      "nb=3\n",
      "nb=6\n",
      "nb=9\n",
      "nb=12\n",
      "i=4\n",
      "nb=4\n",
      "nb=8\n",
      "nb=12\n",
      "nb=16\n",
      "i=5\n",
      "nb=5\n",
      "nb=10\n",
      "nb=15\n",
      "nb=20\n",
      "i=6\n",
      "nb=6\n",
      "nb=12\n",
      "nb=18\n",
      "nb=24\n",
      "i=7\n",
      "nb=7\n",
      "nb=14\n",
      "nb=21\n",
      "nb=28\n",
      "i=8\n",
      "nb=8\n",
      "nb=16\n",
      "nb=24\n",
      "nb=32\n",
      "i=9\n",
      "nb=9\n",
      "nb=18\n",
      "nb=27\n",
      "nb=36\n"
     ]
    }
   ],
   "source": [
    "def f2():\n",
    "    for i in range(10):\n",
    "        print(f\"{i=}\")\n",
    "        yield i\n",
    "        yield i*2\n",
    "        yield i*3\n",
    "        yield i*4\n",
    "\n",
    "for nb in f2():\n",
    "    print(f\"{nb=}\")"
   ]
  },
  {
   "cell_type": "code",
   "execution_count": 105,
   "id": "593cb93d",
   "metadata": {},
   "outputs": [],
   "source": [
    "def my_enumerate(iterable):\n",
    "    index = 0\n",
    "    for element in iterable:\n",
    "        yield (index, element)\n",
    "        index += 1"
   ]
  },
  {
   "cell_type": "code",
   "execution_count": 108,
   "id": "ee407b83",
   "metadata": {},
   "outputs": [
    {
     "data": {
      "text/plain": [
       "[(0, 10),\n",
       " (1, 11),\n",
       " (2, 12),\n",
       " (3, 13),\n",
       " (4, 14),\n",
       " (5, 15),\n",
       " (6, 16),\n",
       " (7, 17),\n",
       " (8, 18),\n",
       " (9, 19)]"
      ]
     },
     "execution_count": 108,
     "metadata": {},
     "output_type": "execute_result"
    }
   ],
   "source": [
    "list(my_enumerate(range(10, 20)))"
   ]
  },
  {
   "cell_type": "code",
   "execution_count": 111,
   "id": "998fddbd",
   "metadata": {},
   "outputs": [
    {
     "name": "stdout",
     "output_type": "stream",
     "text": [
      "deque([], maxlen=10)\n",
      "deque([0], maxlen=10)\n",
      "deque([0, 1], maxlen=10)\n",
      "deque([0, 1, 2], maxlen=10)\n",
      "deque([0, 1, 2, 3], maxlen=10)\n",
      "deque([0, 1, 2, 3, 4], maxlen=10)\n",
      "deque([0, 1, 2, 3, 4, 5], maxlen=10)\n",
      "deque([0, 1, 2, 3, 4, 5, 6], maxlen=10)\n",
      "deque([0, 1, 2, 3, 4, 5, 6, 7], maxlen=10)\n",
      "deque([0, 1, 2, 3, 4, 5, 6, 7, 8], maxlen=10)\n",
      "deque([0, 1, 2, 3, 4, 5, 6, 7, 8, 9], maxlen=10)\n",
      "deque([1, 2, 3, 4, 5, 6, 7, 8, 9, 10], maxlen=10)\n",
      "deque([2, 3, 4, 5, 6, 7, 8, 9, 10, 11], maxlen=10)\n",
      "deque([3, 4, 5, 6, 7, 8, 9, 10, 11, 12], maxlen=10)\n",
      "deque([4, 5, 6, 7, 8, 9, 10, 11, 12, 13], maxlen=10)\n",
      "deque([5, 6, 7, 8, 9, 10, 11, 12, 13, 14], maxlen=10)\n",
      "deque([6, 7, 8, 9, 10, 11, 12, 13, 14, 15], maxlen=10)\n",
      "deque([7, 8, 9, 10, 11, 12, 13, 14, 15, 16], maxlen=10)\n",
      "deque([8, 9, 10, 11, 12, 13, 14, 15, 16, 17], maxlen=10)\n",
      "deque([9, 10, 11, 12, 13, 14, 15, 16, 17, 18], maxlen=10)\n",
      "fini\n",
      "deque([10, 11, 12, 13, 14, 15, 16, 17, 18, 19], maxlen=10)\n"
     ]
    }
   ],
   "source": [
    "from collections import deque\n",
    "q = deque(maxlen=10)\n",
    "for line in range(20):\n",
    "    print(q)\n",
    "    q.append(line)\n",
    "print(\"fini\")\n",
    "print(q)"
   ]
  },
  {
   "cell_type": "markdown",
   "id": "8f7a8a06",
   "metadata": {},
   "source": [
    "## Rappels matin\n",
    "\n",
    "* exercice Unix\n",
    "* itérateurs \n",
    "    * générateurs / yield \n",
    "    * itertools (islice)\n",
    "    * `zip` / `enumerate` \n",
    "* tuple unpacking \n",
    "* collections \n",
    "    * deque => FIFO "
   ]
  },
  {
   "cell_type": "markdown",
   "id": "b6809b09",
   "metadata": {},
   "source": [
    "## Conteneurs"
   ]
  },
  {
   "cell_type": "code",
   "execution_count": 116,
   "id": "af8bae3d",
   "metadata": {},
   "outputs": [
    {
     "name": "stdout",
     "output_type": "stream",
     "text": [
      "(1, 2, 3) <class 'tuple'>\n"
     ]
    }
   ],
   "source": [
    "t = (1, 2, 3)\n",
    "print(t, type(t))"
   ]
  },
  {
   "cell_type": "code",
   "execution_count": null,
   "id": "bb93ccc8",
   "metadata": {},
   "outputs": [],
   "source": []
  }
 ],
 "metadata": {
  "kernelspec": {
   "display_name": "Python 3 (ipykernel)",
   "language": "python",
   "name": "python3"
  },
  "language_info": {
   "codemirror_mode": {
    "name": "ipython",
    "version": 3
   },
   "file_extension": ".py",
   "mimetype": "text/x-python",
   "name": "python",
   "nbconvert_exporter": "python",
   "pygments_lexer": "ipython3",
   "version": "3.9.9"
  }
 },
 "nbformat": 4,
 "nbformat_minor": 5
}

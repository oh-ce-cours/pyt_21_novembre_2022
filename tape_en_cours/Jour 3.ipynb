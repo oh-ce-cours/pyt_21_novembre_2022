{
 "cells": [
  {
   "cell_type": "markdown",
   "id": "751e341d",
   "metadata": {},
   "source": [
    "# Jour 3 \n",
    "\n",
    "## Rappel du jour 2 \n",
    "\n",
    "* conteneurs \n",
    "    * listes \n",
    "    * indexation : [index_a_acceder]\n",
    "    * slicing : [debut:fin]\n",
    "* fichiers \n",
    "    * ouverture \n",
    "    * lecture / écriture \n",
    "    * fermeture \n",
    "    * utilisation des contexts managers (`with`)\n",
    "* exceptions \n",
    "    * familles d'exceptions \n",
    "    * mots clés (`try` / `except` / `else` / `finally`)\n",
    "* mécanismes d'import\n",
    "    * on peut importer tout un module (namespace)\n",
    "    * on peut importer une chose d'un module (`from ... import ...`)\n",
    "    * on peut renommer (pour éviter des conflits de nommages / pour être plus explicite) avec `as`\n",
    "* modules de données (json / CSV)\n",
    "\n",
    "# Ressources intéressantes : \n",
    "\n",
    "## Pratiquer python\n",
    "* https://snakify.org/fr/\n",
    "* https://learnpython.org/en/Variables_and_Types\n",
    "* https://leetcode.com/problems\n",
    "\n",
    "## Manipulation de regexp\n",
    "* https://regex101.com"
   ]
  },
  {
   "cell_type": "code",
   "execution_count": 11,
   "id": "e0481106",
   "metadata": {},
   "outputs": [
    {
     "name": "stdout",
     "output_type": "stream",
     "text": [
      "dans try\n",
      "dans except\n",
      "dans finally\n"
     ]
    },
    {
     "ename": "ZeroDivisionError",
     "evalue": "division by zero",
     "output_type": "error",
     "traceback": [
      "\u001b[0;31m---------------------------------------------------------------------------\u001b[0m",
      "\u001b[0;31mZeroDivisionError\u001b[0m                         Traceback (most recent call last)",
      "Cell \u001b[0;32mIn [11], line 5\u001b[0m\n\u001b[1;32m      4\u001b[0m     \u001b[38;5;28mprint\u001b[39m(\u001b[38;5;124m\"\u001b[39m\u001b[38;5;124mdans try\u001b[39m\u001b[38;5;124m\"\u001b[39m)\n\u001b[0;32m----> 5\u001b[0m     \u001b[38;5;241;43m1\u001b[39;49m\u001b[38;5;241;43m/\u001b[39;49m\u001b[38;5;241;43m0\u001b[39;49m\n\u001b[1;32m      6\u001b[0m \u001b[38;5;28;01mexcept\u001b[39;00m:\n",
      "\u001b[0;31mZeroDivisionError\u001b[0m: division by zero",
      "\nDuring handling of the above exception, another exception occurred:\n",
      "\u001b[0;31mZeroDivisionError\u001b[0m                         Traceback (most recent call last)",
      "Cell \u001b[0;32mIn [11], line 8\u001b[0m\n\u001b[1;32m      6\u001b[0m \u001b[38;5;28;01mexcept\u001b[39;00m:\n\u001b[1;32m      7\u001b[0m     \u001b[38;5;28mprint\u001b[39m(\u001b[38;5;124m\"\u001b[39m\u001b[38;5;124mdans except\u001b[39m\u001b[38;5;124m\"\u001b[39m)\n\u001b[0;32m----> 8\u001b[0m     \u001b[38;5;241;43m1\u001b[39;49m\u001b[38;5;241;43m/\u001b[39;49m\u001b[38;5;241;43m0\u001b[39;49m\n\u001b[1;32m      9\u001b[0m \u001b[38;5;28;01melse\u001b[39;00m:\n\u001b[1;32m     10\u001b[0m     \u001b[38;5;28mprint\u001b[39m(\u001b[38;5;124m\"\u001b[39m\u001b[38;5;124mdans else\u001b[39m\u001b[38;5;124m\"\u001b[39m)\n",
      "\u001b[0;31mZeroDivisionError\u001b[0m: division by zero"
     ]
    }
   ],
   "source": [
    "try:\n",
    "    f = open(\"texte.csv\")\n",
    "    f.read()\n",
    "    print(\"dans try\")\n",
    "    1/0\n",
    "except:\n",
    "    print(\"dans except\")\n",
    "    1/0\n",
    "else:\n",
    "    print(\"dans else\")\n",
    "finally:\n",
    "    print(\"dans finally\")\n",
    "    f.close()    "
   ]
  },
  {
   "cell_type": "code",
   "execution_count": 12,
   "id": "88b32afc",
   "metadata": {},
   "outputs": [
    {
     "name": "stdout",
     "output_type": "stream",
     "text": [
      "print(locals(), globals())\n",
      "import numpy\n",
      "\n",
      "print(locals(), globals())\n",
      "from numpy import *\n",
      "\n",
      "print(locals(), globals())\n",
      "print(str)\n"
     ]
    }
   ],
   "source": [
    "with open(\"./variables.py\") as f:\n",
    "    for line in f:\n",
    "        print(line, end=\"\")"
   ]
  },
  {
   "cell_type": "code",
   "execution_count": 13,
   "id": "0e9e65a3",
   "metadata": {},
   "outputs": [
    {
     "name": "stdout",
     "output_type": "stream",
     "text": [
      "['print(locals(), globals())\\n', 'import numpy\\n', '\\n', 'print(locals(), globals())\\n', 'from numpy import *\\n', '\\n', 'print(locals(), globals())\\n', 'print(str)\\n']\n"
     ]
    }
   ],
   "source": [
    "with open(\"./variables.py\") as f:\n",
    "    print(f.readlines())"
   ]
  },
  {
   "cell_type": "code",
   "execution_count": 15,
   "id": "0aad78f3",
   "metadata": {},
   "outputs": [
    {
     "name": "stdout",
     "output_type": "stream",
     "text": [
      "riri\n",
      "fifi\n",
      "loulou\n"
     ]
    }
   ],
   "source": [
    "castors = [\"riri\", \"fifi\", \"loulou\"]\n",
    "\n",
    "for castor in castors:\n",
    "    print(castor)"
   ]
  },
  {
   "cell_type": "code",
   "execution_count": 32,
   "id": "8af57c8c",
   "metadata": {},
   "outputs": [
    {
     "name": "stdout",
     "output_type": "stream",
     "text": [
      "loulou\n",
      "fifi\n",
      "riri\n"
     ]
    }
   ],
   "source": [
    "castors = [\"riri\", \"fifi\", \"loulou\"]\n",
    "for castor in reversed(castors):\n",
    "    print(castor)"
   ]
  },
  {
   "cell_type": "code",
   "execution_count": 23,
   "id": "efbf9c89",
   "metadata": {},
   "outputs": [
    {
     "name": "stdout",
     "output_type": "stream",
     "text": [
      "loulou\n",
      "fifi\n",
      "riri\n"
     ]
    }
   ],
   "source": [
    "castors = [\"riri\", \"fifi\", \"loulou\"]\n",
    "castors.reverse()\n",
    "for castor in castors:\n",
    "    print(castor)"
   ]
  },
  {
   "cell_type": "code",
   "execution_count": 25,
   "id": "ada27e87",
   "metadata": {},
   "outputs": [
    {
     "name": "stdout",
     "output_type": "stream",
     "text": [
      "loulou\n",
      "fifi\n",
      "riri\n"
     ]
    }
   ],
   "source": [
    "castors = [\"riri\", \"fifi\", \"loulou\"]\n",
    "for castor in castors[::-1]:\n",
    "    print(castor)"
   ]
  },
  {
   "cell_type": "code",
   "execution_count": 27,
   "id": "ea0b4e54",
   "metadata": {},
   "outputs": [
    {
     "name": "stdout",
     "output_type": "stream",
     "text": [
      "riri\n",
      "fifi\n"
     ]
    }
   ],
   "source": [
    "castors = [\"riri\", \"fifi\", \"loulou\"]\n",
    "for castor in castors[:2]:\n",
    "    print(castor)"
   ]
  },
  {
   "cell_type": "code",
   "execution_count": 28,
   "id": "05d9d115",
   "metadata": {},
   "outputs": [
    {
     "name": "stdout",
     "output_type": "stream",
     "text": [
      "fifi\n",
      "loulou\n"
     ]
    }
   ],
   "source": [
    "castors = [\"riri\", \"fifi\", \"loulou\"]\n",
    "for castor in castors[-2:]:\n",
    "    print(castor)"
   ]
  },
  {
   "cell_type": "code",
   "execution_count": 31,
   "id": "47b0da21",
   "metadata": {},
   "outputs": [
    {
     "name": "stdout",
     "output_type": "stream",
     "text": [
      "45\n",
      "9\n"
     ]
    }
   ],
   "source": [
    "with open(\"./J1.ipynb\"):\n",
    "    for i in range(10):\n",
    "        zertyuhtregjtuyhtfe = i * 5\n",
    "    \n",
    "print(zertyuhtregjtuyhtfe)\n",
    "print(i)"
   ]
  },
  {
   "cell_type": "code",
   "execution_count": 41,
   "id": "4373083c",
   "metadata": {},
   "outputs": [
    {
     "name": "stdout",
     "output_type": "stream",
     "text": [
      "l[0:5]='abcde'\n",
      "l[:5]='abcde'\n",
      "l[-5:len(l)]='vwxyz'\n",
      "l[5:-10:2]='fhjlnp'\n",
      "l[::2]='acegikmoqsuwy'\n",
      "l[1::2]='bdfhjlnprtvxz'\n"
     ]
    }
   ],
   "source": [
    "l = \"abcdefghijklmnopqrstuvwxyz\"\n",
    "print(f\"{l[0:5]=}\")\n",
    "print(f\"{l[:5]=}\")\n",
    "print(f\"{l[-5:len(l)]=}\")\n",
    "print(f\"{l[5:-10:2]=}\")\n",
    "print(f\"{l[::2]=}\")\n",
    "print(f\"{l[1::2]=}\")"
   ]
  },
  {
   "cell_type": "code",
   "execution_count": 42,
   "id": "4848a0eb",
   "metadata": {},
   "outputs": [
    {
     "name": "stdout",
     "output_type": "stream",
     "text": [
      "Match 1 was found at 0-5: 12:59\n",
      "Group 1 found at 0-2: 12\n",
      "Group 2 found at 3-5: 59\n",
      "Match 2 was found at 35-40: 22:54\n",
      "Group 1 found at 35-37: 22\n",
      "Group 2 found at 38-40: 54\n",
      "Match 3 was found at 73-78: 07:52\n",
      "Group 1 found at 73-75: 07\n",
      "Group 2 found at 76-78: 52\n"
     ]
    }
   ],
   "source": [
    "\n",
    "import re\n",
    "\n",
    "regex = r\"([01][0-9]|[2][0-3]):([0-5][0-9])\"\n",
    "\n",
    "test_str = (\"12:59\\n\"\n",
    "\t\"je me suis endormi, il était 22:54 et je me suis réveillé il était 07:52\\n\")\n",
    "\n",
    "matches = re.finditer(regex, test_str)\n",
    "\n",
    "for matchNum, match in enumerate(matches, start=1):\n",
    "    \n",
    "    print (\"Match {matchNum} was found at {start}-{end}: {match}\".format(matchNum = matchNum, start = match.start(), end = match.end(), match = match.group()))\n",
    "    \n",
    "    for groupNum in range(0, len(match.groups())):\n",
    "        groupNum = groupNum + 1\n",
    "        \n",
    "        print (\"Group {groupNum} found at {start}-{end}: {group}\".format(groupNum = groupNum, start = match.start(groupNum), end = match.end(groupNum), group = match.group(groupNum)))\n",
    "\n",
    "# Note: for Python 2.7 compatibility, use ur\"\" to prefix the regex and u\"\" to prefix the test string and substitution."
   ]
  },
  {
   "cell_type": "code",
   "execution_count": 46,
   "id": "0e64b3f4",
   "metadata": {},
   "outputs": [
    {
     "name": "stdout",
     "output_type": "stream",
     "text": [
      "9\n",
      "8\n",
      "7\n",
      "6\n",
      "5\n",
      "4\n",
      "3\n",
      "2\n",
      "1\n",
      "0\n"
     ]
    }
   ],
   "source": [
    "for n in reversed(range(10)):\n",
    "    print(n)"
   ]
  },
  {
   "cell_type": "code",
   "execution_count": 48,
   "id": "5beef9fa",
   "metadata": {},
   "outputs": [
    {
     "data": {
      "text/plain": [
       "[9, 8, 7, 6, 5, 4, 3, 2, 1, 0]"
      ]
     },
     "execution_count": 48,
     "metadata": {},
     "output_type": "execute_result"
    }
   ],
   "source": [
    "list(reversed(range(10)))"
   ]
  },
  {
   "cell_type": "code",
   "execution_count": 114,
   "id": "42887658",
   "metadata": {},
   "outputs": [
    {
     "name": "stdout",
     "output_type": "stream",
     "text": [
      "9999999999\n",
      "9999999998\n",
      "9999999997\n",
      "9999999996\n",
      "9999999995\n",
      "9999999994\n",
      "9999999993\n",
      "9999999992\n",
      "9999999991\n",
      "9999999990\n"
     ]
    }
   ],
   "source": [
    "for _, n in zip(range(10), reversed(range(10_000_000_000))):\n",
    "    print(n)"
   ]
  },
  {
   "cell_type": "code",
   "execution_count": 51,
   "id": "49077deb",
   "metadata": {},
   "outputs": [
    {
     "data": {
      "text/plain": [
       "True"
      ]
     },
     "execution_count": 51,
     "metadata": {},
     "output_type": "execute_result"
    }
   ],
   "source": [
    "5 in range(10)"
   ]
  },
  {
   "cell_type": "code",
   "execution_count": 52,
   "id": "4fc08cee",
   "metadata": {},
   "outputs": [
    {
     "data": {
      "text/plain": [
       "True"
      ]
     },
     "execution_count": 52,
     "metadata": {},
     "output_type": "execute_result"
    }
   ],
   "source": [
    "\"salut\" in \"salut les copains\""
   ]
  },
  {
   "cell_type": "code",
   "execution_count": 61,
   "id": "d1ce7349",
   "metadata": {},
   "outputs": [
    {
     "data": {
      "text/plain": [
       "[(0, 'a'), (1, 'b'), (2, 'c')]"
      ]
     },
     "execution_count": 61,
     "metadata": {},
     "output_type": "execute_result"
    }
   ],
   "source": [
    "list(enumerate([\"a\", \"b\", \"c\"]))"
   ]
  },
  {
   "cell_type": "code",
   "execution_count": 65,
   "id": "6b6bed3b",
   "metadata": {},
   "outputs": [
    {
     "name": "stdout",
     "output_type": "stream",
     "text": [
      "3.2 True <class 'float'> <class 'bool'>\n"
     ]
    }
   ],
   "source": [
    "res, status_code = 3.2, True\n",
    "print(res, status_code, type(res), type(status_code))"
   ]
  },
  {
   "cell_type": "code",
   "execution_count": 66,
   "id": "9ab40f6b",
   "metadata": {},
   "outputs": [],
   "source": [
    "a = 3.2, True\n",
    "res = a[0]\n",
    "status_code = a[1]"
   ]
  },
  {
   "cell_type": "code",
   "execution_count": 87,
   "id": "8bcf8a15",
   "metadata": {},
   "outputs": [
    {
     "name": "stdout",
     "output_type": "stream",
     "text": [
      "0 1 8 9 [2, 3, 4, 5, 6, 7]\n"
     ]
    }
   ],
   "source": [
    "a, b, *_, c, d = range(10)\n",
    "print(a, b, c, d, _)"
   ]
  },
  {
   "cell_type": "code",
   "execution_count": 93,
   "id": "d0ae246b",
   "metadata": {},
   "outputs": [
    {
     "name": "stdout",
     "output_type": "stream",
     "text": [
      "1 2 (3, 4) 4\n"
     ]
    }
   ],
   "source": [
    "a, b, c = (1, 2, (3, 4))\n",
    "print(a, b, c, d)"
   ]
  },
  {
   "cell_type": "code",
   "execution_count": 94,
   "id": "693c4b4d",
   "metadata": {},
   "outputs": [
    {
     "name": "stdout",
     "output_type": "stream",
     "text": [
      "s ['a', 'l', 'u', 't', ' ', 'l', 'e', 's', ' ', 'c', 'o', 'p', 'a', 'i', 'n'] s\n"
     ]
    }
   ],
   "source": [
    "a, *b, c = \"salut les copains\"\n",
    "print(a, b, c)"
   ]
  },
  {
   "cell_type": "code",
   "execution_count": 98,
   "id": "c1478f8d",
   "metadata": {},
   "outputs": [
    {
     "name": "stdout",
     "output_type": "stream",
     "text": [
      "i=0\n",
      "i=1\n",
      "i=2\n",
      "i=3\n",
      "i=4\n",
      "i=5\n",
      "i=6\n",
      "i=7\n",
      "i=8\n",
      "i=9\n",
      "nb=0\n",
      "nb=2\n",
      "nb=4\n",
      "nb=6\n",
      "nb=8\n",
      "nb=10\n",
      "nb=12\n",
      "nb=14\n",
      "nb=16\n",
      "nb=18\n"
     ]
    }
   ],
   "source": [
    "def f():\n",
    "    res = []\n",
    "    for i in range(10):\n",
    "        print(f\"{i=}\")\n",
    "        res.append(i*2)\n",
    "    return res\n",
    "\n",
    "for nb in f():\n",
    "    print(f\"{nb=}\")"
   ]
  },
  {
   "cell_type": "code",
   "execution_count": 101,
   "id": "e38bd07e",
   "metadata": {},
   "outputs": [
    {
     "name": "stdout",
     "output_type": "stream",
     "text": [
      "i=0\n",
      "nb=0\n",
      "nb=0\n",
      "nb=0\n",
      "nb=0\n",
      "i=1\n",
      "nb=1\n",
      "nb=2\n",
      "nb=3\n",
      "nb=4\n",
      "i=2\n",
      "nb=2\n",
      "nb=4\n",
      "nb=6\n",
      "nb=8\n",
      "i=3\n",
      "nb=3\n",
      "nb=6\n",
      "nb=9\n",
      "nb=12\n",
      "i=4\n",
      "nb=4\n",
      "nb=8\n",
      "nb=12\n",
      "nb=16\n",
      "i=5\n",
      "nb=5\n",
      "nb=10\n",
      "nb=15\n",
      "nb=20\n",
      "i=6\n",
      "nb=6\n",
      "nb=12\n",
      "nb=18\n",
      "nb=24\n",
      "i=7\n",
      "nb=7\n",
      "nb=14\n",
      "nb=21\n",
      "nb=28\n",
      "i=8\n",
      "nb=8\n",
      "nb=16\n",
      "nb=24\n",
      "nb=32\n",
      "i=9\n",
      "nb=9\n",
      "nb=18\n",
      "nb=27\n",
      "nb=36\n"
     ]
    }
   ],
   "source": [
    "def f2():\n",
    "    for i in range(10):\n",
    "        print(f\"{i=}\")\n",
    "        yield i\n",
    "        yield i*2\n",
    "        yield i*3\n",
    "        yield i*4\n",
    "\n",
    "for nb in f2():\n",
    "    print(f\"{nb=}\")"
   ]
  },
  {
   "cell_type": "code",
   "execution_count": 105,
   "id": "3378596a",
   "metadata": {},
   "outputs": [],
   "source": [
    "def my_enumerate(iterable):\n",
    "    index = 0\n",
    "    for element in iterable:\n",
    "        yield (index, element)\n",
    "        index += 1"
   ]
  },
  {
   "cell_type": "code",
   "execution_count": 108,
   "id": "131d9498",
   "metadata": {},
   "outputs": [
    {
     "data": {
      "text/plain": [
       "[(0, 10),\n",
       " (1, 11),\n",
       " (2, 12),\n",
       " (3, 13),\n",
       " (4, 14),\n",
       " (5, 15),\n",
       " (6, 16),\n",
       " (7, 17),\n",
       " (8, 18),\n",
       " (9, 19)]"
      ]
     },
     "execution_count": 108,
     "metadata": {},
     "output_type": "execute_result"
    }
   ],
   "source": [
    "list(my_enumerate(range(10, 20)))"
   ]
  },
  {
   "cell_type": "code",
   "execution_count": 111,
   "id": "4581dc32",
   "metadata": {},
   "outputs": [
    {
     "name": "stdout",
     "output_type": "stream",
     "text": [
      "deque([], maxlen=10)\n",
      "deque([0], maxlen=10)\n",
      "deque([0, 1], maxlen=10)\n",
      "deque([0, 1, 2], maxlen=10)\n",
      "deque([0, 1, 2, 3], maxlen=10)\n",
      "deque([0, 1, 2, 3, 4], maxlen=10)\n",
      "deque([0, 1, 2, 3, 4, 5], maxlen=10)\n",
      "deque([0, 1, 2, 3, 4, 5, 6], maxlen=10)\n",
      "deque([0, 1, 2, 3, 4, 5, 6, 7], maxlen=10)\n",
      "deque([0, 1, 2, 3, 4, 5, 6, 7, 8], maxlen=10)\n",
      "deque([0, 1, 2, 3, 4, 5, 6, 7, 8, 9], maxlen=10)\n",
      "deque([1, 2, 3, 4, 5, 6, 7, 8, 9, 10], maxlen=10)\n",
      "deque([2, 3, 4, 5, 6, 7, 8, 9, 10, 11], maxlen=10)\n",
      "deque([3, 4, 5, 6, 7, 8, 9, 10, 11, 12], maxlen=10)\n",
      "deque([4, 5, 6, 7, 8, 9, 10, 11, 12, 13], maxlen=10)\n",
      "deque([5, 6, 7, 8, 9, 10, 11, 12, 13, 14], maxlen=10)\n",
      "deque([6, 7, 8, 9, 10, 11, 12, 13, 14, 15], maxlen=10)\n",
      "deque([7, 8, 9, 10, 11, 12, 13, 14, 15, 16], maxlen=10)\n",
      "deque([8, 9, 10, 11, 12, 13, 14, 15, 16, 17], maxlen=10)\n",
      "deque([9, 10, 11, 12, 13, 14, 15, 16, 17, 18], maxlen=10)\n",
      "fini\n",
      "deque([10, 11, 12, 13, 14, 15, 16, 17, 18, 19], maxlen=10)\n"
     ]
    }
   ],
   "source": [
    "from collections import deque\n",
    "q = deque(maxlen=10)\n",
    "for line in range(20):\n",
    "    print(q)\n",
    "    q.append(line)\n",
    "print(\"fini\")\n",
    "print(q)"
   ]
  },
  {
   "cell_type": "markdown",
   "id": "6e8b0c31",
   "metadata": {},
   "source": [
    "## Rappels matin\n",
    "\n",
    "* exercice Unix\n",
    "* itérateurs \n",
    "    * générateurs / yield \n",
    "    * itertools (islice)\n",
    "    * `zip` / `enumerate` \n",
    "* tuple unpacking \n",
    "* collections \n",
    "    * deque => FIFO "
   ]
  },
  {
   "cell_type": "markdown",
   "id": "e0e4d52f",
   "metadata": {},
   "source": [
    "## Conteneurs"
   ]
  },
  {
   "cell_type": "markdown",
   "id": "c4d1a0b3",
   "metadata": {},
   "source": [
    "### Tuples"
   ]
  },
  {
   "cell_type": "code",
   "execution_count": 116,
   "id": "f988adda",
   "metadata": {},
   "outputs": [
    {
     "name": "stdout",
     "output_type": "stream",
     "text": [
      "(1, 2, 3) <class 'tuple'>\n"
     ]
    }
   ],
   "source": [
    "t = (1, 2, 3)\n",
    "print(t, type(t))"
   ]
  },
  {
   "cell_type": "code",
   "execution_count": 118,
   "id": "87887474",
   "metadata": {},
   "outputs": [
    {
     "ename": "TypeError",
     "evalue": "'tuple' object does not support item assignment",
     "output_type": "error",
     "traceback": [
      "\u001b[0;31m---------------------------------------------------------------------------\u001b[0m",
      "\u001b[0;31mTypeError\u001b[0m                                 Traceback (most recent call last)",
      "Cell \u001b[0;32mIn [118], line 1\u001b[0m\n\u001b[0;32m----> 1\u001b[0m \u001b[43mt\u001b[49m\u001b[43m[\u001b[49m\u001b[38;5;241;43m2\u001b[39;49m\u001b[43m]\u001b[49m \u001b[38;5;241m=\u001b[39m \u001b[38;5;241m4\u001b[39m\n",
      "\u001b[0;31mTypeError\u001b[0m: 'tuple' object does not support item assignment"
     ]
    }
   ],
   "source": [
    "t[2] = 4"
   ]
  },
  {
   "cell_type": "code",
   "execution_count": 119,
   "id": "d6698536",
   "metadata": {},
   "outputs": [
    {
     "name": "stdout",
     "output_type": "stream",
     "text": [
      "(1, 2, 4)\n"
     ]
    }
   ],
   "source": [
    "t = (1, 2, 4)\n",
    "print(t)"
   ]
  },
  {
   "cell_type": "code",
   "execution_count": 137,
   "id": "b3e63265",
   "metadata": {},
   "outputs": [
    {
     "name": "stdout",
     "output_type": "stream",
     "text": [
      "[('Matthieu', 'Falce', 'MFC', 'Formateur')] ('Pierre', 'Masquelier', 'NI', 'stagiaire')\n"
     ]
    }
   ],
   "source": [
    "formation = [\n",
    "    (\"Matthieu\", \"Falce\", \"MFC\", \"Formateur\"),\n",
    "    (\"Pierre\", \"Masquelier\", \"NI\", \"stagiaire\")\n",
    "]\n",
    "derniere_personne = formation.pop()\n",
    "print(formation, derniere_personne)"
   ]
  },
  {
   "cell_type": "code",
   "execution_count": 126,
   "id": "25ee9406",
   "metadata": {},
   "outputs": [
    {
     "data": {
      "text/plain": [
       "array([2, 4, 6])"
      ]
     },
     "execution_count": 126,
     "metadata": {},
     "output_type": "execute_result"
    }
   ],
   "source": [
    "import numpy as np\n",
    "2 * np.array([1, 2, 3])"
   ]
  },
  {
   "cell_type": "code",
   "execution_count": 136,
   "id": "7873cd4b",
   "metadata": {},
   "outputs": [
    {
     "data": {
      "text/plain": [
       "('Matthieu', 'Matthieu')"
      ]
     },
     "execution_count": 136,
     "metadata": {},
     "output_type": "execute_result"
    }
   ],
   "source": [
    "from collections import namedtuple\n",
    "\n",
    "Personne = namedtuple(\"Personne\", [\"prenom\", \"nom\", \"entreprise\", \"status\"])\n",
    "\n",
    "formation = [\n",
    "    Personne(\"Matthieu\", \"Falce\", \"MFC\", \"Formateur\"),\n",
    "    Personne(\"Pierre\", \"Masquelier\", \"NI\", \"stagiaire\")\n",
    "]\n",
    "\n",
    "formation[0][0], formation[0].prenom"
   ]
  },
  {
   "cell_type": "markdown",
   "id": "ca7401c1",
   "metadata": {},
   "source": [
    "### Dictionnaires"
   ]
  },
  {
   "cell_type": "code",
   "execution_count": 145,
   "id": "b2a5de65",
   "metadata": {},
   "outputs": [
    {
     "name": "stdout",
     "output_type": "stream",
     "text": [
      "{'cle': 'valeur', 'rouge': 12, 'vert': 12.4, 'bleu': [256, -1]} <class 'dict'>\n"
     ]
    }
   ],
   "source": [
    "d = {\n",
    "    \"cle\": \"valeur\", \n",
    "    \"rouge\": 12, \n",
    "    \"vert\": 12.4, \n",
    "    \"bleu\": [256, -1],\n",
    "}\n",
    "\n",
    "print(d, type(d))"
   ]
  },
  {
   "cell_type": "code",
   "execution_count": 147,
   "id": "d958c22f",
   "metadata": {},
   "outputs": [
    {
     "name": "stdout",
     "output_type": "stream",
     "text": [
      "{'cle': 'valeur', 'rouge': 4, 'vert': 12.4, 'bleu': [256, -1]}\n"
     ]
    }
   ],
   "source": [
    "d[\"rouge\"] = 4\n",
    "print(d)"
   ]
  },
  {
   "cell_type": "code",
   "execution_count": 148,
   "id": "a7bee545",
   "metadata": {},
   "outputs": [],
   "source": [
    "d[\"ultraviolet\"] = 234"
   ]
  },
  {
   "cell_type": "code",
   "execution_count": 149,
   "id": "f218148b",
   "metadata": {},
   "outputs": [
    {
     "name": "stdout",
     "output_type": "stream",
     "text": [
      "{'cle': 'valeur', 'rouge': 4, 'vert': 12.4, 'bleu': [256, -1], 'ultraviolet': 234}\n"
     ]
    }
   ],
   "source": [
    "print(d)"
   ]
  },
  {
   "cell_type": "code",
   "execution_count": 156,
   "id": "f371da0c",
   "metadata": {},
   "outputs": [
    {
     "name": "stdout",
     "output_type": "stream",
     "text": [
      "False\n",
      "cle 23\n"
     ]
    }
   ],
   "source": [
    "d = {}\n",
    "d[\"cle\"] = 23\n",
    "d[\"cle\"]\n",
    "print(\"toto\" in d)\n",
    "\n",
    "for cle, valeur in d.items():\n",
    "    print(cle, valeur)"
   ]
  },
  {
   "cell_type": "code",
   "execution_count": 176,
   "id": "5477f1ac",
   "metadata": {},
   "outputs": [
    {
     "name": "stdout",
     "output_type": "stream",
     "text": [
      "{'B': 1, 'i': 3, 'e': 6, 'n': 4, 'v': 1, 'u': 3, ' ': 4, 'c': 2, 'h': 2, 'z': 1, 'M': 1, 'a': 2, 't': 3, 'F': 1, 'l': 2, 'C': 1, 'o': 1, 's': 1, 'g': 1}\n"
     ]
    }
   ],
   "source": [
    "sujet = \"Bienvenue chez Matthieu Falce Consulting\"\n",
    "compteur = {}\n",
    "for lettre in sujet:\n",
    "    compteur[lettre] = compteur.get(lettre, 0) + 1\n",
    "\n",
    "print(compteur)"
   ]
  },
  {
   "cell_type": "code",
   "execution_count": 174,
   "id": "2a1da2ab",
   "metadata": {},
   "outputs": [
    {
     "name": "stdout",
     "output_type": "stream",
     "text": [
      "valeur par defaut\n"
     ]
    }
   ],
   "source": [
    "print(d.get(\"'tydfghj'\", \"valeur par defaut\"))"
   ]
  },
  {
   "cell_type": "code",
   "execution_count": 184,
   "id": "ecdc0900",
   "metadata": {},
   "outputs": [
    {
     "name": "stdout",
     "output_type": "stream",
     "text": [
      "1 B\n",
      "3 i\n",
      "6 e\n",
      "4 n\n",
      "1 v\n",
      "3 u\n",
      "4  \n",
      "2 c\n",
      "2 h\n",
      "1 z\n",
      "1 M\n",
      "2 a\n",
      "3 t\n",
      "1 F\n",
      "2 l\n",
      "1 C\n",
      "1 o\n",
      "1 s\n",
      "1 g\n"
     ]
    }
   ],
   "source": [
    "sujet = \"Bienvenue chez Matthieu Falce Consulting\"\n",
    "res = []\n",
    "lettres_deja_vues = []\n",
    "for lettre in sujet:\n",
    "    if lettre in lettres_deja_vues:\n",
    "        continue\n",
    "\n",
    "    res.append(sujet.count(lettre))\n",
    "    lettres_deja_vues.append(lettre)\n",
    "    \n",
    "for count, lettre in zip(res, lettres_deja_vues):\n",
    "    print(count, lettre)"
   ]
  },
  {
   "cell_type": "code",
   "execution_count": 192,
   "id": "4c7664cc",
   "metadata": {},
   "outputs": [
    {
     "name": "stdout",
     "output_type": "stream",
     "text": [
      "{'matthieu': 'toto', 2: 'titi', 2.443: 'tata', (1, 2): 'zoro'}\n"
     ]
    },
    {
     "data": {
      "text/plain": [
       "'zoro'"
      ]
     },
     "execution_count": 192,
     "metadata": {},
     "output_type": "execute_result"
    }
   ],
   "source": [
    "d = {}\n",
    "d[\"matthieu\"] = \"toto\"\n",
    "d[2] = \"titi\"\n",
    "d[2.443] = \"tata\"\n",
    "d[(1, 2)] = \"zoro\"\n",
    "print(d)\n",
    "\n",
    "tmp = (1, 2)\n",
    "d[tmp]"
   ]
  },
  {
   "cell_type": "code",
   "execution_count": 193,
   "id": "0a3aad37",
   "metadata": {},
   "outputs": [
    {
     "ename": "KeyError",
     "evalue": "2.444",
     "output_type": "error",
     "traceback": [
      "\u001b[0;31m---------------------------------------------------------------------------\u001b[0m",
      "\u001b[0;31mKeyError\u001b[0m                                  Traceback (most recent call last)",
      "Cell \u001b[0;32mIn [193], line 1\u001b[0m\n\u001b[0;32m----> 1\u001b[0m \u001b[43md\u001b[49m\u001b[43m[\u001b[49m\u001b[38;5;241;43m2.444\u001b[39;49m\u001b[43m]\u001b[49m\n",
      "\u001b[0;31mKeyError\u001b[0m: 2.444"
     ]
    }
   ],
   "source": [
    "d[2.444]"
   ]
  },
  {
   "cell_type": "code",
   "execution_count": 221,
   "id": "e606e5a3",
   "metadata": {},
   "outputs": [],
   "source": [
    "def g(a, b, *args):\n",
    "    print(\"a\", a)\n",
    "    print(\"b\", b)\n",
    "    #print(\"args\", args)\n",
    "    print(\"-------\")"
   ]
  },
  {
   "cell_type": "code",
   "execution_count": 222,
   "id": "b20dcdcd",
   "metadata": {},
   "outputs": [
    {
     "name": "stdout",
     "output_type": "stream",
     "text": [
      "a 1\n",
      "b 2\n",
      "-------\n"
     ]
    }
   ],
   "source": [
    "g(1, 2)"
   ]
  },
  {
   "cell_type": "code",
   "execution_count": 223,
   "id": "bded61af",
   "metadata": {},
   "outputs": [
    {
     "name": "stdout",
     "output_type": "stream",
     "text": [
      "a 1\n",
      "b 2\n",
      "-------\n"
     ]
    }
   ],
   "source": [
    "l = (1, 2)\n",
    "g(*l)"
   ]
  },
  {
   "cell_type": "code",
   "execution_count": 224,
   "id": "adbb5dab",
   "metadata": {},
   "outputs": [],
   "source": [
    "def g(a, b, **kwargs):\n",
    "    print(\"a\", a)\n",
    "    print(\"b\", b)\n",
    "    print(\"kwargs\", kwargs)\n",
    "    print(\"-------\")"
   ]
  },
  {
   "cell_type": "code",
   "execution_count": 228,
   "id": "80b84af6",
   "metadata": {},
   "outputs": [
    {
     "name": "stdout",
     "output_type": "stream",
     "text": [
      "a 2\n",
      "b 1\n",
      "kwargs {'d': [3, 3]}\n",
      "-------\n"
     ]
    }
   ],
   "source": [
    "g(b=1, a=2, d=[3, 3])"
   ]
  },
  {
   "cell_type": "code",
   "execution_count": null,
   "id": "d780aa75",
   "metadata": {},
   "outputs": [],
   "source": []
  }
 ],
 "metadata": {
  "kernelspec": {
   "display_name": "Python 3 (ipykernel)",
   "language": "python",
   "name": "python3"
  },
  "language_info": {
   "codemirror_mode": {
    "name": "ipython",
    "version": 3
   },
   "file_extension": ".py",
   "mimetype": "text/x-python",
   "name": "python",
   "nbconvert_exporter": "python",
   "pygments_lexer": "ipython3",
   "version": "3.9.9"
  }
 },
 "nbformat": 4,
 "nbformat_minor": 5
}

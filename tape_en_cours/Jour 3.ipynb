{
 "cells": [
  {
   "cell_type": "markdown",
   "id": "f919d3aa",
   "metadata": {},
   "source": [
    "# Jour 3 \n",
    "\n",
    "## Rappel du jour 2 \n",
    "\n",
    "* conteneurs \n",
    "    * listes \n",
    "    * indexation : [index_a_acceder]\n",
    "    * slicing : [debut:fin]\n",
    "* fichiers \n",
    "    * ouverture \n",
    "    * lecture / écriture \n",
    "    * fermeture \n",
    "    * utilisation des contexts managers (`with`)\n",
    "* exceptions \n",
    "    * familles d'exceptions \n",
    "    * mots clés (`try` / `except` / `else` / `finally`)\n",
    "* mécanismes d'import\n",
    "    * on peut importer tout un module (namespace)\n",
    "    * on peut importer une chose d'un module (`from ... import ...`)\n",
    "    * on peut renommer (pour éviter des conflits de nommages / pour être plus explicite) avec `as`\n",
    "* modules de données (json / CSV)"
   ]
  },
  {
   "cell_type": "code",
   "execution_count": 11,
   "id": "3f51fe55",
   "metadata": {},
   "outputs": [
    {
     "name": "stdout",
     "output_type": "stream",
     "text": [
      "dans try\n",
      "dans except\n",
      "dans finally\n"
     ]
    },
    {
     "ename": "ZeroDivisionError",
     "evalue": "division by zero",
     "output_type": "error",
     "traceback": [
      "\u001b[0;31m---------------------------------------------------------------------------\u001b[0m",
      "\u001b[0;31mZeroDivisionError\u001b[0m                         Traceback (most recent call last)",
      "Cell \u001b[0;32mIn [11], line 5\u001b[0m\n\u001b[1;32m      4\u001b[0m     \u001b[38;5;28mprint\u001b[39m(\u001b[38;5;124m\"\u001b[39m\u001b[38;5;124mdans try\u001b[39m\u001b[38;5;124m\"\u001b[39m)\n\u001b[0;32m----> 5\u001b[0m     \u001b[38;5;241;43m1\u001b[39;49m\u001b[38;5;241;43m/\u001b[39;49m\u001b[38;5;241;43m0\u001b[39;49m\n\u001b[1;32m      6\u001b[0m \u001b[38;5;28;01mexcept\u001b[39;00m:\n",
      "\u001b[0;31mZeroDivisionError\u001b[0m: division by zero",
      "\nDuring handling of the above exception, another exception occurred:\n",
      "\u001b[0;31mZeroDivisionError\u001b[0m                         Traceback (most recent call last)",
      "Cell \u001b[0;32mIn [11], line 8\u001b[0m\n\u001b[1;32m      6\u001b[0m \u001b[38;5;28;01mexcept\u001b[39;00m:\n\u001b[1;32m      7\u001b[0m     \u001b[38;5;28mprint\u001b[39m(\u001b[38;5;124m\"\u001b[39m\u001b[38;5;124mdans except\u001b[39m\u001b[38;5;124m\"\u001b[39m)\n\u001b[0;32m----> 8\u001b[0m     \u001b[38;5;241;43m1\u001b[39;49m\u001b[38;5;241;43m/\u001b[39;49m\u001b[38;5;241;43m0\u001b[39;49m\n\u001b[1;32m      9\u001b[0m \u001b[38;5;28;01melse\u001b[39;00m:\n\u001b[1;32m     10\u001b[0m     \u001b[38;5;28mprint\u001b[39m(\u001b[38;5;124m\"\u001b[39m\u001b[38;5;124mdans else\u001b[39m\u001b[38;5;124m\"\u001b[39m)\n",
      "\u001b[0;31mZeroDivisionError\u001b[0m: division by zero"
     ]
    }
   ],
   "source": [
    "try:\n",
    "    f = open(\"texte.csv\")\n",
    "    f.read()\n",
    "    print(\"dans try\")\n",
    "    1/0\n",
    "except:\n",
    "    print(\"dans except\")\n",
    "    1/0\n",
    "else:\n",
    "    print(\"dans else\")\n",
    "finally:\n",
    "    print(\"dans finally\")\n",
    "    f.close()    "
   ]
  },
  {
   "cell_type": "code",
   "execution_count": 12,
   "id": "07fd7b0f",
   "metadata": {},
   "outputs": [
    {
     "name": "stdout",
     "output_type": "stream",
     "text": [
      "print(locals(), globals())\n",
      "import numpy\n",
      "\n",
      "print(locals(), globals())\n",
      "from numpy import *\n",
      "\n",
      "print(locals(), globals())\n",
      "print(str)\n"
     ]
    }
   ],
   "source": [
    "with open(\"./variables.py\") as f:\n",
    "    for line in f:\n",
    "        print(line, end=\"\")"
   ]
  },
  {
   "cell_type": "code",
   "execution_count": 13,
   "id": "0ea7b47c",
   "metadata": {},
   "outputs": [
    {
     "name": "stdout",
     "output_type": "stream",
     "text": [
      "['print(locals(), globals())\\n', 'import numpy\\n', '\\n', 'print(locals(), globals())\\n', 'from numpy import *\\n', '\\n', 'print(locals(), globals())\\n', 'print(str)\\n']\n"
     ]
    }
   ],
   "source": [
    "with open(\"./variables.py\") as f:\n",
    "    print(f.readlines())"
   ]
  },
  {
   "cell_type": "code",
   "execution_count": 15,
   "id": "7a70bbae",
   "metadata": {},
   "outputs": [
    {
     "name": "stdout",
     "output_type": "stream",
     "text": [
      "riri\n",
      "fifi\n",
      "loulou\n"
     ]
    }
   ],
   "source": [
    "castors = [\"riri\", \"fifi\", \"loulou\"]\n",
    "\n",
    "for castor in castors:\n",
    "    print(castor)"
   ]
  },
  {
   "cell_type": "code",
   "execution_count": 32,
   "id": "c5f454fa",
   "metadata": {},
   "outputs": [
    {
     "name": "stdout",
     "output_type": "stream",
     "text": [
      "loulou\n",
      "fifi\n",
      "riri\n"
     ]
    }
   ],
   "source": [
    "castors = [\"riri\", \"fifi\", \"loulou\"]\n",
    "for castor in reversed(castors):\n",
    "    print(castor)"
   ]
  },
  {
   "cell_type": "code",
   "execution_count": 23,
   "id": "78e0a1a2",
   "metadata": {},
   "outputs": [
    {
     "name": "stdout",
     "output_type": "stream",
     "text": [
      "loulou\n",
      "fifi\n",
      "riri\n"
     ]
    }
   ],
   "source": [
    "castors = [\"riri\", \"fifi\", \"loulou\"]\n",
    "castors.reverse()\n",
    "for castor in castors:\n",
    "    print(castor)"
   ]
  },
  {
   "cell_type": "code",
   "execution_count": 25,
   "id": "d20eed3c",
   "metadata": {},
   "outputs": [
    {
     "name": "stdout",
     "output_type": "stream",
     "text": [
      "loulou\n",
      "fifi\n",
      "riri\n"
     ]
    }
   ],
   "source": [
    "castors = [\"riri\", \"fifi\", \"loulou\"]\n",
    "for castor in castors[::-1]:\n",
    "    print(castor)"
   ]
  },
  {
   "cell_type": "code",
   "execution_count": 27,
   "id": "83c93cfd",
   "metadata": {},
   "outputs": [
    {
     "name": "stdout",
     "output_type": "stream",
     "text": [
      "riri\n",
      "fifi\n"
     ]
    }
   ],
   "source": [
    "castors = [\"riri\", \"fifi\", \"loulou\"]\n",
    "for castor in castors[:2]:\n",
    "    print(castor)"
   ]
  },
  {
   "cell_type": "code",
   "execution_count": 28,
   "id": "5ef29149",
   "metadata": {},
   "outputs": [
    {
     "name": "stdout",
     "output_type": "stream",
     "text": [
      "fifi\n",
      "loulou\n"
     ]
    }
   ],
   "source": [
    "castors = [\"riri\", \"fifi\", \"loulou\"]\n",
    "for castor in castors[-2:]:\n",
    "    print(castor)"
   ]
  },
  {
   "cell_type": "code",
   "execution_count": 31,
   "id": "d2ba6bd6",
   "metadata": {},
   "outputs": [
    {
     "name": "stdout",
     "output_type": "stream",
     "text": [
      "45\n",
      "9\n"
     ]
    }
   ],
   "source": [
    "with open(\"./J1.ipynb\"):\n",
    "    for i in range(10):\n",
    "        zertyuhtregjtuyhtfe = i * 5\n",
    "    \n",
    "print(zertyuhtregjtuyhtfe)\n",
    "print(i)"
   ]
  },
  {
   "cell_type": "code",
   "execution_count": 38,
   "id": "44425372",
   "metadata": {},
   "outputs": [
    {
     "name": "stdout",
     "output_type": "stream",
     "text": [
      "l[0:5]='abcde'\n",
      "l[:5]='abcde'\n",
      "l[-5:len(l)]='vwxyz'\n",
      "l[5:-10]='fghijklmnop'\n"
     ]
    }
   ],
   "source": [
    "l = \"abcdefghijklmnopqrstuvwxyz\"\n",
    "print(f\"{l[0:5]=}\")\n",
    "print(f\"{l[:5]=}\")\n",
    "print(f\"{l[-5:len(l)]=}\")\n",
    "print(f\"{l[5:-10]=}\")"
   ]
  },
  {
   "cell_type": "code",
   "execution_count": null,
   "id": "dcff62e4",
   "metadata": {},
   "outputs": [],
   "source": []
  }
 ],
 "metadata": {
  "kernelspec": {
   "display_name": "Python 3 (ipykernel)",
   "language": "python",
   "name": "python3"
  },
  "language_info": {
   "codemirror_mode": {
    "name": "ipython",
    "version": 3
   },
   "file_extension": ".py",
   "mimetype": "text/x-python",
   "name": "python",
   "nbconvert_exporter": "python",
   "pygments_lexer": "ipython3",
   "version": "3.9.9"
  }
 },
 "nbformat": 4,
 "nbformat_minor": 5
}

{
 "cells": [
  {
   "cell_type": "markdown",
   "id": "034251ed",
   "metadata": {},
   "source": [
    "# Appeler des commandes système"
   ]
  },
  {
   "cell_type": "code",
   "execution_count": 2,
   "id": "8bfefe93",
   "metadata": {},
   "outputs": [],
   "source": [
    "a = !ls -la"
   ]
  },
  {
   "cell_type": "code",
   "execution_count": 12,
   "id": "8c4a3097",
   "metadata": {},
   "outputs": [
    {
     "name": "stdout",
     "output_type": "stream",
     "text": [
      "mfalce\n"
     ]
    },
    {
     "data": {
      "text/plain": [
       "0"
      ]
     },
     "execution_count": 12,
     "metadata": {},
     "output_type": "execute_result"
    }
   ],
   "source": [
    "import os \n",
    "\n",
    "os.system(\"echo $USER\")"
   ]
  },
  {
   "cell_type": "code",
   "execution_count": 36,
   "id": "2f6736f8",
   "metadata": {},
   "outputs": [],
   "source": [
    "import subprocess\n",
    "\n",
    "sub = subprocess.run([\"bash\", \"-c\", \"ls /usr/bin | grep python\"], capture_output=True)"
   ]
  },
  {
   "cell_type": "code",
   "execution_count": 41,
   "id": "a015006c",
   "metadata": {},
   "outputs": [
    {
     "name": "stdout",
     "output_type": "stream",
     "text": [
      "depythontex\n"
     ]
    }
   ],
   "source": [
    "print(sub.stdout.decode(\"utf8\").split(\"\\n\")[2])"
   ]
  },
  {
   "cell_type": "markdown",
   "id": "370aa54b",
   "metadata": {},
   "source": [
    "# Rappel des épisodes précédents \n",
    "\n",
    "* fonctions \n",
    "    * portées de variables \n",
    "    * closures \n",
    "    * les fonctions sont des objets \n",
    "* "
   ]
  },
  {
   "cell_type": "code",
   "execution_count": 42,
   "id": "6646a08a",
   "metadata": {},
   "outputs": [],
   "source": [
    "f = print"
   ]
  },
  {
   "cell_type": "code",
   "execution_count": 43,
   "id": "42fb2247",
   "metadata": {},
   "outputs": [
    {
     "name": "stdout",
     "output_type": "stream",
     "text": [
      "salut\n"
     ]
    }
   ],
   "source": [
    "f(\"salut\")"
   ]
  },
  {
   "cell_type": "code",
   "execution_count": 45,
   "id": "1032115b",
   "metadata": {},
   "outputs": [
    {
     "name": "stdout",
     "output_type": "stream",
     "text": [
      "print(value, ..., sep=' ', end='\\n', file=sys.stdout, flush=False)\n",
      "\n",
      "Prints the values to a stream, or to sys.stdout by default.\n",
      "Optional keyword arguments:\n",
      "file:  a file-like object (stream); defaults to the current sys.stdout.\n",
      "sep:   string inserted between values, default a space.\n",
      "end:   string appended after the last value, default a newline.\n",
      "flush: whether to forcibly flush the stream.\n"
     ]
    }
   ],
   "source": []
  },
  {
   "cell_type": "code",
   "execution_count": null,
   "id": "34fee027",
   "metadata": {},
   "outputs": [],
   "source": []
  }
 ],
 "metadata": {
  "kernelspec": {
   "display_name": "Python 3 (ipykernel)",
   "language": "python",
   "name": "python3"
  },
  "language_info": {
   "codemirror_mode": {
    "name": "ipython",
    "version": 3
   },
   "file_extension": ".py",
   "mimetype": "text/x-python",
   "name": "python",
   "nbconvert_exporter": "python",
   "pygments_lexer": "ipython3",
   "version": "3.9.9"
  }
 },
 "nbformat": 4,
 "nbformat_minor": 5
}

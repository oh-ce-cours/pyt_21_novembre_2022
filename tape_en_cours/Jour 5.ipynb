{
 "cells": [
  {
   "cell_type": "markdown",
   "id": "d18f68fb",
   "metadata": {},
   "source": [
    "# Appeler des commandes système"
   ]
  },
  {
   "cell_type": "code",
   "execution_count": 2,
   "id": "31f478b2",
   "metadata": {},
   "outputs": [],
   "source": [
    "a = !ls -la"
   ]
  },
  {
   "cell_type": "code",
   "execution_count": 12,
   "id": "01c89dc8",
   "metadata": {},
   "outputs": [
    {
     "name": "stdout",
     "output_type": "stream",
     "text": [
      "mfalce\n"
     ]
    },
    {
     "data": {
      "text/plain": [
       "0"
      ]
     },
     "execution_count": 12,
     "metadata": {},
     "output_type": "execute_result"
    }
   ],
   "source": [
    "import os \n",
    "\n",
    "os.system(\"echo $USER\")"
   ]
  },
  {
   "cell_type": "code",
   "execution_count": 36,
   "id": "a175bd6c",
   "metadata": {},
   "outputs": [],
   "source": [
    "import subprocess\n",
    "\n",
    "sub = subprocess.run([\"bash\", \"-c\", \"ls /usr/bin | grep python\"], capture_output=True)"
   ]
  },
  {
   "cell_type": "code",
   "execution_count": 41,
   "id": "84833ca6",
   "metadata": {},
   "outputs": [
    {
     "name": "stdout",
     "output_type": "stream",
     "text": [
      "depythontex\n"
     ]
    }
   ],
   "source": [
    "print(sub.stdout.decode(\"utf8\").split(\"\\n\")[2])"
   ]
  },
  {
   "cell_type": "markdown",
   "id": "8ce7dac5",
   "metadata": {},
   "source": [
    "# Rappel des épisodes précédents \n",
    "\n",
    "* fonctions \n",
    "    * portées de variables \n",
    "    * closures \n",
    "    * les fonctions sont des objets \n",
    "* mise en cache (module functools)\n",
    "* POO\n",
    "    * l'attribut stocke un état, la méthode de le modifier"
   ]
  },
  {
   "cell_type": "code",
   "execution_count": 42,
   "id": "5cfd6d63",
   "metadata": {},
   "outputs": [],
   "source": [
    "f = print"
   ]
  },
  {
   "cell_type": "code",
   "execution_count": 43,
   "id": "a17c8325",
   "metadata": {},
   "outputs": [
    {
     "name": "stdout",
     "output_type": "stream",
     "text": [
      "salut\n"
     ]
    }
   ],
   "source": [
    "f(\"salut\")"
   ]
  },
  {
   "cell_type": "code",
   "execution_count": 48,
   "id": "8f13dcfc",
   "metadata": {},
   "outputs": [
    {
     "data": {
      "text/plain": [
       "(140631238943744, 140631239158128)"
      ]
     },
     "execution_count": 48,
     "metadata": {},
     "output_type": "execute_result"
    }
   ],
   "source": [
    "id(f), id(print)"
   ]
  },
  {
   "cell_type": "code",
   "execution_count": 49,
   "id": "d58eadec",
   "metadata": {},
   "outputs": [
    {
     "ename": "TypeError",
     "evalue": "'int' object is not callable",
     "output_type": "error",
     "traceback": [
      "\u001b[0;31m---------------------------------------------------------------------------\u001b[0m",
      "\u001b[0;31mTypeError\u001b[0m                                 Traceback (most recent call last)",
      "Cell \u001b[0;32mIn [49], line 1\u001b[0m\n\u001b[0;32m----> 1\u001b[0m \u001b[38;5;28;43mprint\u001b[39;49m\u001b[43m(\u001b[49m\u001b[38;5;124;43m\"\u001b[39;49m\u001b[38;5;124;43mtoto\u001b[39;49m\u001b[38;5;124;43m\"\u001b[39;49m\u001b[43m)\u001b[49m\n",
      "\u001b[0;31mTypeError\u001b[0m: 'int' object is not callable"
     ]
    }
   ],
   "source": [
    "print(\"toto\")"
   ]
  },
  {
   "cell_type": "code",
   "execution_count": 50,
   "id": "4435615e",
   "metadata": {},
   "outputs": [],
   "source": [
    "print = f"
   ]
  },
  {
   "cell_type": "code",
   "execution_count": 51,
   "id": "81e6e3fd",
   "metadata": {},
   "outputs": [
    {
     "name": "stdout",
     "output_type": "stream",
     "text": [
      "toto\n"
     ]
    }
   ],
   "source": [
    "print(\"toto\")"
   ]
  },
  {
   "cell_type": "code",
   "execution_count": null,
   "id": "bc84a052",
   "metadata": {},
   "outputs": [],
   "source": []
  }
 ],
 "metadata": {
  "kernelspec": {
   "display_name": "Python 3 (ipykernel)",
   "language": "python",
   "name": "python3"
  },
  "language_info": {
   "codemirror_mode": {
    "name": "ipython",
    "version": 3
   },
   "file_extension": ".py",
   "mimetype": "text/x-python",
   "name": "python",
   "nbconvert_exporter": "python",
   "pygments_lexer": "ipython3",
   "version": "3.9.9"
  }
 },
 "nbformat": 4,
 "nbformat_minor": 5
}

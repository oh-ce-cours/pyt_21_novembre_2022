{
 "cells": [
  {
   "cell_type": "markdown",
   "id": "f255569e",
   "metadata": {},
   "source": [
    "# Appeler des commandes système"
   ]
  },
  {
   "cell_type": "code",
   "execution_count": 2,
   "id": "468e3b24",
   "metadata": {},
   "outputs": [],
   "source": [
    "a = !ls -la"
   ]
  },
  {
   "cell_type": "code",
   "execution_count": 12,
   "id": "7e0fd117",
   "metadata": {},
   "outputs": [
    {
     "name": "stdout",
     "output_type": "stream",
     "text": [
      "mfalce\n"
     ]
    },
    {
     "data": {
      "text/plain": [
       "0"
      ]
     },
     "execution_count": 12,
     "metadata": {},
     "output_type": "execute_result"
    }
   ],
   "source": [
    "import os \n",
    "\n",
    "os.system(\"echo $USER\")"
   ]
  },
  {
   "cell_type": "code",
   "execution_count": 36,
   "id": "bffdbfdb",
   "metadata": {},
   "outputs": [],
   "source": [
    "import subprocess\n",
    "\n",
    "sub = subprocess.run([\"bash\", \"-c\", \"ls /usr/bin | grep python\"], capture_output=True)"
   ]
  },
  {
   "cell_type": "code",
   "execution_count": 41,
   "id": "69cd0845",
   "metadata": {},
   "outputs": [
    {
     "name": "stdout",
     "output_type": "stream",
     "text": [
      "depythontex\n"
     ]
    }
   ],
   "source": [
    "print(sub.stdout.decode(\"utf8\").split(\"\\n\")[2])"
   ]
  },
  {
   "cell_type": "markdown",
   "id": "e4da6366",
   "metadata": {},
   "source": [
    "# Rappel des épisodes précédents \n",
    "\n",
    "* fonctions \n",
    "    * portées de variables \n",
    "    * closures \n",
    "    * les fonctions sont des objets \n",
    "* mise en cache (module functools)\n",
    "* POO\n",
    "    * l'attribut stocke un état, la méthode de le modifier"
   ]
  },
  {
   "cell_type": "code",
   "execution_count": 42,
   "id": "5b2cf614",
   "metadata": {},
   "outputs": [],
   "source": [
    "f = print"
   ]
  },
  {
   "cell_type": "code",
   "execution_count": 43,
   "id": "6c7d6b00",
   "metadata": {},
   "outputs": [
    {
     "name": "stdout",
     "output_type": "stream",
     "text": [
      "salut\n"
     ]
    }
   ],
   "source": [
    "f(\"salut\")"
   ]
  },
  {
   "cell_type": "code",
   "execution_count": 48,
   "id": "fcc9fcfa",
   "metadata": {},
   "outputs": [
    {
     "data": {
      "text/plain": [
       "(140631238943744, 140631239158128)"
      ]
     },
     "execution_count": 48,
     "metadata": {},
     "output_type": "execute_result"
    }
   ],
   "source": [
    "id(f), id(print)"
   ]
  },
  {
   "cell_type": "code",
   "execution_count": 49,
   "id": "a054f5a4",
   "metadata": {},
   "outputs": [
    {
     "ename": "TypeError",
     "evalue": "'int' object is not callable",
     "output_type": "error",
     "traceback": [
      "\u001b[0;31m---------------------------------------------------------------------------\u001b[0m",
      "\u001b[0;31mTypeError\u001b[0m                                 Traceback (most recent call last)",
      "Cell \u001b[0;32mIn [49], line 1\u001b[0m\n\u001b[0;32m----> 1\u001b[0m \u001b[38;5;28;43mprint\u001b[39;49m\u001b[43m(\u001b[49m\u001b[38;5;124;43m\"\u001b[39;49m\u001b[38;5;124;43mtoto\u001b[39;49m\u001b[38;5;124;43m\"\u001b[39;49m\u001b[43m)\u001b[49m\n",
      "\u001b[0;31mTypeError\u001b[0m: 'int' object is not callable"
     ]
    }
   ],
   "source": [
    "print(\"toto\")"
   ]
  },
  {
   "cell_type": "code",
   "execution_count": 50,
   "id": "50438845",
   "metadata": {},
   "outputs": [],
   "source": [
    "print = f"
   ]
  },
  {
   "cell_type": "code",
   "execution_count": 51,
   "id": "4387ab89",
   "metadata": {},
   "outputs": [
    {
     "name": "stdout",
     "output_type": "stream",
     "text": [
      "toto\n"
     ]
    }
   ],
   "source": [
    "print(\"toto\")"
   ]
  },
  {
   "cell_type": "code",
   "execution_count": 52,
   "id": "fa92c617",
   "metadata": {},
   "outputs": [],
   "source": [
    "class Exemple:\n",
    "    def __init__(self):\n",
    "        self.x = 1\n",
    "        self._x = 2\n",
    "        self.__x = 3"
   ]
  },
  {
   "cell_type": "code",
   "execution_count": 55,
   "id": "c94b3716",
   "metadata": {},
   "outputs": [
    {
     "name": "stdout",
     "output_type": "stream",
     "text": [
      "1\n",
      "toto\n"
     ]
    }
   ],
   "source": [
    "e = Exemple()\n",
    "print(e.x)\n",
    "e.x = \"toto\"\n",
    "print(e.x)"
   ]
  },
  {
   "cell_type": "code",
   "execution_count": 57,
   "id": "e0ae15ff",
   "metadata": {},
   "outputs": [
    {
     "name": "stdout",
     "output_type": "stream",
     "text": [
      "2\n",
      "toto\n"
     ]
    }
   ],
   "source": [
    "e = Exemple()\n",
    "print(e._x)\n",
    "e._x = \"toto\"\n",
    "print(e._x)"
   ]
  },
  {
   "cell_type": "code",
   "execution_count": null,
   "id": "a3c776d6",
   "metadata": {},
   "outputs": [],
   "source": [
    "e = Exemple()\n",
    "print(e.__x)\n"
   ]
  }
 ],
 "metadata": {
  "kernelspec": {
   "display_name": "Python 3 (ipykernel)",
   "language": "python",
   "name": "python3"
  },
  "language_info": {
   "codemirror_mode": {
    "name": "ipython",
    "version": 3
   },
   "file_extension": ".py",
   "mimetype": "text/x-python",
   "name": "python",
   "nbconvert_exporter": "python",
   "pygments_lexer": "ipython3",
   "version": "3.9.9"
  }
 },
 "nbformat": 4,
 "nbformat_minor": 5
}

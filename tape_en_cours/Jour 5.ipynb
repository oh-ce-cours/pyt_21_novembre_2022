{
 "cells": [
  {
   "cell_type": "markdown",
   "id": "bbcb9116",
   "metadata": {},
   "source": [
    "# Appeler des commandes système"
   ]
  },
  {
   "cell_type": "code",
   "execution_count": 2,
   "id": "831aaa98",
   "metadata": {},
   "outputs": [],
   "source": [
    "a = !ls -la"
   ]
  },
  {
   "cell_type": "code",
   "execution_count": 12,
   "id": "8474016a",
   "metadata": {},
   "outputs": [
    {
     "name": "stdout",
     "output_type": "stream",
     "text": [
      "mfalce\n"
     ]
    },
    {
     "data": {
      "text/plain": [
       "0"
      ]
     },
     "execution_count": 12,
     "metadata": {},
     "output_type": "execute_result"
    }
   ],
   "source": [
    "import os \n",
    "\n",
    "os.system(\"echo $USER\")"
   ]
  },
  {
   "cell_type": "code",
   "execution_count": 14,
   "id": "1a0afe07",
   "metadata": {},
   "outputs": [
    {
     "name": "stdout",
     "output_type": "stream",
     "text": [
      "$USER\n"
     ]
    },
    {
     "data": {
      "text/plain": [
       "<Popen: returncode: None args: ['echo', '$USER']>"
      ]
     },
     "execution_count": 14,
     "metadata": {},
     "output_type": "execute_result"
    }
   ],
   "source": [
    "import subprocess\n",
    "\n",
    "p = subprocess.Popen([\"echo\", \"$USER\"])\n"
   ]
  },
  {
   "cell_type": "code",
   "execution_count": null,
   "id": "8e81a010",
   "metadata": {},
   "outputs": [],
   "source": []
  }
 ],
 "metadata": {
  "kernelspec": {
   "display_name": "Python 3 (ipykernel)",
   "language": "python",
   "name": "python3"
  },
  "language_info": {
   "codemirror_mode": {
    "name": "ipython",
    "version": 3
   },
   "file_extension": ".py",
   "mimetype": "text/x-python",
   "name": "python",
   "nbconvert_exporter": "python",
   "pygments_lexer": "ipython3",
   "version": "3.9.9"
  }
 },
 "nbformat": 4,
 "nbformat_minor": 5
}

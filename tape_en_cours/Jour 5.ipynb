{
 "cells": [
  {
   "cell_type": "markdown",
   "id": "279097b0",
   "metadata": {},
   "source": [
    "# Appeler des commandes système"
   ]
  },
  {
   "cell_type": "code",
   "execution_count": 2,
   "id": "16fa2557",
   "metadata": {},
   "outputs": [],
   "source": [
    "a = !ls -la"
   ]
  },
  {
   "cell_type": "code",
   "execution_count": 12,
   "id": "d515b3e4",
   "metadata": {},
   "outputs": [
    {
     "name": "stdout",
     "output_type": "stream",
     "text": [
      "mfalce\n"
     ]
    },
    {
     "data": {
      "text/plain": [
       "0"
      ]
     },
     "execution_count": 12,
     "metadata": {},
     "output_type": "execute_result"
    }
   ],
   "source": [
    "import os \n",
    "\n",
    "os.system(\"echo $USER\")"
   ]
  },
  {
   "cell_type": "code",
   "execution_count": 28,
   "id": "374e7892",
   "metadata": {},
   "outputs": [],
   "source": [
    "import subprocess\n",
    "\n",
    "sub = subprocess.run([\"hd\", \"\"], capture_output=True)"
   ]
  },
  {
   "cell_type": "code",
   "execution_count": 34,
   "id": "1d0c27f2",
   "metadata": {},
   "outputs": [
    {
     "data": {
      "text/plain": [
       "['abrt-action-analyze-python',\n",
       " 'activate-global-python-argcomplete',\n",
       " 'depythontex',\n",
       " 'python',\n",
       " 'python2',\n",
       " 'python2.7',\n",
       " 'python2.7-config',\n",
       " 'python2-config',\n",
       " 'python3',\n",
       " 'python3.10',\n",
       " 'python3.10-config',\n",
       " 'python3.10-x86_64-config',\n",
       " 'python3.6',\n",
       " 'python3.6-config',\n",
       " 'python3.6m',\n",
       " 'python3.6m-config',\n",
       " 'python3.6m-x86_64-config',\n",
       " 'python3.9',\n",
       " 'python3.9-config',\n",
       " 'python3.9-x86_64-config',\n",
       " 'python3-config',\n",
       " 'python3-pykwalify',\n",
       " 'python-argcomplete-check-easy-install-script',\n",
       " 'python-argcomplete-tcsh',\n",
       " 'python-config',\n",
       " 'pythontex',\n",
       " 'register-python-argcomplete',\n",
       " '']"
      ]
     },
     "execution_count": 34,
     "metadata": {},
     "output_type": "execute_result"
    }
   ],
   "source": [
    "sub.stdout.decode(\"utf8\").split(\"\\n\")"
   ]
  },
  {
   "cell_type": "code",
   "execution_count": null,
   "id": "90d2baef",
   "metadata": {},
   "outputs": [],
   "source": []
  }
 ],
 "metadata": {
  "kernelspec": {
   "display_name": "Python 3 (ipykernel)",
   "language": "python",
   "name": "python3"
  },
  "language_info": {
   "codemirror_mode": {
    "name": "ipython",
    "version": 3
   },
   "file_extension": ".py",
   "mimetype": "text/x-python",
   "name": "python",
   "nbconvert_exporter": "python",
   "pygments_lexer": "ipython3",
   "version": "3.9.9"
  }
 },
 "nbformat": 4,
 "nbformat_minor": 5
}

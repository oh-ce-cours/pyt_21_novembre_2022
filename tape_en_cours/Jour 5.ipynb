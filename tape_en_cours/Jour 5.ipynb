{
 "cells": [
  {
   "cell_type": "markdown",
   "id": "89bb3f94",
   "metadata": {},
   "source": [
    "# Appeler des commandes système"
   ]
  },
  {
   "cell_type": "code",
   "execution_count": 2,
   "id": "f3972843",
   "metadata": {},
   "outputs": [],
   "source": [
    "a = !ls -la"
   ]
  },
  {
   "cell_type": "code",
   "execution_count": 12,
   "id": "4f7510bd",
   "metadata": {},
   "outputs": [
    {
     "name": "stdout",
     "output_type": "stream",
     "text": [
      "mfalce\n"
     ]
    },
    {
     "data": {
      "text/plain": [
       "0"
      ]
     },
     "execution_count": 12,
     "metadata": {},
     "output_type": "execute_result"
    }
   ],
   "source": [
    "import os \n",
    "\n",
    "os.system(\"echo $USER\")"
   ]
  },
  {
   "cell_type": "code",
   "execution_count": 18,
   "id": "0ee7b0e0",
   "metadata": {},
   "outputs": [
    {
     "name": "stdout",
     "output_type": "stream",
     "text": [
      "demo_daq.py\n",
      "demo_scope_fonction.py\n",
      "eggs.csv\n",
      "exemple_ecriture.txt\n",
      "fichier_a.py\n",
      "fichier_b.py\n",
      "fizzbuzz.py\n",
      "hello_world.py\n",
      "J1.ipynb\n",
      "Jour 2.ipynb\n",
      "Jour 3.ipynb\n",
      "Jour 4.ipynb\n",
      "Jour 5.ipynb\n",
      "myfile.npy\n",
      "ordre_fonctions.py\n",
      "plus_moins.py\n",
      "__pycache__\n",
      "res_Amp.csv\n",
      "res.csv\n",
      "res_Volt.csv\n",
      "tempCodeRunnerFile.py\n",
      "test_plus_ou_moins.py\n",
      "texte.csv\n",
      "unix.py\n",
      "variables.py\n"
     ]
    }
   ],
   "source": [
    "import subprocess\n",
    "\n",
    "p = subprocess.Popen([\"ls\"])"
   ]
  },
  {
   "cell_type": "code",
   "execution_count": 19,
   "id": "00153d8e",
   "metadata": {},
   "outputs": [
    {
     "data": {
      "text/plain": [
       "<Popen: returncode: None args: ['ls']>"
      ]
     },
     "execution_count": 19,
     "metadata": {},
     "output_type": "execute_result"
    }
   ],
   "source": [
    "p"
   ]
  },
  {
   "cell_type": "code",
   "execution_count": null,
   "id": "64585f4d",
   "metadata": {},
   "outputs": [],
   "source": []
  }
 ],
 "metadata": {
  "kernelspec": {
   "display_name": "Python 3 (ipykernel)",
   "language": "python",
   "name": "python3"
  },
  "language_info": {
   "codemirror_mode": {
    "name": "ipython",
    "version": 3
   },
   "file_extension": ".py",
   "mimetype": "text/x-python",
   "name": "python",
   "nbconvert_exporter": "python",
   "pygments_lexer": "ipython3",
   "version": "3.9.9"
  }
 },
 "nbformat": 4,
 "nbformat_minor": 5
}

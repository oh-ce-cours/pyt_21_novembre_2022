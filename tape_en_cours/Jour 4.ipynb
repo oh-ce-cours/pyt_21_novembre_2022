{
 "cells": [
  {
   "cell_type": "markdown",
   "id": "7377e639",
   "metadata": {},
   "source": [
    "# Rappels jour 3\n",
    "\n",
    "\n",
    "* signatures de fonctions\n",
    "* passage de paramètres aux fonctions\n",
    "* types de conteneurs \n",
    "    * tuples\n",
    "    * dictionnaires\n",
    "    * listes\n",
    "* tuple unpacking\n",
    "* aide sur les fstring : https://fstring.help/\n",
    "* manipulation de fichiers ini : https://docs.python.org/3/library/configparser.html\n",
    "* obfuscation : https://medium.com/geekculture/python-source-code-obfuscation-6b97f88a460d"
   ]
  },
  {
   "cell_type": "code",
   "execution_count": 18,
   "id": "415de4be",
   "metadata": {},
   "outputs": [
    {
     "name": "stdout",
     "output_type": "stream",
     "text": [
      "La valeur 2 apparait 3 fois\n",
      "La valeur 1 apparait 2 fois\n",
      "La valeur 4 apparait 2 fois\n",
      "La valeur 3 apparait 1 fois\n"
     ]
    }
   ],
   "source": [
    "import collections \n",
    "#s = \"bienvenue chez les ch'tis\"\n",
    "s = [1, 1, 2, 2, 2, 3, 4, 4]\n",
    "\n",
    "c = collections.Counter(s)\n",
    "for key, value in c.most_common():\n",
    "    print(f\"La valeur {key} apparait {value} fois\")"
   ]
  },
  {
   "cell_type": "code",
   "execution_count": 5,
   "id": "102b6ac9",
   "metadata": {},
   "outputs": [
    {
     "name": "stdout",
     "output_type": "stream",
     "text": [
      "1 <class 'int'>\n"
     ]
    }
   ],
   "source": [
    "a, b = (1, 2)\n",
    "print(a, type(a))"
   ]
  },
  {
   "cell_type": "code",
   "execution_count": 16,
   "id": "fc4c9a1f",
   "metadata": {},
   "outputs": [
    {
     "data": {
      "text/plain": [
       "'0x749'"
      ]
     },
     "execution_count": 16,
     "metadata": {},
     "output_type": "execute_result"
    }
   ],
   "source": [
    "answer = int(\"12345\", base=6)\n",
    "f\"{answer:#x}\""
   ]
  },
  {
   "cell_type": "code",
   "execution_count": 25,
   "id": "2098430e",
   "metadata": {},
   "outputs": [
    {
     "name": "stdout",
     "output_type": "stream",
     "text": [
      "[1, 2, 3, 4] <class 'list'>\n"
     ]
    }
   ],
   "source": [
    "# on peut enlever des doublons avec les sets\n",
    "s = list(set([4, 1, 1, 2, 2, 2, 3, 4, 4]))\n",
    "print(s, type(s))"
   ]
  },
  {
   "cell_type": "code",
   "execution_count": 42,
   "id": "ba1d25db",
   "metadata": {},
   "outputs": [
    {
     "data": {
      "text/plain": [
       "{'mammifere', 'vivant'}"
      ]
     },
     "execution_count": 42,
     "metadata": {},
     "output_type": "execute_result"
    }
   ],
   "source": [
    "homme = [\"bipede\", \"bien mal\", \"mammifere\", \"omnivore\", \"vivant\"]\n",
    "chien = [\"fourrure\", \"quadripede\", \"mammifere\", \"vivant\"]\n",
    "reptile = [\"quadripede\", \"sang froid\", \"omnivore\", \"vivant\"]\n",
    "\n",
    "set(homme) & set(chien)"
   ]
  },
  {
   "cell_type": "code",
   "execution_count": 33,
   "id": "01532204",
   "metadata": {},
   "outputs": [],
   "source": [
    "import hashlib \n",
    "\n",
    "m = hashlib.sha256()\n",
    "m.update(open(\"./J1.ipynb\").read().encode())\n",
    "sha_courant = m.hexdigest()"
   ]
  },
  {
   "cell_type": "code",
   "execution_count": 34,
   "id": "7e2ff833",
   "metadata": {},
   "outputs": [
    {
     "data": {
      "text/plain": [
       "'eaacecd4bf8068dff9dc1b3b76610ef358118f276d678c40857770604e2a447a'"
      ]
     },
     "execution_count": 34,
     "metadata": {},
     "output_type": "execute_result"
    }
   ],
   "source": [
    "sha_courant"
   ]
  },
  {
   "cell_type": "code",
   "execution_count": 47,
   "id": "6dad8d96",
   "metadata": {
    "scrolled": true
   },
   "outputs": [
    {
     "data": {
      "text/plain": [
       "{'__class__',\n",
       " '__class_getitem__',\n",
       " '__contains__',\n",
       " '__delattr__',\n",
       " '__delitem__',\n",
       " '__dir__',\n",
       " '__doc__',\n",
       " '__eq__',\n",
       " '__format__',\n",
       " '__ge__',\n",
       " '__getattribute__',\n",
       " '__getitem__',\n",
       " '__gt__',\n",
       " '__hash__',\n",
       " '__init__',\n",
       " '__init_subclass__',\n",
       " '__iter__',\n",
       " '__le__',\n",
       " '__len__',\n",
       " '__lt__',\n",
       " '__ne__',\n",
       " '__new__',\n",
       " '__reduce__',\n",
       " '__reduce_ex__',\n",
       " '__repr__',\n",
       " '__reversed__',\n",
       " '__setattr__',\n",
       " '__setitem__',\n",
       " '__sizeof__',\n",
       " '__str__',\n",
       " '__subclasshook__',\n",
       " 'clear',\n",
       " 'copy',\n",
       " 'pop'}"
      ]
     },
     "execution_count": 47,
     "metadata": {},
     "output_type": "execute_result"
    }
   ],
   "source": [
    "set(dir([])) & set(dir({}))"
   ]
  },
  {
   "cell_type": "code",
   "execution_count": 51,
   "id": "2a607dd4",
   "metadata": {},
   "outputs": [
    {
     "name": "stdout",
     "output_type": "stream",
     "text": [
      "[4, 100]\n"
     ]
    }
   ],
   "source": [
    "pts = [1, 2, 10, 103]\n",
    "carres = [p**2 for p in pts if p %2 == 0]\n",
    "print(carres)"
   ]
  },
  {
   "cell_type": "code",
   "execution_count": 52,
   "id": "6bb10147",
   "metadata": {},
   "outputs": [
    {
     "name": "stdout",
     "output_type": "stream",
     "text": [
      "[4, 100]\n"
     ]
    }
   ],
   "source": [
    "pts = [1, 2, 10, 103]\n",
    "carres = []\n",
    "for p in pts:\n",
    "    if p % 2 == 0:\n",
    "        carres.append(p**2)\n",
    "print(carres)"
   ]
  },
  {
   "cell_type": "code",
   "execution_count": 57,
   "id": "62355e99",
   "metadata": {},
   "outputs": [
    {
     "data": {
      "text/plain": [
       "{2: 4, 10: 100}"
      ]
     },
     "execution_count": 57,
     "metadata": {},
     "output_type": "execute_result"
    }
   ],
   "source": [
    "carres = {p: p**2 for p in pts if p %2 == 0}\n",
    "carres"
   ]
  },
  {
   "cell_type": "markdown",
   "id": "05c8d9a5",
   "metadata": {},
   "source": [
    "## Paramètres des fonctions"
   ]
  },
  {
   "cell_type": "code",
   "execution_count": 77,
   "id": "ee475662",
   "metadata": {},
   "outputs": [
    {
     "name": "stdout",
     "output_type": "stream",
     "text": [
      "140070971276416\n",
      "[1] 140070971276416\n",
      "140070971276416\n",
      "[1, 2] [1, 2] 140070971276416 140070971276416\n"
     ]
    }
   ],
   "source": [
    "def append_wrong(value, li=[]):\n",
    "    \"\"\"On s'attend à toujours avoir une liste d'un élément.\"\"\"\n",
    "    li.append(value)\n",
    "    print(id(li))\n",
    "    return li\n",
    "\n",
    "a = append_wrong(1)\n",
    "print(a, id(a))\n",
    "b = append_wrong(2)\n",
    "print(a, b, id(a), id(b))"
   ]
  },
  {
   "cell_type": "code",
   "execution_count": 74,
   "id": "99b49f3f",
   "metadata": {},
   "outputs": [
    {
     "name": "stdout",
     "output_type": "stream",
     "text": [
      "au moment ou on defini la fonction\n"
     ]
    }
   ],
   "source": [
    "def demo(li=print(\"au moment ou on defini la fonction\")):\n",
    "    print(\"dans la fonction\")    "
   ]
  },
  {
   "cell_type": "code",
   "execution_count": 64,
   "id": "ca916fa3",
   "metadata": {},
   "outputs": [
    {
     "name": "stdout",
     "output_type": "stream",
     "text": [
      "dans la fonction\n"
     ]
    }
   ],
   "source": [
    "demo()"
   ]
  },
  {
   "cell_type": "code",
   "execution_count": 75,
   "id": "36ef6076",
   "metadata": {},
   "outputs": [],
   "source": [
    "# Ce qui compte c'est le moment où la fonction est définie en mémoire\n",
    "\n",
    "import typing \n",
    "\n",
    "def append(value, li : typing.Optional[list]=None):\n",
    "    \"\"\"On s'attend à toujours avoir une liste d'un élément.\"\"\"\n",
    "    if li is None:\n",
    "        li = []\n",
    "    li.append(value)\n",
    "    print(id(li))\n",
    "    return li"
   ]
  },
  {
   "cell_type": "code",
   "execution_count": 66,
   "id": "5f08d3d3",
   "metadata": {},
   "outputs": [
    {
     "name": "stdout",
     "output_type": "stream",
     "text": [
      "140070971514752\n",
      "[1] 140070971514752\n",
      "140070980757824\n",
      "[2] 140070980757824\n",
      "[1] 140070971514752\n"
     ]
    }
   ],
   "source": [
    "a = append(1)\n",
    "print(a, id(a))\n",
    "b = append(2)\n",
    "print(b, id(b))\n",
    "print(a, id(a))"
   ]
  },
  {
   "cell_type": "code",
   "execution_count": 80,
   "id": "b3cea9af",
   "metadata": {},
   "outputs": [
    {
     "name": "stdout",
     "output_type": "stream",
     "text": [
      "140070971827664\n",
      "140070972512944\n"
     ]
    }
   ],
   "source": [
    "s = \"salut les copains\"\n",
    "print(id(s))\n",
    "s += \" et les copines\"\n",
    "print(id(s))"
   ]
  },
  {
   "cell_type": "code",
   "execution_count": 81,
   "id": "cad33741",
   "metadata": {},
   "outputs": [
    {
     "name": "stdout",
     "output_type": "stream",
     "text": [
      "140070973417984\n",
      "140070973417984\n"
     ]
    }
   ],
   "source": [
    "s = [1, 2, 3]\n",
    "print(id(s))\n",
    "s += [4, 5, 6]\n",
    "print(id(s))"
   ]
  },
  {
   "cell_type": "code",
   "execution_count": 85,
   "id": "a564fe98",
   "metadata": {},
   "outputs": [
    {
     "data": {
      "text/plain": [
       "(5+12j)"
      ]
     },
     "execution_count": 85,
     "metadata": {},
     "output_type": "execute_result"
    }
   ],
   "source": [
    "(3+2j)**2"
   ]
  },
  {
   "cell_type": "code",
   "execution_count": null,
   "id": "c0a76ddb",
   "metadata": {},
   "outputs": [],
   "source": []
  },
  {
   "cell_type": "code",
   "execution_count": 95,
   "id": "571d750b",
   "metadata": {},
   "outputs": [],
   "source": [
    "print = 3\n",
    "import builtins\n",
    "print = builtins.print"
   ]
  },
  {
   "cell_type": "code",
   "execution_count": 96,
   "id": "262bf49b",
   "metadata": {},
   "outputs": [
    {
     "name": "stdout",
     "output_type": "stream",
     "text": [
      "toto\n"
     ]
    }
   ],
   "source": [
    "print(\"toto\")"
   ]
  },
  {
   "cell_type": "markdown",
   "id": "770b0419",
   "metadata": {},
   "source": [
    "# Variables et fonctions \n",
    "\n",
    "![https://miro.medium.com/max/654/0*hsE2OKgoLM3L6RL6.png](https://miro.medium.com/max/654/0*hsE2OKgoLM3L6RL6.png)"
   ]
  },
  {
   "cell_type": "code",
   "execution_count": 101,
   "id": "cdb151dc",
   "metadata": {},
   "outputs": [
    {
     "ename": "UnboundLocalError",
     "evalue": "local variable 'variable' referenced before assignment",
     "output_type": "error",
     "traceback": [
      "\u001b[0;31m---------------------------------------------------------------------------\u001b[0m",
      "\u001b[0;31mUnboundLocalError\u001b[0m                         Traceback (most recent call last)",
      "Cell \u001b[0;32mIn [101], line 9\u001b[0m\n\u001b[1;32m      6\u001b[0m \u001b[38;5;28;01mdef\u001b[39;00m \u001b[38;5;21mmodfie_variable\u001b[39m():\n\u001b[1;32m      7\u001b[0m     variable \u001b[38;5;241m=\u001b[39m variable \u001b[38;5;241m+\u001b[39m \u001b[38;5;241m1\u001b[39m\n\u001b[0;32m----> 9\u001b[0m \u001b[43mmodfie_variable\u001b[49m\u001b[43m(\u001b[49m\u001b[43m)\u001b[49m\n",
      "Cell \u001b[0;32mIn [101], line 7\u001b[0m, in \u001b[0;36mmodfie_variable\u001b[0;34m()\u001b[0m\n\u001b[1;32m      6\u001b[0m \u001b[38;5;28;01mdef\u001b[39;00m \u001b[38;5;21mmodfie_variable\u001b[39m():\n\u001b[0;32m----> 7\u001b[0m     variable \u001b[38;5;241m=\u001b[39m \u001b[43mvariable\u001b[49m \u001b[38;5;241m+\u001b[39m \u001b[38;5;241m1\u001b[39m\n",
      "\u001b[0;31mUnboundLocalError\u001b[0m: local variable 'variable' referenced before assignment"
     ]
    }
   ],
   "source": [
    "variable = 1\n",
    "\n",
    "def print_variable():\n",
    "    print(variable)\n",
    "\n",
    "def modfie_variable():\n",
    "    variable = variable + 1\n",
    "\n",
    "modfie_variable()"
   ]
  },
  {
   "cell_type": "code",
   "execution_count": 110,
   "id": "2d7031f0",
   "metadata": {},
   "outputs": [
    {
     "ename": "UnboundLocalError",
     "evalue": "local variable 'variable' referenced before assignment",
     "output_type": "error",
     "traceback": [
      "\u001b[0;31m---------------------------------------------------------------------------\u001b[0m",
      "\u001b[0;31mUnboundLocalError\u001b[0m                         Traceback (most recent call last)",
      "Cell \u001b[0;32mIn [110], line 13\u001b[0m\n\u001b[1;32m      9\u001b[0m     variable \u001b[38;5;241m+\u001b[39m\u001b[38;5;241m=\u001b[39m \u001b[38;5;241m1\u001b[39m\n\u001b[1;32m     12\u001b[0m modifie_variable_ok()\n\u001b[0;32m---> 13\u001b[0m \u001b[43mmodifie_variable_ok2\u001b[49m\u001b[43m(\u001b[49m\u001b[43m)\u001b[49m\n\u001b[1;32m     14\u001b[0m \u001b[38;5;28mprint\u001b[39m(variable)\n",
      "Cell \u001b[0;32mIn [110], line 9\u001b[0m, in \u001b[0;36mmodifie_variable_ok2\u001b[0;34m()\u001b[0m\n\u001b[1;32m      7\u001b[0m \u001b[38;5;28;01mdef\u001b[39;00m \u001b[38;5;21mmodifie_variable_ok2\u001b[39m():\n\u001b[1;32m      8\u001b[0m     \u001b[38;5;66;03m# global variable\u001b[39;00m\n\u001b[0;32m----> 9\u001b[0m     variable \u001b[38;5;241m+\u001b[39m\u001b[38;5;241m=\u001b[39m \u001b[38;5;241m1\u001b[39m\n",
      "\u001b[0;31mUnboundLocalError\u001b[0m: local variable 'variable' referenced before assignment"
     ]
    }
   ],
   "source": [
    "variable = 1\n",
    "\n",
    "def modifie_variable_ok():\n",
    "    global variable\n",
    "    variable += 1\n",
    "\n",
    "def modifie_variable_ok2():\n",
    "    # global variable\n",
    "    variable += 1\n",
    "\n",
    "    \n",
    "modifie_variable_ok()\n",
    "modifie_variable_ok2()\n",
    "print(variable)"
   ]
  },
  {
   "cell_type": "code",
   "execution_count": 127,
   "id": "dc822f76",
   "metadata": {},
   "outputs": [
    {
     "name": "stdout",
     "output_type": "stream",
     "text": [
      "10\n",
      "9\n",
      "8\n",
      "7\n",
      "6\n",
      "5\n",
      "4\n",
      "3\n",
      "2\n",
      "1\n",
      "0\n",
      "1\n",
      "2\n",
      "1\n",
      "0\n",
      "3\n",
      "2\n",
      "1\n",
      "0\n",
      "1\n",
      "4\n",
      "3\n",
      "2\n",
      "1\n",
      "0\n",
      "1\n",
      "2\n",
      "1\n",
      "0\n",
      "5\n",
      "4\n",
      "3\n",
      "2\n",
      "1\n",
      "0\n",
      "1\n",
      "2\n",
      "1\n",
      "0\n",
      "3\n",
      "2\n",
      "1\n",
      "0\n",
      "1\n",
      "6\n",
      "5\n",
      "4\n",
      "3\n",
      "2\n",
      "1\n",
      "0\n",
      "1\n",
      "2\n",
      "1\n",
      "0\n",
      "3\n",
      "2\n",
      "1\n",
      "0\n",
      "1\n",
      "4\n",
      "3\n",
      "2\n",
      "1\n",
      "0\n",
      "1\n",
      "2\n",
      "1\n",
      "0\n",
      "7\n",
      "6\n",
      "5\n",
      "4\n",
      "3\n",
      "2\n",
      "1\n",
      "0\n",
      "1\n",
      "2\n",
      "1\n",
      "0\n",
      "3\n",
      "2\n",
      "1\n",
      "0\n",
      "1\n",
      "4\n",
      "3\n",
      "2\n",
      "1\n",
      "0\n",
      "1\n",
      "2\n",
      "1\n",
      "0\n",
      "5\n",
      "4\n",
      "3\n",
      "2\n",
      "1\n",
      "0\n",
      "1\n",
      "2\n",
      "1\n",
      "0\n",
      "3\n",
      "2\n",
      "1\n",
      "0\n",
      "1\n",
      "8\n",
      "7\n",
      "6\n",
      "5\n",
      "4\n",
      "3\n",
      "2\n",
      "1\n",
      "0\n",
      "1\n",
      "2\n",
      "1\n",
      "0\n",
      "3\n",
      "2\n",
      "1\n",
      "0\n",
      "1\n",
      "4\n",
      "3\n",
      "2\n",
      "1\n",
      "0\n",
      "1\n",
      "2\n",
      "1\n",
      "0\n",
      "5\n",
      "4\n",
      "3\n",
      "2\n",
      "1\n",
      "0\n",
      "1\n",
      "2\n",
      "1\n",
      "0\n",
      "3\n",
      "2\n",
      "1\n",
      "0\n",
      "1\n",
      "6\n",
      "5\n",
      "4\n",
      "3\n",
      "2\n",
      "1\n",
      "0\n",
      "1\n",
      "2\n",
      "1\n",
      "0\n",
      "3\n",
      "2\n",
      "1\n",
      "0\n",
      "1\n",
      "4\n",
      "3\n",
      "2\n",
      "1\n",
      "0\n",
      "1\n",
      "2\n",
      "1\n",
      "0\n"
     ]
    },
    {
     "data": {
      "text/plain": [
       "55"
      ]
     },
     "execution_count": 127,
     "metadata": {},
     "output_type": "execute_result"
    }
   ],
   "source": [
    "def fib(n):\n",
    "    print(n)\n",
    "    if n < 2:\n",
    "        return n\n",
    "    return fib(n-1) + fib(n-2)\n",
    "\n",
    "fib(10)"
   ]
  },
  {
   "cell_type": "code",
   "execution_count": 116,
   "id": "0561be1a",
   "metadata": {},
   "outputs": [
    {
     "name": "stdout",
     "output_type": "stream",
     "text": [
      "2.4 ms ± 337 µs per loop (mean ± std. dev. of 7 runs, 100 loops each)\n"
     ]
    }
   ],
   "source": [
    "%timeit fib(20)"
   ]
  },
  {
   "cell_type": "code",
   "execution_count": 117,
   "id": "256cec63",
   "metadata": {},
   "outputs": [
    {
     "name": "stdout",
     "output_type": "stream",
     "text": [
      "268 ms ± 11.2 ms per loop (mean ± std. dev. of 7 runs, 1 loop each)\n"
     ]
    }
   ],
   "source": [
    "%timeit fib(30)"
   ]
  },
  {
   "cell_type": "code",
   "execution_count": 118,
   "id": "a3d966cb",
   "metadata": {},
   "outputs": [
    {
     "name": "stdout",
     "output_type": "stream",
     "text": [
      "482 ms ± 78.4 ms per loop (mean ± std. dev. of 7 runs, 1 loop each)\n"
     ]
    }
   ],
   "source": [
    "%timeit fib(31)"
   ]
  },
  {
   "cell_type": "code",
   "execution_count": 130,
   "id": "8a183ad1",
   "metadata": {},
   "outputs": [
    {
     "name": "stdout",
     "output_type": "stream",
     "text": [
      "300\n",
      "299\n",
      "298\n",
      "297\n",
      "296\n",
      "295\n",
      "294\n",
      "293\n",
      "292\n",
      "291\n",
      "290\n",
      "289\n",
      "288\n",
      "287\n",
      "286\n",
      "285\n",
      "284\n",
      "283\n",
      "282\n",
      "281\n",
      "280\n",
      "279\n",
      "278\n",
      "277\n",
      "276\n",
      "275\n",
      "274\n",
      "273\n",
      "272\n",
      "271\n",
      "270\n",
      "269\n",
      "268\n",
      "267\n",
      "266\n",
      "265\n",
      "264\n",
      "263\n",
      "262\n",
      "261\n",
      "260\n",
      "259\n",
      "258\n",
      "257\n",
      "256\n",
      "255\n",
      "254\n",
      "253\n",
      "252\n",
      "251\n",
      "250\n",
      "249\n",
      "248\n",
      "247\n",
      "246\n",
      "245\n",
      "244\n",
      "243\n",
      "242\n",
      "241\n",
      "240\n",
      "239\n",
      "238\n",
      "237\n",
      "236\n",
      "235\n",
      "234\n",
      "233\n",
      "232\n",
      "231\n",
      "230\n",
      "229\n",
      "228\n",
      "227\n",
      "226\n",
      "225\n",
      "224\n",
      "223\n",
      "222\n",
      "221\n",
      "220\n",
      "219\n",
      "218\n",
      "217\n",
      "216\n",
      "215\n",
      "214\n",
      "213\n",
      "212\n",
      "211\n",
      "210\n",
      "209\n",
      "208\n",
      "207\n",
      "206\n",
      "205\n",
      "204\n",
      "203\n",
      "202\n",
      "201\n",
      "200\n",
      "199\n",
      "198\n",
      "197\n",
      "196\n",
      "195\n",
      "194\n",
      "193\n",
      "192\n",
      "191\n",
      "190\n",
      "189\n",
      "188\n",
      "187\n",
      "186\n",
      "185\n",
      "184\n",
      "183\n",
      "182\n",
      "181\n",
      "180\n",
      "179\n",
      "178\n",
      "177\n",
      "176\n",
      "175\n",
      "174\n",
      "173\n",
      "172\n",
      "171\n",
      "170\n",
      "169\n",
      "168\n",
      "167\n",
      "166\n",
      "165\n",
      "164\n",
      "163\n",
      "162\n",
      "161\n",
      "160\n",
      "159\n",
      "158\n",
      "157\n",
      "156\n",
      "155\n",
      "154\n",
      "153\n",
      "152\n",
      "151\n",
      "150\n",
      "149\n",
      "148\n",
      "147\n",
      "146\n",
      "145\n",
      "144\n",
      "143\n",
      "142\n",
      "141\n",
      "140\n",
      "139\n",
      "138\n",
      "137\n",
      "136\n",
      "135\n",
      "134\n",
      "133\n",
      "132\n",
      "131\n",
      "130\n",
      "129\n",
      "128\n",
      "127\n",
      "126\n",
      "125\n",
      "124\n",
      "123\n",
      "122\n",
      "121\n",
      "120\n",
      "119\n",
      "118\n",
      "117\n",
      "116\n",
      "115\n",
      "114\n",
      "113\n",
      "112\n",
      "111\n",
      "110\n",
      "109\n",
      "108\n",
      "107\n",
      "106\n",
      "105\n",
      "104\n",
      "103\n",
      "102\n",
      "101\n",
      "100\n",
      "99\n",
      "98\n",
      "97\n",
      "96\n",
      "95\n",
      "94\n",
      "93\n",
      "92\n",
      "91\n",
      "90\n",
      "89\n",
      "88\n",
      "87\n",
      "86\n",
      "85\n",
      "84\n",
      "83\n",
      "82\n",
      "81\n",
      "80\n",
      "79\n",
      "78\n",
      "77\n",
      "76\n",
      "75\n",
      "74\n",
      "73\n",
      "72\n",
      "71\n",
      "70\n",
      "69\n",
      "68\n",
      "67\n",
      "66\n",
      "65\n",
      "64\n",
      "63\n",
      "62\n",
      "61\n",
      "60\n",
      "59\n",
      "58\n",
      "57\n",
      "56\n",
      "55\n",
      "54\n",
      "53\n",
      "52\n",
      "51\n",
      "50\n",
      "49\n",
      "48\n",
      "47\n",
      "46\n",
      "45\n",
      "44\n",
      "43\n",
      "42\n",
      "41\n",
      "40\n",
      "39\n",
      "38\n",
      "37\n",
      "36\n",
      "35\n",
      "34\n",
      "33\n",
      "32\n",
      "31\n",
      "30\n",
      "29\n",
      "28\n",
      "27\n",
      "26\n",
      "25\n",
      "24\n",
      "23\n",
      "22\n",
      "21\n",
      "20\n",
      "19\n",
      "18\n",
      "17\n",
      "16\n",
      "15\n",
      "14\n",
      "13\n",
      "12\n",
      "11\n",
      "10\n",
      "9\n",
      "8\n",
      "7\n",
      "6\n",
      "5\n",
      "4\n",
      "3\n",
      "2\n",
      "1\n",
      "0\n"
     ]
    },
    {
     "data": {
      "text/plain": [
       "222232244629420445529739893461909967206666939096499764990979600"
      ]
     },
     "execution_count": 130,
     "metadata": {},
     "output_type": "execute_result"
    }
   ],
   "source": [
    "import functools \n",
    "\n",
    "@functools.lru_cache(maxsize=10)\n",
    "def fib2(n):\n",
    "    print(n)\n",
    "    if n < 2:\n",
    "        return n\n",
    "    return fib2(n-1) + fib2(n-2)\n",
    "\n",
    "fib2(300)"
   ]
  },
  {
   "cell_type": "code",
   "execution_count": 131,
   "id": "577aaf8d",
   "metadata": {},
   "outputs": [
    {
     "name": "stdout",
     "output_type": "stream",
     "text": [
      "87.4 ns ± 2.53 ns per loop (mean ± std. dev. of 7 runs, 10,000,000 loops each)\n"
     ]
    }
   ],
   "source": [
    "%timeit fib2(300)"
   ]
  },
  {
   "cell_type": "code",
   "execution_count": 133,
   "id": "cce2b8f4",
   "metadata": {},
   "outputs": [
    {
     "data": {
      "text/plain": [
       "CacheInfo(hits=0, misses=0, maxsize=10, currsize=0)"
      ]
     },
     "execution_count": 133,
     "metadata": {},
     "output_type": "execute_result"
    }
   ],
   "source": [
    "fib2.cache_clear()\n",
    "fib2.cache_info()"
   ]
  },
  {
   "cell_type": "code",
   "execution_count": 134,
   "id": "328420f1",
   "metadata": {},
   "outputs": [
    {
     "name": "stdout",
     "output_type": "stream",
     "text": [
      "dans f2\n",
      "dans f1\n"
     ]
    }
   ],
   "source": [
    "def f2():\n",
    "    print(\"dans f2\")\n",
    "    f1()\n",
    "    \n",
    "def f1():\n",
    "    print(\"dans f1\")\n",
    "    \n",
    "\n",
    "f2()"
   ]
  },
  {
   "cell_type": "code",
   "execution_count": 147,
   "id": "05e7c9e3",
   "metadata": {},
   "outputs": [
    {
     "name": "stdout",
     "output_type": "stream",
     "text": [
      "10\n",
      "[<function adder at 0x7f64d08148b0>, <function adder at 0x7f64d0814c10>, <function adder at 0x7f64d0814a60>]\n",
      "4\n",
      "5\n",
      "6\n"
     ]
    }
   ],
   "source": [
    "# https://medium.com/skiller-whale/late-binding-variables-its-a-trap-c17af980164f\n",
    "\n",
    "\n",
    "# Array of functions for adding numbers\n",
    "adders = []\n",
    "\n",
    "for x in [1, 2, 3]:\n",
    "    # Create a lambda function that adds x to another\n",
    "    # number and add it to the list of adders\n",
    "    def adder(number, number_to_add=x):\n",
    "        return number + number_to_add\n",
    "    adders.append(adder)\n",
    "\n",
    "x = 10\n",
    "print(x)\n",
    "# Apply each adder function to the number 3\n",
    "print(adders)\n",
    "for adder in adders:\n",
    "    print(adder(3))"
   ]
  },
  {
   "cell_type": "code",
   "execution_count": 149,
   "id": "45ff1d9b",
   "metadata": {},
   "outputs": [],
   "source": [
    "def ajoute_avec(nombre):\n",
    "    def ajouter(autre_nombre):\n",
    "        return nombre + autre_nombre\n",
    "    return ajouter\n",
    "\n",
    "ajoute_avec_10 = ajoute_avec(10)"
   ]
  },
  {
   "cell_type": "code",
   "execution_count": 150,
   "id": "ee3414b5",
   "metadata": {},
   "outputs": [
    {
     "data": {
      "text/plain": [
       "50"
      ]
     },
     "execution_count": 150,
     "metadata": {},
     "output_type": "execute_result"
    }
   ],
   "source": [
    "ajoute_avec_10(40)"
   ]
  },
  {
   "cell_type": "markdown",
   "id": "e93159ac",
   "metadata": {},
   "source": [
    "# Rappel du matin \n",
    "\n",
    "* set \n",
    "    * sans doublons, non ordonné, l'accès aux éléments n'a pas de sens \n",
    "    * permet de faire des opérations facilement (`in`, `intersection`, `union`, `difference`...)\n",
    "* fonctions\n",
    "    * paramètres par défaut \n",
    "        * bonne pratique : immutable\n",
    "        * instanciés au moment où on *défini* la fonction en mémoire \n",
    "        * c'est toujours le même objet quand on *appelle* la fonction \n",
    "    * accès aux variables :\n",
    "        * règle L(ocal) E(nclosing) G(lobal) B(uiltin)\n",
    "        * closure : on accède à une variable défini dans un espace plus élevé\n",
    "            * en python uniquement en lecture seule \n",
    "            * pour les modifier, on peut utiliser global ou changer l'architecture de son code\n",
    "        * les valeurs des closures sont évaluées au moment où on *exécute* la fonction "
   ]
  },
  {
   "cell_type": "code",
   "execution_count": 153,
   "id": "b36dc02d",
   "metadata": {},
   "outputs": [
    {
     "name": "stdout",
     "output_type": "stream",
     "text": [
      "2\n"
     ]
    }
   ],
   "source": [
    "# zertyujkiujhgtrfdngjytrge = 2\n",
    "\n",
    "def toto():\n",
    "    print(zertyujkiujhgtrfdngjytrge)\n",
    "\n",
    "zertyujkiujhgtrfdngjytrge = 3\n",
    "toto()"
   ]
  },
  {
   "cell_type": "markdown",
   "id": "6f681522",
   "metadata": {},
   "source": [
    "# POO"
   ]
  },
  {
   "cell_type": "code",
   "execution_count": 156,
   "id": "1e1d5941",
   "metadata": {},
   "outputs": [
    {
     "name": "stdout",
     "output_type": "stream",
     "text": [
      "<class '__main__.Bureau'>\n"
     ]
    }
   ],
   "source": [
    "class Bureau:\n",
    "    pass\n",
    "\n",
    "\n",
    "class Toto\n",
    "\n",
    "b = Bureau()\n",
    "print(type(b))"
   ]
  },
  {
   "cell_type": "code",
   "execution_count": null,
   "id": "28af8f6e",
   "metadata": {},
   "outputs": [],
   "source": []
  }
 ],
 "metadata": {
  "kernelspec": {
   "display_name": "Python 3 (ipykernel)",
   "language": "python",
   "name": "python3"
  },
  "language_info": {
   "codemirror_mode": {
    "name": "ipython",
    "version": 3
   },
   "file_extension": ".py",
   "mimetype": "text/x-python",
   "name": "python",
   "nbconvert_exporter": "python",
   "pygments_lexer": "ipython3",
   "version": "3.9.9"
  }
 },
 "nbformat": 4,
 "nbformat_minor": 5
}

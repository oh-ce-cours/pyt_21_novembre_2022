{
 "cells": [
  {
   "cell_type": "markdown",
   "id": "8b26e634",
   "metadata": {},
   "source": [
    "# Rappels jour 3\n",
    "\n",
    "\n",
    "* signatures de fonctions\n",
    "* passage de paramètres aux fonctions\n",
    "* types de conteneurs \n",
    "    * tuples\n",
    "    * dictionnaires\n",
    "    * listes\n",
    "* tuple unpacking\n",
    "* aide sur les fstring : https://fstring.help/\n",
    "* manipulation de fichiers ini : https://docs.python.org/3/library/configparser.html\n",
    "* obfuscation : https://medium.com/geekculture/python-source-code-obfuscation-6b97f88a460d"
   ]
  },
  {
   "cell_type": "code",
   "execution_count": 18,
   "id": "513a3594",
   "metadata": {},
   "outputs": [
    {
     "name": "stdout",
     "output_type": "stream",
     "text": [
      "La valeur 2 apparait 3 fois\n",
      "La valeur 1 apparait 2 fois\n",
      "La valeur 4 apparait 2 fois\n",
      "La valeur 3 apparait 1 fois\n"
     ]
    }
   ],
   "source": [
    "import collections \n",
    "#s = \"bienvenue chez les ch'tis\"\n",
    "s = [1, 1, 2, 2, 2, 3, 4, 4]\n",
    "\n",
    "c = collections.Counter(s)\n",
    "for key, value in c.most_common():\n",
    "    print(f\"La valeur {key} apparait {value} fois\")"
   ]
  },
  {
   "cell_type": "code",
   "execution_count": 5,
   "id": "45580a2c",
   "metadata": {},
   "outputs": [
    {
     "name": "stdout",
     "output_type": "stream",
     "text": [
      "1 <class 'int'>\n"
     ]
    }
   ],
   "source": [
    "a, b = (1, 2)\n",
    "print(a, type(a))"
   ]
  },
  {
   "cell_type": "code",
   "execution_count": 16,
   "id": "b111f6c2",
   "metadata": {},
   "outputs": [
    {
     "data": {
      "text/plain": [
       "'0x749'"
      ]
     },
     "execution_count": 16,
     "metadata": {},
     "output_type": "execute_result"
    }
   ],
   "source": [
    "answer = int(\"12345\", base=6)\n",
    "f\"{answer:#x}\""
   ]
  },
  {
   "cell_type": "code",
   "execution_count": 25,
   "id": "2905a318",
   "metadata": {},
   "outputs": [
    {
     "name": "stdout",
     "output_type": "stream",
     "text": [
      "[1, 2, 3, 4] <class 'list'>\n"
     ]
    }
   ],
   "source": [
    "# on peut enlever des doublons avec les sets\n",
    "s = list(set([4, 1, 1, 2, 2, 2, 3, 4, 4]))\n",
    "print(s, type(s))"
   ]
  },
  {
   "cell_type": "code",
   "execution_count": 42,
   "id": "05bc9bef",
   "metadata": {},
   "outputs": [
    {
     "data": {
      "text/plain": [
       "{'mammifere', 'vivant'}"
      ]
     },
     "execution_count": 42,
     "metadata": {},
     "output_type": "execute_result"
    }
   ],
   "source": [
    "homme = [\"bipede\", \"bien mal\", \"mammifere\", \"omnivore\", \"vivant\"]\n",
    "chien = [\"fourrure\", \"quadripede\", \"mammifere\", \"vivant\"]\n",
    "reptile = [\"quadripede\", \"sang froid\", \"omnivore\", \"vivant\"]\n",
    "\n",
    "set(homme) & set(chien)"
   ]
  },
  {
   "cell_type": "code",
   "execution_count": 33,
   "id": "3645ad4e",
   "metadata": {},
   "outputs": [],
   "source": [
    "import hashlib \n",
    "\n",
    "m = hashlib.sha256()\n",
    "m.update(open(\"./J1.ipynb\").read().encode())\n",
    "sha_courant = m.hexdigest()"
   ]
  },
  {
   "cell_type": "code",
   "execution_count": 34,
   "id": "20e882d9",
   "metadata": {},
   "outputs": [
    {
     "data": {
      "text/plain": [
       "'eaacecd4bf8068dff9dc1b3b76610ef358118f276d678c40857770604e2a447a'"
      ]
     },
     "execution_count": 34,
     "metadata": {},
     "output_type": "execute_result"
    }
   ],
   "source": [
    "sha_courant"
   ]
  },
  {
   "cell_type": "code",
   "execution_count": 47,
   "id": "9b61c581",
   "metadata": {
    "scrolled": true
   },
   "outputs": [
    {
     "data": {
      "text/plain": [
       "{'__class__',\n",
       " '__class_getitem__',\n",
       " '__contains__',\n",
       " '__delattr__',\n",
       " '__delitem__',\n",
       " '__dir__',\n",
       " '__doc__',\n",
       " '__eq__',\n",
       " '__format__',\n",
       " '__ge__',\n",
       " '__getattribute__',\n",
       " '__getitem__',\n",
       " '__gt__',\n",
       " '__hash__',\n",
       " '__init__',\n",
       " '__init_subclass__',\n",
       " '__iter__',\n",
       " '__le__',\n",
       " '__len__',\n",
       " '__lt__',\n",
       " '__ne__',\n",
       " '__new__',\n",
       " '__reduce__',\n",
       " '__reduce_ex__',\n",
       " '__repr__',\n",
       " '__reversed__',\n",
       " '__setattr__',\n",
       " '__setitem__',\n",
       " '__sizeof__',\n",
       " '__str__',\n",
       " '__subclasshook__',\n",
       " 'clear',\n",
       " 'copy',\n",
       " 'pop'}"
      ]
     },
     "execution_count": 47,
     "metadata": {},
     "output_type": "execute_result"
    }
   ],
   "source": [
    "set(dir([])) & set(dir({}))"
   ]
  },
  {
   "cell_type": "code",
   "execution_count": 51,
   "id": "966324c4",
   "metadata": {},
   "outputs": [
    {
     "name": "stdout",
     "output_type": "stream",
     "text": [
      "[4, 100]\n"
     ]
    }
   ],
   "source": [
    "pts = [1, 2, 10, 103]\n",
    "carres = [p**2 for p in pts if p %2 == 0]\n",
    "print(carres)"
   ]
  },
  {
   "cell_type": "code",
   "execution_count": 52,
   "id": "becd1807",
   "metadata": {},
   "outputs": [
    {
     "name": "stdout",
     "output_type": "stream",
     "text": [
      "[4, 100]\n"
     ]
    }
   ],
   "source": [
    "pts = [1, 2, 10, 103]\n",
    "carres = []\n",
    "for p in pts:\n",
    "    if p % 2 == 0:\n",
    "        carres.append(p**2)\n",
    "print(carres)"
   ]
  },
  {
   "cell_type": "code",
   "execution_count": 57,
   "id": "9ebfa2c3",
   "metadata": {},
   "outputs": [
    {
     "data": {
      "text/plain": [
       "{2: 4, 10: 100}"
      ]
     },
     "execution_count": 57,
     "metadata": {},
     "output_type": "execute_result"
    }
   ],
   "source": [
    "carres = {p: p**2 for p in pts if p %2 == 0}\n",
    "carres"
   ]
  },
  {
   "cell_type": "markdown",
   "id": "6a795c22",
   "metadata": {},
   "source": [
    "## Paramètres des fonctions"
   ]
  },
  {
   "cell_type": "code",
   "execution_count": 77,
   "id": "a447e503",
   "metadata": {},
   "outputs": [
    {
     "name": "stdout",
     "output_type": "stream",
     "text": [
      "140070971276416\n",
      "[1] 140070971276416\n",
      "140070971276416\n",
      "[1, 2] [1, 2] 140070971276416 140070971276416\n"
     ]
    }
   ],
   "source": [
    "def append_wrong(value, li=[]):\n",
    "    \"\"\"On s'attend à toujours avoir une liste d'un élément.\"\"\"\n",
    "    li.append(value)\n",
    "    print(id(li))\n",
    "    return li\n",
    "\n",
    "a = append_wrong(1)\n",
    "print(a, id(a))\n",
    "b = append_wrong(2)\n",
    "print(a, b, id(a), id(b))"
   ]
  },
  {
   "cell_type": "code",
   "execution_count": 74,
   "id": "d3718024",
   "metadata": {},
   "outputs": [
    {
     "name": "stdout",
     "output_type": "stream",
     "text": [
      "au moment ou on defini la fonction\n"
     ]
    }
   ],
   "source": [
    "def demo(li=print(\"au moment ou on defini la fonction\")):\n",
    "    print(\"dans la fonction\")    "
   ]
  },
  {
   "cell_type": "code",
   "execution_count": 64,
   "id": "f3978927",
   "metadata": {},
   "outputs": [
    {
     "name": "stdout",
     "output_type": "stream",
     "text": [
      "dans la fonction\n"
     ]
    }
   ],
   "source": [
    "demo()"
   ]
  },
  {
   "cell_type": "code",
   "execution_count": 75,
   "id": "4c60f289",
   "metadata": {},
   "outputs": [],
   "source": [
    "# Ce qui compte c'est le moment où la fonction est définie en mémoire\n",
    "\n",
    "import typing \n",
    "\n",
    "def append(value, li : typing.Optional[list]=None):\n",
    "    \"\"\"On s'attend à toujours avoir une liste d'un élément.\"\"\"\n",
    "    if li is None:\n",
    "        li = []\n",
    "    li.append(value)\n",
    "    print(id(li))\n",
    "    return li"
   ]
  },
  {
   "cell_type": "code",
   "execution_count": 66,
   "id": "9da15151",
   "metadata": {},
   "outputs": [
    {
     "name": "stdout",
     "output_type": "stream",
     "text": [
      "140070971514752\n",
      "[1] 140070971514752\n",
      "140070980757824\n",
      "[2] 140070980757824\n",
      "[1] 140070971514752\n"
     ]
    }
   ],
   "source": [
    "a = append(1)\n",
    "print(a, id(a))\n",
    "b = append(2)\n",
    "print(b, id(b))\n",
    "print(a, id(a))"
   ]
  },
  {
   "cell_type": "code",
   "execution_count": 80,
   "id": "ba84fed3",
   "metadata": {},
   "outputs": [
    {
     "name": "stdout",
     "output_type": "stream",
     "text": [
      "140070971827664\n",
      "140070972512944\n"
     ]
    }
   ],
   "source": [
    "s = \"salut les copains\"\n",
    "print(id(s))\n",
    "s += \" et les copines\"\n",
    "print(id(s))"
   ]
  },
  {
   "cell_type": "code",
   "execution_count": 81,
   "id": "bfaf6463",
   "metadata": {},
   "outputs": [
    {
     "name": "stdout",
     "output_type": "stream",
     "text": [
      "140070973417984\n",
      "140070973417984\n"
     ]
    }
   ],
   "source": [
    "s = [1, 2, 3]\n",
    "print(id(s))\n",
    "s += [4, 5, 6]\n",
    "print(id(s))"
   ]
  },
  {
   "cell_type": "code",
   "execution_count": 85,
   "id": "b4c78a98",
   "metadata": {},
   "outputs": [
    {
     "data": {
      "text/plain": [
       "(5+12j)"
      ]
     },
     "execution_count": 85,
     "metadata": {},
     "output_type": "execute_result"
    }
   ],
   "source": [
    "(3+2j)**2"
   ]
  },
  {
   "cell_type": "code",
   "execution_count": null,
   "id": "2b3f9912",
   "metadata": {},
   "outputs": [],
   "source": []
  },
  {
   "cell_type": "code",
   "execution_count": 95,
   "id": "4423adc8",
   "metadata": {},
   "outputs": [],
   "source": [
    "print = 3\n",
    "import builtins\n",
    "print = builtins.print"
   ]
  },
  {
   "cell_type": "code",
   "execution_count": 96,
   "id": "49b45eff",
   "metadata": {},
   "outputs": [
    {
     "name": "stdout",
     "output_type": "stream",
     "text": [
      "toto\n"
     ]
    }
   ],
   "source": [
    "print(\"toto\")"
   ]
  },
  {
   "cell_type": "markdown",
   "id": "fc09a5fe",
   "metadata": {},
   "source": [
    "# Variables et fonctions \n",
    "\n",
    "![https://miro.medium.com/max/654/0*hsE2OKgoLM3L6RL6.png](https://miro.medium.com/max/654/0*hsE2OKgoLM3L6RL6.png)"
   ]
  },
  {
   "cell_type": "code",
   "execution_count": 101,
   "id": "76fe326c",
   "metadata": {},
   "outputs": [
    {
     "ename": "UnboundLocalError",
     "evalue": "local variable 'variable' referenced before assignment",
     "output_type": "error",
     "traceback": [
      "\u001b[0;31m---------------------------------------------------------------------------\u001b[0m",
      "\u001b[0;31mUnboundLocalError\u001b[0m                         Traceback (most recent call last)",
      "Cell \u001b[0;32mIn [101], line 9\u001b[0m\n\u001b[1;32m      6\u001b[0m \u001b[38;5;28;01mdef\u001b[39;00m \u001b[38;5;21mmodfie_variable\u001b[39m():\n\u001b[1;32m      7\u001b[0m     variable \u001b[38;5;241m=\u001b[39m variable \u001b[38;5;241m+\u001b[39m \u001b[38;5;241m1\u001b[39m\n\u001b[0;32m----> 9\u001b[0m \u001b[43mmodfie_variable\u001b[49m\u001b[43m(\u001b[49m\u001b[43m)\u001b[49m\n",
      "Cell \u001b[0;32mIn [101], line 7\u001b[0m, in \u001b[0;36mmodfie_variable\u001b[0;34m()\u001b[0m\n\u001b[1;32m      6\u001b[0m \u001b[38;5;28;01mdef\u001b[39;00m \u001b[38;5;21mmodfie_variable\u001b[39m():\n\u001b[0;32m----> 7\u001b[0m     variable \u001b[38;5;241m=\u001b[39m \u001b[43mvariable\u001b[49m \u001b[38;5;241m+\u001b[39m \u001b[38;5;241m1\u001b[39m\n",
      "\u001b[0;31mUnboundLocalError\u001b[0m: local variable 'variable' referenced before assignment"
     ]
    }
   ],
   "source": [
    "variable = 1\n",
    "\n",
    "def print_variable():\n",
    "    print(variable)\n",
    "\n",
    "def modfie_variable():\n",
    "    variable = variable + 1\n",
    "\n",
    "modfie_variable()"
   ]
  },
  {
   "cell_type": "code",
   "execution_count": 105,
   "id": "78b24c06",
   "metadata": {},
   "outputs": [
    {
     "name": "stdout",
     "output_type": "stream",
     "text": [
      "2\n"
     ]
    }
   ],
   "source": [
    "variable = 1\n",
    "\n",
    "def modifie_variable_ok():\n",
    "    global variable\n",
    "    variable += 1\n",
    "\n",
    "modifie_variable_ok()\n",
    "print(variable)"
   ]
  },
  {
   "cell_type": "code",
   "execution_count": null,
   "id": "a4946fe2",
   "metadata": {},
   "outputs": [],
   "source": []
  }
 ],
 "metadata": {
  "kernelspec": {
   "display_name": "Python 3 (ipykernel)",
   "language": "python",
   "name": "python3"
  },
  "language_info": {
   "codemirror_mode": {
    "name": "ipython",
    "version": 3
   },
   "file_extension": ".py",
   "mimetype": "text/x-python",
   "name": "python",
   "nbconvert_exporter": "python",
   "pygments_lexer": "ipython3",
   "version": "3.9.9"
  }
 },
 "nbformat": 4,
 "nbformat_minor": 5
}

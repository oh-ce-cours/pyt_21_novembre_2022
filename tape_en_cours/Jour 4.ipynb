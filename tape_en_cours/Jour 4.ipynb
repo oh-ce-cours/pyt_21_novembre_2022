{
 "cells": [
  {
   "cell_type": "markdown",
   "id": "a9d4db91",
   "metadata": {},
   "source": [
    "# Rappels jour 3\n",
    "\n",
    "\n",
    "* signatures de fonctions\n",
    "* passage de paramètres aux fonctions\n",
    "* types de conteneurs \n",
    "    * tuples\n",
    "    * dictionnaires\n",
    "    * listes\n",
    "    "
   ]
  },
  {
   "cell_type": "code",
   "execution_count": 2,
   "id": "9d9fd3cb",
   "metadata": {},
   "outputs": [
    {
     "data": {
      "text/plain": [
       "collections.Counter"
      ]
     },
     "execution_count": 2,
     "metadata": {},
     "output_type": "execute_result"
    }
   ],
   "source": [
    "import collections \n",
    "s = \"bienvenue chez les ch'tis\"\n",
    "\n",
    "c = collections.Counter(s)\n"
   ]
  },
  {
   "cell_type": "code",
   "execution_count": null,
   "id": "b2835fa2",
   "metadata": {},
   "outputs": [],
   "source": []
  }
 ],
 "metadata": {
  "kernelspec": {
   "display_name": "Python 3 (ipykernel)",
   "language": "python",
   "name": "python3"
  },
  "language_info": {
   "codemirror_mode": {
    "name": "ipython",
    "version": 3
   },
   "file_extension": ".py",
   "mimetype": "text/x-python",
   "name": "python",
   "nbconvert_exporter": "python",
   "pygments_lexer": "ipython3",
   "version": "3.9.9"
  }
 },
 "nbformat": 4,
 "nbformat_minor": 5
}

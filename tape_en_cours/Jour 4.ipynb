{
 "cells": [
  {
   "cell_type": "markdown",
   "id": "8b97e618",
   "metadata": {},
   "source": [
    "# Rappels jour 3\n",
    "\n",
    "\n",
    "* signatures de fonctions\n",
    "* passage de paramètres aux fonctions\n",
    "* types de conteneurs \n",
    "    * tuples\n",
    "    * dictionnaires\n",
    "    * listes\n",
    "* tuple unpacking\n",
    "    "
   ]
  },
  {
   "cell_type": "code",
   "execution_count": 6,
   "id": "fe12e2b2",
   "metadata": {},
   "outputs": [
    {
     "name": "stdout",
     "output_type": "stream",
     "text": [
      "La lettre e apparait 5 fois\n",
      "La lettre   apparait 3 fois\n",
      "La lettre i apparait 2 fois\n",
      "La lettre n apparait 2 fois\n",
      "La lettre c apparait 2 fois\n",
      "La lettre h apparait 2 fois\n",
      "La lettre s apparait 2 fois\n",
      "La lettre b apparait 1 fois\n",
      "La lettre v apparait 1 fois\n",
      "La lettre u apparait 1 fois\n",
      "La lettre z apparait 1 fois\n",
      "La lettre l apparait 1 fois\n",
      "La lettre ' apparait 1 fois\n",
      "La lettre t apparait 1 fois\n"
     ]
    }
   ],
   "source": [
    "import collections \n",
    "s = \"bienvenue chez les ch'tis\"\n",
    "\n",
    "c = collections.Counter(s)\n",
    "for key, value in c.most_common(len(c)):\n",
    "    print(f\"La lettre {key} apparait {value} fois\")"
   ]
  },
  {
   "cell_type": "code",
   "execution_count": 5,
   "id": "e8c9b364",
   "metadata": {},
   "outputs": [
    {
     "name": "stdout",
     "output_type": "stream",
     "text": [
      "1 <class 'int'>\n"
     ]
    }
   ],
   "source": [
    "a, b = (1, 2)\n",
    "print(a, type(a))"
   ]
  },
  {
   "cell_type": "code",
   "execution_count": null,
   "id": "eb465613",
   "metadata": {},
   "outputs": [],
   "source": []
  }
 ],
 "metadata": {
  "kernelspec": {
   "display_name": "Python 3 (ipykernel)",
   "language": "python",
   "name": "python3"
  },
  "language_info": {
   "codemirror_mode": {
    "name": "ipython",
    "version": 3
   },
   "file_extension": ".py",
   "mimetype": "text/x-python",
   "name": "python",
   "nbconvert_exporter": "python",
   "pygments_lexer": "ipython3",
   "version": "3.9.9"
  }
 },
 "nbformat": 4,
 "nbformat_minor": 5
}

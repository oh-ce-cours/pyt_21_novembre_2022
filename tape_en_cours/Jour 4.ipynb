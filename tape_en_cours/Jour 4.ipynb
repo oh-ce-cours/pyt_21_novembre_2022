{
 "cells": [
  {
   "cell_type": "markdown",
   "id": "0146ece5",
   "metadata": {},
   "source": [
    "# Rappels jour 3\n",
    "\n",
    "\n",
    "* signatures de fonctions\n",
    "* passage de paramètres aux fonctions\n",
    "* types de conteneurs \n",
    "    * tuples\n",
    "    * dictionnaires\n",
    "    * listes\n",
    "* tuple unpacking\n",
    "* aide sur les fstring : https://fstring.help/\n",
    "* manipulation de fichiers ini : https://docs.python.org/3/library/configparser.html\n",
    "* obfuscation : https://medium.com/geekculture/python-source-code-obfuscation-6b97f88a460d"
   ]
  },
  {
   "cell_type": "code",
   "execution_count": 18,
   "id": "82b53251",
   "metadata": {},
   "outputs": [
    {
     "name": "stdout",
     "output_type": "stream",
     "text": [
      "La valeur 2 apparait 3 fois\n",
      "La valeur 1 apparait 2 fois\n",
      "La valeur 4 apparait 2 fois\n",
      "La valeur 3 apparait 1 fois\n"
     ]
    }
   ],
   "source": [
    "import collections \n",
    "#s = \"bienvenue chez les ch'tis\"\n",
    "s = [1, 1, 2, 2, 2, 3, 4, 4]\n",
    "\n",
    "c = collections.Counter(s)\n",
    "for key, value in c.most_common():\n",
    "    print(f\"La valeur {key} apparait {value} fois\")"
   ]
  },
  {
   "cell_type": "code",
   "execution_count": 5,
   "id": "17fb153c",
   "metadata": {},
   "outputs": [
    {
     "name": "stdout",
     "output_type": "stream",
     "text": [
      "1 <class 'int'>\n"
     ]
    }
   ],
   "source": [
    "a, b = (1, 2)\n",
    "print(a, type(a))"
   ]
  },
  {
   "cell_type": "code",
   "execution_count": 16,
   "id": "61d513a2",
   "metadata": {},
   "outputs": [
    {
     "data": {
      "text/plain": [
       "'0x749'"
      ]
     },
     "execution_count": 16,
     "metadata": {},
     "output_type": "execute_result"
    }
   ],
   "source": [
    "answer = int(\"12345\", base=6)\n",
    "f\"{answer:#x}\""
   ]
  },
  {
   "cell_type": "code",
   "execution_count": 25,
   "id": "c0f2c857",
   "metadata": {},
   "outputs": [
    {
     "name": "stdout",
     "output_type": "stream",
     "text": [
      "[1, 2, 3, 4] <class 'list'>\n"
     ]
    }
   ],
   "source": [
    "# on peut enlever des doublons avec les sets\n",
    "s = list(set([4, 1, 1, 2, 2, 2, 3, 4, 4]))\n",
    "print(s, type(s))"
   ]
  },
  {
   "cell_type": "code",
   "execution_count": 42,
   "id": "07c2f702",
   "metadata": {},
   "outputs": [
    {
     "data": {
      "text/plain": [
       "{'mammifere', 'vivant'}"
      ]
     },
     "execution_count": 42,
     "metadata": {},
     "output_type": "execute_result"
    }
   ],
   "source": [
    "homme = [\"bipede\", \"bien mal\", \"mammifere\", \"omnivore\", \"vivant\"]\n",
    "chien = [\"fourrure\", \"quadripede\", \"mammifere\", \"vivant\"]\n",
    "reptile = [\"quadripede\", \"sang froid\", \"omnivore\", \"vivant\"]\n",
    "\n",
    "set(homme) & set(chien)"
   ]
  },
  {
   "cell_type": "code",
   "execution_count": 33,
   "id": "f4ca8360",
   "metadata": {},
   "outputs": [],
   "source": [
    "import hashlib \n",
    "\n",
    "m = hashlib.sha256()\n",
    "m.update(open(\"./J1.ipynb\").read().encode())\n",
    "sha_courant = m.hexdigest()"
   ]
  },
  {
   "cell_type": "code",
   "execution_count": 34,
   "id": "03d353dc",
   "metadata": {},
   "outputs": [
    {
     "data": {
      "text/plain": [
       "'eaacecd4bf8068dff9dc1b3b76610ef358118f276d678c40857770604e2a447a'"
      ]
     },
     "execution_count": 34,
     "metadata": {},
     "output_type": "execute_result"
    }
   ],
   "source": [
    "sha_courant"
   ]
  },
  {
   "cell_type": "code",
   "execution_count": 47,
   "id": "ea0f5e0e",
   "metadata": {
    "scrolled": true
   },
   "outputs": [
    {
     "data": {
      "text/plain": [
       "{'__class__',\n",
       " '__class_getitem__',\n",
       " '__contains__',\n",
       " '__delattr__',\n",
       " '__delitem__',\n",
       " '__dir__',\n",
       " '__doc__',\n",
       " '__eq__',\n",
       " '__format__',\n",
       " '__ge__',\n",
       " '__getattribute__',\n",
       " '__getitem__',\n",
       " '__gt__',\n",
       " '__hash__',\n",
       " '__init__',\n",
       " '__init_subclass__',\n",
       " '__iter__',\n",
       " '__le__',\n",
       " '__len__',\n",
       " '__lt__',\n",
       " '__ne__',\n",
       " '__new__',\n",
       " '__reduce__',\n",
       " '__reduce_ex__',\n",
       " '__repr__',\n",
       " '__reversed__',\n",
       " '__setattr__',\n",
       " '__setitem__',\n",
       " '__sizeof__',\n",
       " '__str__',\n",
       " '__subclasshook__',\n",
       " 'clear',\n",
       " 'copy',\n",
       " 'pop'}"
      ]
     },
     "execution_count": 47,
     "metadata": {},
     "output_type": "execute_result"
    }
   ],
   "source": [
    "set(dir([])) & set(dir({}))"
   ]
  },
  {
   "cell_type": "code",
   "execution_count": 51,
   "id": "76eb7599",
   "metadata": {},
   "outputs": [
    {
     "name": "stdout",
     "output_type": "stream",
     "text": [
      "[4, 100]\n"
     ]
    }
   ],
   "source": [
    "pts = [1, 2, 10, 103]\n",
    "carres = [p**2 for p in pts if p %2 == 0]\n",
    "print(carres)"
   ]
  },
  {
   "cell_type": "code",
   "execution_count": 52,
   "id": "f9e0bba6",
   "metadata": {},
   "outputs": [
    {
     "name": "stdout",
     "output_type": "stream",
     "text": [
      "[4, 100]\n"
     ]
    }
   ],
   "source": [
    "pts = [1, 2, 10, 103]\n",
    "carres = []\n",
    "for p in pts:\n",
    "    if p % 2 == 0:\n",
    "        carres.append(p**2)\n",
    "print(carres)"
   ]
  },
  {
   "cell_type": "code",
   "execution_count": 57,
   "id": "8e53583a",
   "metadata": {},
   "outputs": [
    {
     "data": {
      "text/plain": [
       "{2: 4, 10: 100}"
      ]
     },
     "execution_count": 57,
     "metadata": {},
     "output_type": "execute_result"
    }
   ],
   "source": [
    "carres = {p: p**2 for p in pts if p %2 == 0}\n",
    "carres"
   ]
  },
  {
   "cell_type": "markdown",
   "id": "488cdcb5",
   "metadata": {},
   "source": [
    "## paramètres des fonctions"
   ]
  },
  {
   "cell_type": "code",
   "execution_count": 73,
   "id": "70c340d5",
   "metadata": {},
   "outputs": [
    {
     "name": "stdout",
     "output_type": "stream",
     "text": [
      "140070971276416\n",
      "[1] 140070971276416\n",
      "140070971276416\n",
      "[1, 2] [1, 2] 140070971276416 140070971276416\n"
     ]
    }
   ],
   "source": [
    "def append_wrong(value, li=[]):\n",
    "    \"\"\"On s'attend à toujours avoir une liste d'un élément.\"\"\"\n",
    "    li.append(value)\n",
    "    print(id(li))\n",
    "    return li\n",
    "\n",
    "a = append_wrong(1)\n",
    "print(a, id(a))\n",
    "b = append_wrong(2)\n",
    "print(a, b, id(a), id(b))"
   ]
  },
  {
   "cell_type": "code",
   "execution_count": 74,
   "id": "41dbbbbb",
   "metadata": {},
   "outputs": [
    {
     "name": "stdout",
     "output_type": "stream",
     "text": [
      "au moment ou on defini la fonction\n"
     ]
    }
   ],
   "source": [
    "def demo(li=print(\"au moment ou on defini la fonction\")):\n",
    "    print(\"dans la fonction\")    "
   ]
  },
  {
   "cell_type": "code",
   "execution_count": 64,
   "id": "91f0353b",
   "metadata": {},
   "outputs": [
    {
     "name": "stdout",
     "output_type": "stream",
     "text": [
      "dans la fonction\n"
     ]
    }
   ],
   "source": [
    "demo()"
   ]
  },
  {
   "cell_type": "code",
   "execution_count": 70,
   "id": "1e37adeb",
   "metadata": {},
   "outputs": [],
   "source": [
    "import typing \n",
    "\n",
    "def append(value, li : typing.Optional[list]=None):\n",
    "    \"\"\"On s'attend à toujours avoir une liste d'un élément.\"\"\"\n",
    "    if li is None:\n",
    "        li = []\n",
    "    li.append(value)\n",
    "    print(id(li))\n",
    "    return li"
   ]
  },
  {
   "cell_type": "code",
   "execution_count": 66,
   "id": "ccf820e4",
   "metadata": {},
   "outputs": [
    {
     "name": "stdout",
     "output_type": "stream",
     "text": [
      "140070971514752\n",
      "[1] 140070971514752\n",
      "140070980757824\n",
      "[2] 140070980757824\n",
      "[1] 140070971514752\n"
     ]
    }
   ],
   "source": [
    "a = append(1)\n",
    "print(a, id(a))\n",
    "b = append(2)\n",
    "print(b, id(b))\n",
    "print(a, id(a))"
   ]
  },
  {
   "cell_type": "code",
   "execution_count": null,
   "id": "4b7fcd03",
   "metadata": {},
   "outputs": [],
   "source": []
  }
 ],
 "metadata": {
  "kernelspec": {
   "display_name": "Python 3 (ipykernel)",
   "language": "python",
   "name": "python3"
  },
  "language_info": {
   "codemirror_mode": {
    "name": "ipython",
    "version": 3
   },
   "file_extension": ".py",
   "mimetype": "text/x-python",
   "name": "python",
   "nbconvert_exporter": "python",
   "pygments_lexer": "ipython3",
   "version": "3.9.9"
  }
 },
 "nbformat": 4,
 "nbformat_minor": 5
}

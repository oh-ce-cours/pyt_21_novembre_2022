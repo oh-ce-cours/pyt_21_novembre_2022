{
 "cells": [
  {
   "cell_type": "markdown",
   "id": "754721ba",
   "metadata": {},
   "source": [
    "# Rappels jour 3\n",
    "\n",
    "\n",
    "* signatures de fonctions\n",
    "* passage de paramètres aux fonctions\n",
    "* types de conteneurs \n",
    "    * tuples\n",
    "    * dictionnaires\n",
    "    * listes\n",
    "    "
   ]
  },
  {
   "cell_type": "code",
   "execution_count": null,
   "id": "30ed71af",
   "metadata": {},
   "outputs": [],
   "source": [
    "s = \"bienvenue chez les ch\""
   ]
  }
 ],
 "metadata": {
  "kernelspec": {
   "display_name": "Python 3 (ipykernel)",
   "language": "python",
   "name": "python3"
  },
  "language_info": {
   "codemirror_mode": {
    "name": "ipython",
    "version": 3
   },
   "file_extension": ".py",
   "mimetype": "text/x-python",
   "name": "python",
   "nbconvert_exporter": "python",
   "pygments_lexer": "ipython3",
   "version": "3.9.9"
  }
 },
 "nbformat": 4,
 "nbformat_minor": 5
}

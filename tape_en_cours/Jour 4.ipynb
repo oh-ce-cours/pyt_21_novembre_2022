{
 "cells": [
  {
   "cell_type": "markdown",
   "id": "d9fdb7d9",
   "metadata": {},
   "source": [
    "# Rappels jour 3\n",
    "\n",
    "\n",
    "* signatures de fonctions\n",
    "* passage de paramètres aux fonctions\n",
    "* types de conteneurs \n",
    "    * tuples\n",
    "    * dictionnaires\n",
    "    * listes\n",
    "* tuple unpacking\n",
    "* aide sur les fstring : https://fstring.help/\n",
    "* manipulation de fichiers ini : https://docs.python.org/3/library/configparser.html"
   ]
  },
  {
   "cell_type": "code",
   "execution_count": 18,
   "id": "8015e861",
   "metadata": {},
   "outputs": [
    {
     "name": "stdout",
     "output_type": "stream",
     "text": [
      "La valeur 2 apparait 3 fois\n",
      "La valeur 1 apparait 2 fois\n",
      "La valeur 4 apparait 2 fois\n",
      "La valeur 3 apparait 1 fois\n"
     ]
    }
   ],
   "source": [
    "import collections \n",
    "#s = \"bienvenue chez les ch'tis\"\n",
    "s = [1, 1, 2, 2, 2, 3, 4, 4]\n",
    "\n",
    "c = collections.Counter(s)\n",
    "for key, value in c.most_common():\n",
    "    print(f\"La valeur {key} apparait {value} fois\")"
   ]
  },
  {
   "cell_type": "code",
   "execution_count": 5,
   "id": "30689a57",
   "metadata": {},
   "outputs": [
    {
     "name": "stdout",
     "output_type": "stream",
     "text": [
      "1 <class 'int'>\n"
     ]
    }
   ],
   "source": [
    "a, b = (1, 2)\n",
    "print(a, type(a))"
   ]
  },
  {
   "cell_type": "code",
   "execution_count": 16,
   "id": "7d5ca524",
   "metadata": {},
   "outputs": [
    {
     "data": {
      "text/plain": [
       "'0x749'"
      ]
     },
     "execution_count": 16,
     "metadata": {},
     "output_type": "execute_result"
    }
   ],
   "source": [
    "answer = int(\"12345\", base=6)\n",
    "f\"{answer:#x}\""
   ]
  },
  {
   "cell_type": "code",
   "execution_count": 24,
   "id": "b1d2d4c2",
   "metadata": {},
   "outputs": [
    {
     "name": "stdout",
     "output_type": "stream",
     "text": [
      "[1, 2, 3, 4] <class 'list'>\n"
     ]
    }
   ],
   "source": [
    "# on peut enlee\n",
    "s = list(set([4, 1, 1, 2, 2, 2, 3, 4, 4]))\n",
    "print(s, type(s))"
   ]
  },
  {
   "cell_type": "code",
   "execution_count": null,
   "id": "b7692c97",
   "metadata": {},
   "outputs": [],
   "source": []
  }
 ],
 "metadata": {
  "kernelspec": {
   "display_name": "Python 3 (ipykernel)",
   "language": "python",
   "name": "python3"
  },
  "language_info": {
   "codemirror_mode": {
    "name": "ipython",
    "version": 3
   },
   "file_extension": ".py",
   "mimetype": "text/x-python",
   "name": "python",
   "nbconvert_exporter": "python",
   "pygments_lexer": "ipython3",
   "version": "3.9.9"
  }
 },
 "nbformat": 4,
 "nbformat_minor": 5
}

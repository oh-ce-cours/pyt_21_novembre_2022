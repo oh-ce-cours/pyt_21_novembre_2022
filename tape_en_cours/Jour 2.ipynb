{
 "cells": [
  {
   "cell_type": "markdown",
   "id": "92de78cd",
   "metadata": {},
   "source": [
    "# Rappel du jour 1\n",
    "\n",
    "## Matin \n",
    "\n",
    "* installation \n",
    "* créer des environnements virtuels\n",
    "\n",
    "## Après\n",
    "\n",
    "* création et activations de venv depuis VSCode \n",
    "* annotations de types\n",
    "* erreurs dûes aux types\n",
    "* installation / configuration de VSCode \n",
    "    * installé l'extension VSCode python\n",
    "    * outils de gestion de la Qualité \n",
    "        * pylint / mypy : linter (le collègue maniaque) analyse statique du code, vont relevé des erreurs de syntaxe, de style (variable mal nommée, manque de docstring...), ...\n",
    "            * pylint : généraliste\n",
    "            * mypy : spécialisé sur les types \n",
    "        * black : autoformatteur \n",
    "            * `Python › Formatting: Provider` à mettre à `black`\n",
    "            * `Editor: Format On Save` : oui\n",
    "* bases de la syntaxe python"
   ]
  },
  {
   "cell_type": "code",
   "execution_count": 5,
   "id": "b238a248",
   "metadata": {},
   "outputs": [
    {
     "ename": "TypeError",
     "evalue": "can't multiply sequence by non-int of type 'str'",
     "output_type": "error",
     "traceback": [
      "\u001b[0;31m---------------------------------------------------------------------------\u001b[0m",
      "\u001b[0;31mTypeError\u001b[0m                                 Traceback (most recent call last)",
      "Cell \u001b[0;32mIn [5], line 5\u001b[0m\n\u001b[1;32m      2\u001b[0m \u001b[38;5;28;01mdef\u001b[39;00m \u001b[38;5;21mf\u001b[39m(a:\u001b[38;5;28mint\u001b[39m) \u001b[38;5;241m-\u001b[39m\u001b[38;5;241m>\u001b[39m \u001b[38;5;28mstr\u001b[39m:\n\u001b[1;32m      3\u001b[0m     \u001b[38;5;28;01mreturn\u001b[39;00m a\u001b[38;5;241m*\u001b[39m\u001b[38;5;124m\"\u001b[39m\u001b[38;5;124m-\u001b[39m\u001b[38;5;124m\"\u001b[39m\n\u001b[0;32m----> 5\u001b[0m \u001b[43mf\u001b[49m\u001b[43m(\u001b[49m\u001b[38;5;124;43m'\u001b[39;49m\u001b[38;5;124;43ma\u001b[39;49m\u001b[38;5;124;43m'\u001b[39;49m\u001b[43m)\u001b[49m\n",
      "Cell \u001b[0;32mIn [5], line 3\u001b[0m, in \u001b[0;36mf\u001b[0;34m(a)\u001b[0m\n\u001b[1;32m      2\u001b[0m \u001b[38;5;28;01mdef\u001b[39;00m \u001b[38;5;21mf\u001b[39m(a:\u001b[38;5;28mint\u001b[39m) \u001b[38;5;241m-\u001b[39m\u001b[38;5;241m>\u001b[39m \u001b[38;5;28mstr\u001b[39m:\n\u001b[0;32m----> 3\u001b[0m     \u001b[38;5;28;01mreturn\u001b[39;00m \u001b[43ma\u001b[49m\u001b[38;5;241;43m*\u001b[39;49m\u001b[38;5;124;43m\"\u001b[39;49m\u001b[38;5;124;43m-\u001b[39;49m\u001b[38;5;124;43m\"\u001b[39;49m\n",
      "\u001b[0;31mTypeError\u001b[0m: can't multiply sequence by non-int of type 'str'"
     ]
    }
   ],
   "source": [
    "# annotations de types\n",
    "def f(a:int) -> str:\n",
    "    return a*\"-\"\n",
    "\n",
    "f('a')"
   ]
  },
  {
   "cell_type": "markdown",
   "id": "489d77af",
   "metadata": {},
   "source": [
    "## Booléens en python"
   ]
  },
  {
   "cell_type": "code",
   "execution_count": 9,
   "id": "42b6dac1",
   "metadata": {},
   "outputs": [
    {
     "data": {
      "text/plain": [
       "(False, False, False, False)"
      ]
     },
     "execution_count": 9,
     "metadata": {},
     "output_type": "execute_result"
    }
   ],
   "source": [
    "bool(\"\"), bool([]), bool(tuple()), bool({})"
   ]
  },
  {
   "cell_type": "code",
   "execution_count": 11,
   "id": "24fb9a90",
   "metadata": {},
   "outputs": [
    {
     "data": {
      "text/plain": [
       "(True, True, True, True)"
      ]
     },
     "execution_count": 11,
     "metadata": {},
     "output_type": "execute_result"
    }
   ],
   "source": [
    "bool(\"riri\"), bool([[]]), bool(tuple([1, 2])), bool({\"a\": 2})"
   ]
  },
  {
   "cell_type": "code",
   "execution_count": 14,
   "id": "20ad5538",
   "metadata": {},
   "outputs": [
    {
     "data": {
      "text/plain": [
       "(False, True, True, False)"
      ]
     },
     "execution_count": 14,
     "metadata": {},
     "output_type": "execute_result"
    }
   ],
   "source": [
    "bool(0), bool(-1), bool(3), bool(3%3)"
   ]
  },
  {
   "cell_type": "code",
   "execution_count": 23,
   "id": "c34dd220",
   "metadata": {},
   "outputs": [
    {
     "data": {
      "text/plain": [
       "'fizz'"
      ]
     },
     "execution_count": 23,
     "metadata": {},
     "output_type": "execute_result"
    }
   ],
   "source": [
    "\"fizz\" * 1 + \"buzz\" * 1"
   ]
  },
  {
   "cell_type": "code",
   "execution_count": 22,
   "id": "bfb36b8d",
   "metadata": {},
   "outputs": [
    {
     "data": {
      "text/plain": [
       "(1, 0)"
      ]
     },
     "execution_count": 22,
     "metadata": {},
     "output_type": "execute_result"
    }
   ],
   "source": [
    "int(True), int(False)"
   ]
  },
  {
   "cell_type": "code",
   "execution_count": 24,
   "id": "27f9758c",
   "metadata": {},
   "outputs": [
    {
     "data": {
      "text/plain": [
       "'fizz'"
      ]
     },
     "execution_count": 24,
     "metadata": {},
     "output_type": "execute_result"
    }
   ],
   "source": [
    "\"fizz\" * True + \"buzz\" * False"
   ]
  },
  {
   "cell_type": "code",
   "execution_count": 25,
   "id": "ff7c525a",
   "metadata": {},
   "outputs": [
    {
     "data": {
      "text/plain": [
       "''"
      ]
     },
     "execution_count": 25,
     "metadata": {},
     "output_type": "execute_result"
    }
   ],
   "source": [
    "nombre = 4\n",
    "\"fizz\" * (nombre % 3 == 0) + \"buzz\" * (nombre % 5 == 0)"
   ]
  },
  {
   "cell_type": "code",
   "execution_count": 34,
   "id": "4163da75",
   "metadata": {},
   "outputs": [
    {
     "data": {
      "text/plain": [
       "1"
      ]
     },
     "execution_count": 34,
     "metadata": {},
     "output_type": "execute_result"
    }
   ],
   "source": [
    "1 or 1/0"
   ]
  },
  {
   "cell_type": "code",
   "execution_count": 33,
   "id": "c4b09a15",
   "metadata": {},
   "outputs": [
    {
     "ename": "ZeroDivisionError",
     "evalue": "division by zero",
     "output_type": "error",
     "traceback": [
      "\u001b[0;31m---------------------------------------------------------------------------\u001b[0m",
      "\u001b[0;31mZeroDivisionError\u001b[0m                         Traceback (most recent call last)",
      "Cell \u001b[0;32mIn [33], line 1\u001b[0m\n\u001b[0;32m----> 1\u001b[0m \u001b[38;5;241m0\u001b[39m \u001b[38;5;129;01mor\u001b[39;00m \u001b[38;5;241;43m1\u001b[39;49m\u001b[38;5;241;43m/\u001b[39;49m\u001b[38;5;241;43m0\u001b[39;49m\n",
      "\u001b[0;31mZeroDivisionError\u001b[0m: division by zero"
     ]
    }
   ],
   "source": [
    "0 or 1/0"
   ]
  },
  {
   "cell_type": "code",
   "execution_count": 32,
   "id": "b2a6c5d1",
   "metadata": {},
   "outputs": [],
   "source": [
    "import time\n",
    "0 or time.sleep(10)"
   ]
  },
  {
   "cell_type": "code",
   "execution_count": 37,
   "id": "5756fe97",
   "metadata": {},
   "outputs": [
    {
     "data": {
      "text/plain": [
       "1"
      ]
     },
     "execution_count": 37,
     "metadata": {},
     "output_type": "execute_result"
    }
   ],
   "source": [
    "mon_tableau = [1]\n",
    "mon_tableau and mon_tableau[0]"
   ]
  },
  {
   "cell_type": "code",
   "execution_count": 44,
   "id": "62db2892",
   "metadata": {},
   "outputs": [
    {
     "name": "stdout",
     "output_type": "stream",
     "text": [
      "3\n"
     ]
    }
   ],
   "source": [
    "ma_valeur = 3\n",
    "ma_valeur = ma_valeur or 4\n",
    "print(ma_valeur)"
   ]
  },
  {
   "cell_type": "code",
   "execution_count": 49,
   "id": "6018f844",
   "metadata": {},
   "outputs": [
    {
     "data": {
      "text/plain": [
       "0"
      ]
     },
     "execution_count": 49,
     "metadata": {},
     "output_type": "execute_result"
    }
   ],
   "source": [
    "1 & 2"
   ]
  },
  {
   "cell_type": "code",
   "execution_count": 64,
   "id": "ab3a53d3",
   "metadata": {},
   "outputs": [],
   "source": [
    "def fizz_buzz():\n",
    "    for nombre in range(1, 101):\n",
    "        if nombre % 3 == 0 and nombre % 5 == 0:\n",
    "            res = \"fizz\"\n",
    "        elif nombre % 5 == 0:\n",
    "            res = \"buzz\"\n",
    "        elif nombre % 3 == 0:\n",
    "            res = \"fizzbuzz\"\n",
    "        else:\n",
    "            res = str(nombre)\n",
    "\n",
    "\"\"\"\n",
    "def fizz_buzz_3():\n",
    "    for nombre in range(1, 101):\n",
    "        match (nombre % 3, nombre % 5):\n",
    "            case (0, 0):\n",
    "                res = \"fizzbuzz\"\n",
    "            case (_, 0):\n",
    "                res = \"buzz\"\n",
    "            case (0, _):\n",
    "                res = \"fizz\"\n",
    "            case _, _:\n",
    "                res = str(nombre)\n",
    "\"\"\"\n",
    "            \n",
    "def fizz_buzz_2():\n",
    "    for nombre in range(1, 101):\n",
    "        \"fizz\" * (nombre % 3 == 0) + \"buzz\" * (nombre % 5 == 0) or str(nombre)\n",
    "\n",
    "\n",
    "        "
   ]
  },
  {
   "cell_type": "code",
   "execution_count": 53,
   "id": "09d01895",
   "metadata": {},
   "outputs": [
    {
     "name": "stdout",
     "output_type": "stream",
     "text": [
      "14.1 µs ± 458 ns per loop (mean ± std. dev. of 7 runs, 100,000 loops each)\n"
     ]
    }
   ],
   "source": [
    "%timeit fizz_buzz()"
   ]
  },
  {
   "cell_type": "code",
   "execution_count": 56,
   "id": "4dd9bf51",
   "metadata": {},
   "outputs": [
    {
     "name": "stdout",
     "output_type": "stream",
     "text": [
      "22 µs ± 665 ns per loop (mean ± std. dev. of 7 runs, 100,000 loops each)\n"
     ]
    }
   ],
   "source": [
    "%timeit fizz_buzz()"
   ]
  },
  {
   "cell_type": "code",
   "execution_count": 57,
   "id": "618cc19d",
   "metadata": {},
   "outputs": [
    {
     "name": "stdout",
     "output_type": "stream",
     "text": [
      "21.7 µs ± 1.52 µs per loop (mean ± std. dev. of 7 runs, 10,000 loops each)\n"
     ]
    }
   ],
   "source": [
    "%timeit fizz_buzz()"
   ]
  },
  {
   "cell_type": "code",
   "execution_count": 61,
   "id": "e16cd31e",
   "metadata": {},
   "outputs": [
    {
     "name": "stdout",
     "output_type": "stream",
     "text": [
      "24.7 µs ± 827 ns per loop (mean ± std. dev. of 7 runs, 10,000 loops each)\n"
     ]
    }
   ],
   "source": [
    "%timeit fizz_buzz_2()"
   ]
  },
  {
   "cell_type": "code",
   "execution_count": 65,
   "id": "dffa4b4d",
   "metadata": {},
   "outputs": [],
   "source": [
    "cond = True\n",
    "while cond:\n",
    "    cond = False"
   ]
  },
  {
   "cell_type": "code",
   "execution_count": 66,
   "id": "cc01ea89",
   "metadata": {},
   "outputs": [
    {
     "name": "stdout",
     "output_type": "stream",
     "text": [
      "totosalut\n"
     ]
    },
    {
     "data": {
      "text/plain": [
       "'salut'"
      ]
     },
     "execution_count": 66,
     "metadata": {},
     "output_type": "execute_result"
    }
   ],
   "source": [
    "input(\"toto\")"
   ]
  },
  {
   "cell_type": "code",
   "execution_count": 72,
   "id": "affdfca2",
   "metadata": {},
   "outputs": [
    {
     "name": "stdout",
     "output_type": "stream",
     "text": [
      "8\n"
     ]
    }
   ],
   "source": [
    "import random\n",
    "print(random.randint(1, 10))"
   ]
  },
  {
   "cell_type": "code",
   "execution_count": 74,
   "id": "9c9ce9e1",
   "metadata": {},
   "outputs": [
    {
     "name": "stdout",
     "output_type": "stream",
     "text": [
      "3 <class 'int'>\n"
     ]
    }
   ],
   "source": [
    "res = int(\"3\")\n",
    "print(res, type(res))"
   ]
  },
  {
   "cell_type": "markdown",
   "id": "271ce7ce",
   "metadata": {},
   "source": [
    "### String"
   ]
  },
  {
   "cell_type": "code",
   "execution_count": 75,
   "id": "88c9ab1c",
   "metadata": {},
   "outputs": [
    {
     "name": "stdout",
     "output_type": "stream",
     "text": [
      "5\n"
     ]
    }
   ],
   "source": [
    "ma_chaine = \"salut\"\n",
    "print(len(ma_chaine))"
   ]
  },
  {
   "cell_type": "code",
   "execution_count": 79,
   "id": "7f5ea894",
   "metadata": {},
   "outputs": [
    {
     "name": "stdout",
     "output_type": "stream",
     "text": [
      "On a mesuré 5 V\n"
     ]
    }
   ],
   "source": [
    "\"On a mesuré 5 V\"\n",
    "mesure = 5\n",
    "print(\"On a mesuré\", mesure, \"V\")"
   ]
  },
  {
   "cell_type": "code",
   "execution_count": 90,
   "id": "4e36fcb8",
   "metadata": {},
   "outputs": [
    {
     "name": "stdout",
     "output_type": "stream",
     "text": [
      "On a mesuré 5 V et 2 A\n"
     ]
    }
   ],
   "source": [
    "mesure_volt = 5\n",
    "mesure_ampere = 2\n",
    "res = \"On a mesuré \" + str(mesure_volt) + \" V et \" + str(mesure_ampere) + \" A\"\n",
    "print(res)"
   ]
  },
  {
   "cell_type": "code",
   "execution_count": 106,
   "id": "a992340c",
   "metadata": {},
   "outputs": [
    {
     "name": "stdout",
     "output_type": "stream",
     "text": [
      "On a mesuré 5.3 V et 2 A\n"
     ]
    }
   ],
   "source": [
    "mesure_volt = 5.26\n",
    "mesure_ampere = 2\n",
    "res = \"On a mesuré %.1f V et %d A\" % (mesure_volt, mesure_ampere)\n",
    "print(res)"
   ]
  },
  {
   "cell_type": "code",
   "execution_count": 131,
   "id": "e6455887",
   "metadata": {},
   "outputs": [
    {
     "name": "stdout",
     "output_type": "stream",
     "text": [
      "On a mesuré 10.25 V et 4 A\n"
     ]
    }
   ],
   "source": [
    "mesure_volt = 5.2\n",
    "mesure_ampere = 2\n",
    "res = \"On a mesuré {mesure_volt} V et {mesure_ampere} A\"\n",
    "mesure_volt = 10.25\n",
    "mesure_ampere = 4\n",
    "print(res.format(mesure_volt=mesure_volt, mesure_ampere=mesure_ampere))"
   ]
  },
  {
   "cell_type": "code",
   "execution_count": 134,
   "id": "3e3dc114",
   "metadata": {},
   "outputs": [
    {
     "name": "stdout",
     "output_type": "stream",
     "text": [
      "On a mesuré       5.25 V et 2 A\n"
     ]
    }
   ],
   "source": [
    "mesure_volt = 5.25\n",
    "mesure_ampere = 2\n",
    "res = f\"On a mesuré {mesure_volt:>10} V et {mesure_ampere} A\"\n",
    "mesure_volt = 10.25\n",
    "mesure_ampere = 4\n",
    "print(res)"
   ]
  },
  {
   "cell_type": "code",
   "execution_count": 123,
   "id": "062dd259",
   "metadata": {},
   "outputs": [
    {
     "data": {
      "text/plain": [
       "'mesure_volt=5.25, mesure_ampere=2'"
      ]
     },
     "execution_count": 123,
     "metadata": {},
     "output_type": "execute_result"
    }
   ],
   "source": [
    "f\"{mesure_volt=}, {mesure_ampere=}\""
   ]
  },
  {
   "cell_type": "code",
   "execution_count": null,
   "id": "4c215dbb",
   "metadata": {},
   "outputs": [],
   "source": [
    "b\"\""
   ]
  }
 ],
 "metadata": {
  "kernelspec": {
   "display_name": "Python 3 (ipykernel)",
   "language": "python",
   "name": "python3"
  },
  "language_info": {
   "codemirror_mode": {
    "name": "ipython",
    "version": 3
   },
   "file_extension": ".py",
   "mimetype": "text/x-python",
   "name": "python",
   "nbconvert_exporter": "python",
   "pygments_lexer": "ipython3",
   "version": "3.9.9"
  }
 },
 "nbformat": 4,
 "nbformat_minor": 5
}

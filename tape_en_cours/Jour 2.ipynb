{
 "cells": [
  {
   "cell_type": "markdown",
   "id": "ede6d05e",
   "metadata": {},
   "source": [
    "# Rappel du jour 1\n",
    "\n",
    "## Matin \n",
    "\n",
    "* installation \n",
    "* créer des environnements virtuels\n",
    "\n",
    "## Après midi\n",
    "\n",
    "* création et activations de venv depuis VSCode \n",
    "* annotations de types\n",
    "* erreurs dûes aux types\n",
    "* installation / configuration de VSCode \n",
    "    * installé l'extension VSCode python\n",
    "    * outils de gestion de la Qualité \n",
    "        * pylint / mypy : linter (le collègue maniaque) analyse statique du code, vont relevé des erreurs de syntaxe, de style (variable mal nommée, manque de docstring...), ...\n",
    "            * pylint : généraliste\n",
    "            * mypy : spécialisé sur les types \n",
    "        * black : autoformatteur \n",
    "            * `Python › Formatting: Provider` à mettre à `black`\n",
    "            * `Editor: Format On Save` : oui\n",
    "* bases de la syntaxe python"
   ]
  },
  {
   "cell_type": "code",
   "execution_count": 5,
   "id": "0556ab4f",
   "metadata": {},
   "outputs": [
    {
     "ename": "TypeError",
     "evalue": "can't multiply sequence by non-int of type 'str'",
     "output_type": "error",
     "traceback": [
      "\u001b[0;31m---------------------------------------------------------------------------\u001b[0m",
      "\u001b[0;31mTypeError\u001b[0m                                 Traceback (most recent call last)",
      "Cell \u001b[0;32mIn [5], line 5\u001b[0m\n\u001b[1;32m      2\u001b[0m \u001b[38;5;28;01mdef\u001b[39;00m \u001b[38;5;21mf\u001b[39m(a:\u001b[38;5;28mint\u001b[39m) \u001b[38;5;241m-\u001b[39m\u001b[38;5;241m>\u001b[39m \u001b[38;5;28mstr\u001b[39m:\n\u001b[1;32m      3\u001b[0m     \u001b[38;5;28;01mreturn\u001b[39;00m a\u001b[38;5;241m*\u001b[39m\u001b[38;5;124m\"\u001b[39m\u001b[38;5;124m-\u001b[39m\u001b[38;5;124m\"\u001b[39m\n\u001b[0;32m----> 5\u001b[0m \u001b[43mf\u001b[49m\u001b[43m(\u001b[49m\u001b[38;5;124;43m'\u001b[39;49m\u001b[38;5;124;43ma\u001b[39;49m\u001b[38;5;124;43m'\u001b[39;49m\u001b[43m)\u001b[49m\n",
      "Cell \u001b[0;32mIn [5], line 3\u001b[0m, in \u001b[0;36mf\u001b[0;34m(a)\u001b[0m\n\u001b[1;32m      2\u001b[0m \u001b[38;5;28;01mdef\u001b[39;00m \u001b[38;5;21mf\u001b[39m(a:\u001b[38;5;28mint\u001b[39m) \u001b[38;5;241m-\u001b[39m\u001b[38;5;241m>\u001b[39m \u001b[38;5;28mstr\u001b[39m:\n\u001b[0;32m----> 3\u001b[0m     \u001b[38;5;28;01mreturn\u001b[39;00m \u001b[43ma\u001b[49m\u001b[38;5;241;43m*\u001b[39;49m\u001b[38;5;124;43m\"\u001b[39;49m\u001b[38;5;124;43m-\u001b[39;49m\u001b[38;5;124;43m\"\u001b[39;49m\n",
      "\u001b[0;31mTypeError\u001b[0m: can't multiply sequence by non-int of type 'str'"
     ]
    }
   ],
   "source": [
    "# annotations de types\n",
    "def f(a:int) -> str:\n",
    "    return a*\"-\"\n",
    "\n",
    "f('a')"
   ]
  },
  {
   "cell_type": "markdown",
   "id": "89871f67",
   "metadata": {},
   "source": [
    "# J2"
   ]
  },
  {
   "cell_type": "markdown",
   "id": "702d378b",
   "metadata": {},
   "source": [
    "## Booléens en python"
   ]
  },
  {
   "cell_type": "code",
   "execution_count": 9,
   "id": "7bd43fb1",
   "metadata": {},
   "outputs": [
    {
     "data": {
      "text/plain": [
       "(False, False, False, False)"
      ]
     },
     "execution_count": 9,
     "metadata": {},
     "output_type": "execute_result"
    }
   ],
   "source": [
    "bool(\"\"), bool([]), bool(tuple()), bool({})"
   ]
  },
  {
   "cell_type": "code",
   "execution_count": 11,
   "id": "01abed27",
   "metadata": {},
   "outputs": [
    {
     "data": {
      "text/plain": [
       "(True, True, True, True)"
      ]
     },
     "execution_count": 11,
     "metadata": {},
     "output_type": "execute_result"
    }
   ],
   "source": [
    "bool(\"riri\"), bool([[]]), bool(tuple([1, 2])), bool({\"a\": 2})"
   ]
  },
  {
   "cell_type": "code",
   "execution_count": 14,
   "id": "8a536105",
   "metadata": {},
   "outputs": [
    {
     "data": {
      "text/plain": [
       "(False, True, True, False)"
      ]
     },
     "execution_count": 14,
     "metadata": {},
     "output_type": "execute_result"
    }
   ],
   "source": [
    "bool(0), bool(-1), bool(3), bool(3%3)"
   ]
  },
  {
   "cell_type": "code",
   "execution_count": 23,
   "id": "50b8b80b",
   "metadata": {},
   "outputs": [
    {
     "data": {
      "text/plain": [
       "'fizz'"
      ]
     },
     "execution_count": 23,
     "metadata": {},
     "output_type": "execute_result"
    }
   ],
   "source": [
    "\"fizz\" * 1 + \"buzz\" * 1"
   ]
  },
  {
   "cell_type": "code",
   "execution_count": 22,
   "id": "4f2abb66",
   "metadata": {},
   "outputs": [
    {
     "data": {
      "text/plain": [
       "(1, 0)"
      ]
     },
     "execution_count": 22,
     "metadata": {},
     "output_type": "execute_result"
    }
   ],
   "source": [
    "int(True), int(False)"
   ]
  },
  {
   "cell_type": "code",
   "execution_count": 24,
   "id": "7c67be8f",
   "metadata": {},
   "outputs": [
    {
     "data": {
      "text/plain": [
       "'fizz'"
      ]
     },
     "execution_count": 24,
     "metadata": {},
     "output_type": "execute_result"
    }
   ],
   "source": [
    "\"fizz\" * True + \"buzz\" * False"
   ]
  },
  {
   "cell_type": "code",
   "execution_count": 25,
   "id": "b9ad8c81",
   "metadata": {},
   "outputs": [
    {
     "data": {
      "text/plain": [
       "''"
      ]
     },
     "execution_count": 25,
     "metadata": {},
     "output_type": "execute_result"
    }
   ],
   "source": [
    "nombre = 4\n",
    "\"fizz\" * (nombre % 3 == 0) + \"buzz\" * (nombre % 5 == 0)"
   ]
  },
  {
   "cell_type": "code",
   "execution_count": 34,
   "id": "c9712739",
   "metadata": {},
   "outputs": [
    {
     "data": {
      "text/plain": [
       "1"
      ]
     },
     "execution_count": 34,
     "metadata": {},
     "output_type": "execute_result"
    }
   ],
   "source": [
    "1 or 1/0"
   ]
  },
  {
   "cell_type": "code",
   "execution_count": 33,
   "id": "41526924",
   "metadata": {},
   "outputs": [
    {
     "ename": "ZeroDivisionError",
     "evalue": "division by zero",
     "output_type": "error",
     "traceback": [
      "\u001b[0;31m---------------------------------------------------------------------------\u001b[0m",
      "\u001b[0;31mZeroDivisionError\u001b[0m                         Traceback (most recent call last)",
      "Cell \u001b[0;32mIn [33], line 1\u001b[0m\n\u001b[0;32m----> 1\u001b[0m \u001b[38;5;241m0\u001b[39m \u001b[38;5;129;01mor\u001b[39;00m \u001b[38;5;241;43m1\u001b[39;49m\u001b[38;5;241;43m/\u001b[39;49m\u001b[38;5;241;43m0\u001b[39;49m\n",
      "\u001b[0;31mZeroDivisionError\u001b[0m: division by zero"
     ]
    }
   ],
   "source": [
    "0 or 1/0"
   ]
  },
  {
   "cell_type": "code",
   "execution_count": 32,
   "id": "fe2ea6fc",
   "metadata": {},
   "outputs": [],
   "source": [
    "import time\n",
    "0 or time.sleep(10)"
   ]
  },
  {
   "cell_type": "code",
   "execution_count": 37,
   "id": "05aee1ae",
   "metadata": {},
   "outputs": [
    {
     "data": {
      "text/plain": [
       "1"
      ]
     },
     "execution_count": 37,
     "metadata": {},
     "output_type": "execute_result"
    }
   ],
   "source": [
    "mon_tableau = [1]\n",
    "mon_tableau and mon_tableau[0]"
   ]
  },
  {
   "cell_type": "code",
   "execution_count": 44,
   "id": "c51a3b84",
   "metadata": {},
   "outputs": [
    {
     "name": "stdout",
     "output_type": "stream",
     "text": [
      "3\n"
     ]
    }
   ],
   "source": [
    "ma_valeur = 3\n",
    "ma_valeur = ma_valeur or 4\n",
    "print(ma_valeur)"
   ]
  },
  {
   "cell_type": "code",
   "execution_count": 49,
   "id": "f45cbf8b",
   "metadata": {},
   "outputs": [
    {
     "data": {
      "text/plain": [
       "0"
      ]
     },
     "execution_count": 49,
     "metadata": {},
     "output_type": "execute_result"
    }
   ],
   "source": [
    "1 & 2"
   ]
  },
  {
   "cell_type": "code",
   "execution_count": 64,
   "id": "0961cfcd",
   "metadata": {},
   "outputs": [],
   "source": [
    "def fizz_buzz():\n",
    "    for nombre in range(1, 101):\n",
    "        if nombre % 3 == 0 and nombre % 5 == 0:\n",
    "            res = \"fizz\"\n",
    "        elif nombre % 5 == 0:\n",
    "            res = \"buzz\"\n",
    "        elif nombre % 3 == 0:\n",
    "            res = \"fizzbuzz\"\n",
    "        else:\n",
    "            res = str(nombre)\n",
    "\n",
    "\"\"\"\n",
    "def fizz_buzz_3():\n",
    "    for nombre in range(1, 101):\n",
    "        match (nombre % 3, nombre % 5):\n",
    "            case (0, 0):\n",
    "                res = \"fizzbuzz\"\n",
    "            case (_, 0):\n",
    "                res = \"buzz\"\n",
    "            case (0, _):\n",
    "                res = \"fizz\"\n",
    "            case _, _:\n",
    "                res = str(nombre)\n",
    "\"\"\"\n",
    "            \n",
    "def fizz_buzz_2():\n",
    "    for nombre in range(1, 101):\n",
    "        \"fizz\" * (nombre % 3 == 0) + \"buzz\" * (nombre % 5 == 0) or str(nombre)\n",
    "\n",
    "\n",
    "        "
   ]
  },
  {
   "cell_type": "code",
   "execution_count": 53,
   "id": "a8b26b3b",
   "metadata": {},
   "outputs": [
    {
     "name": "stdout",
     "output_type": "stream",
     "text": [
      "14.1 µs ± 458 ns per loop (mean ± std. dev. of 7 runs, 100,000 loops each)\n"
     ]
    }
   ],
   "source": [
    "%timeit fizz_buzz()"
   ]
  },
  {
   "cell_type": "code",
   "execution_count": 56,
   "id": "7535e54b",
   "metadata": {},
   "outputs": [
    {
     "name": "stdout",
     "output_type": "stream",
     "text": [
      "22 µs ± 665 ns per loop (mean ± std. dev. of 7 runs, 100,000 loops each)\n"
     ]
    }
   ],
   "source": [
    "%timeit fizz_buzz()"
   ]
  },
  {
   "cell_type": "code",
   "execution_count": 57,
   "id": "36e3125b",
   "metadata": {},
   "outputs": [
    {
     "name": "stdout",
     "output_type": "stream",
     "text": [
      "21.7 µs ± 1.52 µs per loop (mean ± std. dev. of 7 runs, 10,000 loops each)\n"
     ]
    }
   ],
   "source": [
    "%timeit fizz_buzz()"
   ]
  },
  {
   "cell_type": "code",
   "execution_count": 61,
   "id": "b14e9d7d",
   "metadata": {},
   "outputs": [
    {
     "name": "stdout",
     "output_type": "stream",
     "text": [
      "24.7 µs ± 827 ns per loop (mean ± std. dev. of 7 runs, 10,000 loops each)\n"
     ]
    }
   ],
   "source": [
    "%timeit fizz_buzz_2()"
   ]
  },
  {
   "cell_type": "code",
   "execution_count": 65,
   "id": "57ca678e",
   "metadata": {},
   "outputs": [],
   "source": [
    "cond = True\n",
    "while cond:\n",
    "    cond = False"
   ]
  },
  {
   "cell_type": "code",
   "execution_count": 66,
   "id": "0316339f",
   "metadata": {},
   "outputs": [
    {
     "name": "stdout",
     "output_type": "stream",
     "text": [
      "totosalut\n"
     ]
    },
    {
     "data": {
      "text/plain": [
       "'salut'"
      ]
     },
     "execution_count": 66,
     "metadata": {},
     "output_type": "execute_result"
    }
   ],
   "source": [
    "input(\"toto\")"
   ]
  },
  {
   "cell_type": "code",
   "execution_count": 72,
   "id": "8ce367dd",
   "metadata": {},
   "outputs": [
    {
     "name": "stdout",
     "output_type": "stream",
     "text": [
      "8\n"
     ]
    }
   ],
   "source": [
    "import random\n",
    "print(random.randint(1, 10))"
   ]
  },
  {
   "cell_type": "code",
   "execution_count": 74,
   "id": "75215792",
   "metadata": {},
   "outputs": [
    {
     "name": "stdout",
     "output_type": "stream",
     "text": [
      "3 <class 'int'>\n"
     ]
    }
   ],
   "source": [
    "res = int(\"3\")\n",
    "print(res, type(res))"
   ]
  },
  {
   "cell_type": "markdown",
   "id": "41e7c484",
   "metadata": {},
   "source": [
    "### String"
   ]
  },
  {
   "cell_type": "code",
   "execution_count": 75,
   "id": "04dfc9f3",
   "metadata": {},
   "outputs": [
    {
     "name": "stdout",
     "output_type": "stream",
     "text": [
      "5\n"
     ]
    }
   ],
   "source": [
    "ma_chaine = \"salut\"\n",
    "print(len(ma_chaine))"
   ]
  },
  {
   "cell_type": "code",
   "execution_count": 79,
   "id": "4616a36a",
   "metadata": {},
   "outputs": [
    {
     "name": "stdout",
     "output_type": "stream",
     "text": [
      "On a mesuré 5 V\n"
     ]
    }
   ],
   "source": [
    "\"On a mesuré 5 V\"\n",
    "mesure = 5\n",
    "print(\"On a mesuré\", mesure, \"V\")"
   ]
  },
  {
   "cell_type": "code",
   "execution_count": 90,
   "id": "ddda2ab8",
   "metadata": {},
   "outputs": [
    {
     "name": "stdout",
     "output_type": "stream",
     "text": [
      "On a mesuré 5 V et 2 A\n"
     ]
    }
   ],
   "source": [
    "mesure_volt = 5\n",
    "mesure_ampere = 2\n",
    "res = \"On a mesuré \" + str(mesure_volt) + \" V et \" + str(mesure_ampere) + \" A\"\n",
    "print(res)"
   ]
  },
  {
   "cell_type": "code",
   "execution_count": 106,
   "id": "05a8802f",
   "metadata": {},
   "outputs": [
    {
     "name": "stdout",
     "output_type": "stream",
     "text": [
      "On a mesuré 5.3 V et 2 A\n"
     ]
    }
   ],
   "source": [
    "mesure_volt = 5.26\n",
    "mesure_ampere = 2\n",
    "res = \"On a mesuré %.1f V et %d A\" % (mesure_volt, mesure_ampere)\n",
    "print(res)"
   ]
  },
  {
   "cell_type": "code",
   "execution_count": 131,
   "id": "64830b1c",
   "metadata": {},
   "outputs": [
    {
     "name": "stdout",
     "output_type": "stream",
     "text": [
      "On a mesuré 10.25 V et 4 A\n"
     ]
    }
   ],
   "source": [
    "mesure_volt = 5.2\n",
    "mesure_ampere = 2\n",
    "res = \"On a mesuré {mesure_volt} V et {mesure_ampere} A\"\n",
    "mesure_volt = 10.25\n",
    "mesure_ampere = 4\n",
    "print(res.format(mesure_volt=mesure_volt, mesure_ampere=mesure_ampere))"
   ]
  },
  {
   "cell_type": "code",
   "execution_count": 134,
   "id": "152af9c6",
   "metadata": {},
   "outputs": [
    {
     "name": "stdout",
     "output_type": "stream",
     "text": [
      "On a mesuré       5.25 V et 2 A\n"
     ]
    }
   ],
   "source": [
    "mesure_volt = 5.25\n",
    "mesure_ampere = 2\n",
    "res = f\"On a mesuré {mesure_volt:>10} V et {mesure_ampere} A\"\n",
    "mesure_volt = 10.25\n",
    "mesure_ampere = 4\n",
    "print(res)"
   ]
  },
  {
   "cell_type": "code",
   "execution_count": 123,
   "id": "0a234e98",
   "metadata": {},
   "outputs": [
    {
     "data": {
      "text/plain": [
       "'mesure_volt=5.25, mesure_ampere=2'"
      ]
     },
     "execution_count": 123,
     "metadata": {},
     "output_type": "execute_result"
    }
   ],
   "source": [
    "f\"{mesure_volt=}, {mesure_ampere=}\""
   ]
  },
  {
   "cell_type": "code",
   "execution_count": 142,
   "id": "6e80e5cc",
   "metadata": {},
   "outputs": [
    {
     "data": {
      "text/plain": [
       "'On a mesure 5 V'"
      ]
     },
     "execution_count": 142,
     "metadata": {},
     "output_type": "execute_result"
    }
   ],
   "source": [
    "\" \".join([\"On a mesure\", \"5\", \"V\"])"
   ]
  },
  {
   "cell_type": "code",
   "execution_count": 144,
   "id": "46109c70",
   "metadata": {},
   "outputs": [
    {
     "data": {
      "text/plain": [
       "['On', 'a', 'mesure', '5', 'V']"
      ]
     },
     "execution_count": 144,
     "metadata": {},
     "output_type": "execute_result"
    }
   ],
   "source": [
    "\"On a mesure 5 V\".split(\" \")"
   ]
  },
  {
   "cell_type": "code",
   "execution_count": 152,
   "id": "4039ce25",
   "metadata": {},
   "outputs": [
    {
     "data": {
      "text/plain": [
       "54.34434"
      ]
     },
     "execution_count": 152,
     "metadata": {},
     "output_type": "execute_result"
    }
   ],
   "source": [
    "float(\" \\t  54.34434   \\n \".strip())"
   ]
  },
  {
   "cell_type": "code",
   "execution_count": 153,
   "id": "659d3214",
   "metadata": {},
   "outputs": [],
   "source": [
    "# parler des fonctions \n",
    "# bytearray / bytestrings \n",
    "# manipulation fichiers\n",
    "# exo "
   ]
  },
  {
   "cell_type": "markdown",
   "id": "059debc5",
   "metadata": {},
   "source": [
    "# J2 Après midi\n",
    "\n",
    "## Rappel du matin \n",
    "\n",
    "* boucles while\n",
    "* gestion des boucles : \n",
    "    * break : on sort de la boucle\n",
    "    * continue : on passe à l'itération suivante\n",
    "* exception:\n",
    "    * `try`, `except`, `else`, `finally` \n",
    "    * il faut mettre le minimum dans try \n",
    "    * il faut capture l'exception précise\n",
    "* match case (python >= 3.10)\n",
    "* gestion des booléens (mots clés `or` et `and`)\n",
    "* input qui retourne toujours une chaine\n",
    "* nombres aléatoires (module à importer)\n",
    "* formatage de chaines"
   ]
  },
  {
   "cell_type": "code",
   "execution_count": 160,
   "id": "d8eda772",
   "metadata": {},
   "outputs": [
    {
     "name": "stdout",
     "output_type": "stream",
     "text": [
      "1\n",
      "2\n",
      "3\n",
      "4\n",
      "5\n",
      "6\n",
      "7\n",
      "8\n",
      "9\n",
      "10\n"
     ]
    }
   ],
   "source": [
    "i = 0\n",
    "while i < 10:\n",
    "    while True:\n",
    "        break\n",
    "    i += 1\n",
    "    print(i)"
   ]
  },
  {
   "cell_type": "code",
   "execution_count": 173,
   "id": "d0eb32f0",
   "metadata": {},
   "outputs": [
    {
     "name": "stdout",
     "output_type": "stream",
     "text": [
      "mauvais nom name 'intf' is not defined <class 'NameError'>\n"
     ]
    }
   ],
   "source": [
    "try:\n",
    "    a = intf(\"toto\")\n",
    "except ValueError as e:\n",
    "    print(\"oups\", e, type(e))\n",
    "except (NameError, TypeError) as e:\n",
    "    print(\"mauvais nom\", e, type(e))\n",
    "except Exception as e:\n",
    "    print(\"ça marche vraiment pas\")\n"
   ]
  },
  {
   "cell_type": "code",
   "execution_count": 165,
   "id": "6e08bf86",
   "metadata": {},
   "outputs": [
    {
     "ename": "NameError",
     "evalue": "name 'intf' is not defined",
     "output_type": "error",
     "traceback": [
      "\u001b[0;31m---------------------------------------------------------------------------\u001b[0m",
      "\u001b[0;31mNameError\u001b[0m                                 Traceback (most recent call last)",
      "Cell \u001b[0;32mIn [165], line 1\u001b[0m\n\u001b[0;32m----> 1\u001b[0m \u001b[43mintf\u001b[49m\n",
      "\u001b[0;31mNameError\u001b[0m: name 'intf' is not defined"
     ]
    }
   ],
   "source": [
    "intf"
   ]
  },
  {
   "cell_type": "code",
   "execution_count": 174,
   "id": "d928943d",
   "metadata": {},
   "outputs": [],
   "source": [
    "import random"
   ]
  },
  {
   "cell_type": "code",
   "execution_count": 186,
   "id": "896ce30a",
   "metadata": {},
   "outputs": [
    {
     "data": {
      "text/plain": [
       "'Salut'"
      ]
     },
     "execution_count": 186,
     "metadata": {},
     "output_type": "execute_result"
    }
   ],
   "source": [
    "s = \"Salut les amis\".split(\" \")\n",
    "random.choice(s)"
   ]
  },
  {
   "cell_type": "code",
   "execution_count": 193,
   "id": "c196bbd4",
   "metadata": {},
   "outputs": [],
   "source": [
    "from matplotlib import pyplot as plt "
   ]
  },
  {
   "cell_type": "code",
   "execution_count": 197,
   "id": "84f1b6ca",
   "metadata": {},
   "outputs": [],
   "source": [
    "import random as r\n",
    "import numpy as np \n",
    "from numpy import random as np_random\n",
    "\n",
    "from numpy import * # je déconseille "
   ]
  },
  {
   "cell_type": "code",
   "execution_count": 199,
   "id": "7f0ca50d",
   "metadata": {},
   "outputs": [],
   "source": [
    "# fonctions\n",
    "# conteneurs \n",
    "# tests unitaires \n",
    "# fichiers"
   ]
  },
  {
   "cell_type": "markdown",
   "id": "91146ea2",
   "metadata": {},
   "source": [
    "## Lire des fichiers "
   ]
  },
  {
   "cell_type": "code",
   "execution_count": 211,
   "id": "801c83f7",
   "metadata": {},
   "outputs": [
    {
     "name": "stdout",
     "output_type": "stream",
     "text": [
      "print(locals(), globals())\n",
      "import numpy\n",
      "\n",
      "print(locals(), globals())\n",
      "from numpy import *\n",
      "\n",
      "print(locals(), globals())\n",
      "print(str)\n"
     ]
    }
   ],
   "source": [
    "f= open(\"./variables.py\")\n",
    "for line in f:\n",
    "    print(line, end=\"\")\n",
    "f.close()"
   ]
  },
  {
   "cell_type": "code",
   "execution_count": 215,
   "id": "40964eac",
   "metadata": {},
   "outputs": [
    {
     "name": "stdout",
     "output_type": "stream",
     "text": [
      "print(locals(), globals())\n",
      "import numpy\n",
      "\n",
      "print(locals(), globals())\n",
      "from numpy import *\n",
      "\n",
      "print(locals(), globals())\n",
      "print(str)\n"
     ]
    }
   ],
   "source": [
    "with open(\"./variables.py\") as f:\n",
    "    for line in f:\n",
    "        print(line, end=\"\")"
   ]
  },
  {
   "cell_type": "code",
   "execution_count": 234,
   "id": "cfd5a8e8",
   "metadata": {},
   "outputs": [],
   "source": [
    "s = [\"salut les amis\\n\", \"il fait froid aujourd'hui\"]\n",
    "f = open(\"exemple_ecriture.txt\", \"w\")\n",
    "f.writelines(s)\n",
    "f.close()"
   ]
  },
  {
   "cell_type": "code",
   "execution_count": 219,
   "id": "d5def792",
   "metadata": {},
   "outputs": [],
   "source": [
    "import json"
   ]
  },
  {
   "cell_type": "code",
   "execution_count": 223,
   "id": "7a0c54e3",
   "metadata": {},
   "outputs": [],
   "source": [
    "with open(\"exemple_ecriture.txt\", \"w\") as f:\n",
    "    json.dump(s, f)"
   ]
  },
  {
   "cell_type": "code",
   "execution_count": 227,
   "id": "84f95ff4",
   "metadata": {},
   "outputs": [],
   "source": [
    "s = json.load(open(\"exemple_ecriture.txt\"))"
   ]
  },
  {
   "cell_type": "code",
   "execution_count": 231,
   "id": "fab7711c",
   "metadata": {},
   "outputs": [
    {
     "data": {
      "text/plain": [
       "'[\"salut les amis\\\\n\", \"pas\", \"il fait froid aujourd\\'hui\"]'"
      ]
     },
     "execution_count": 231,
     "metadata": {},
     "output_type": "execute_result"
    }
   ],
   "source": [
    "json.dumps(s)"
   ]
  },
  {
   "cell_type": "code",
   "execution_count": 232,
   "id": "71d3e9f4",
   "metadata": {},
   "outputs": [],
   "source": [
    "import csv\n",
    "with open('eggs.csv', 'w', newline='') as csvfile:\n",
    "    spamwriter = csv.writer(csvfile, delimiter=',',\n",
    "                            quotechar=\"'\", quoting=csv.QUOTE_MINIMAL)\n",
    "    spamwriter.writerow(['Spam'] * 5 + ['Baked Beans'])\n",
    "    spamwriter.writerow(['Spam', 'Lovely, Spam', 'Wonderful Spam'])"
   ]
  },
  {
   "cell_type": "code",
   "execution_count": 236,
   "id": "6bdc8d64",
   "metadata": {},
   "outputs": [
    {
     "name": "stdout",
     "output_type": "stream",
     "text": [
      "Spam, Spam, Spam, Spam, Spam, Baked Beans\n",
      "Spam, Lovely Spam, Wonderful Spam\n"
     ]
    }
   ],
   "source": [
    "import csv\n",
    "with open('eggs.csv', newline='') as csvfile:  # un commentaire\n",
    "    spamreader = csv.reader(csvfile, delimiter=' ', quotechar='|')\n",
    "    for row in spamreader:\n",
    "        print(', '.join(row))"
   ]
  },
  {
   "cell_type": "markdown",
   "id": "a3e9c253",
   "metadata": {},
   "source": [
    "### Conteneurs"
   ]
  },
  {
   "cell_type": "code",
   "execution_count": 244,
   "id": "bfc32c74",
   "metadata": {},
   "outputs": [
    {
     "name": "stdout",
     "output_type": "stream",
     "text": [
      "[1, 2, 'fdghjk', []] <class 'list'>\n"
     ]
    }
   ],
   "source": [
    "a = [1, 2, \"fdghjk\", []]\n",
    "print(a, type(a))"
   ]
  },
  {
   "cell_type": "code",
   "execution_count": 245,
   "id": "ac15a674",
   "metadata": {},
   "outputs": [
    {
     "name": "stdout",
     "output_type": "stream",
     "text": [
      "[1, 2, 'toto', []] <class 'list'>\n"
     ]
    }
   ],
   "source": [
    "a[2] = \"toto\"\n",
    "print(a, type(a))"
   ]
  },
  {
   "cell_type": "code",
   "execution_count": 253,
   "id": "471000d4",
   "metadata": {},
   "outputs": [
    {
     "name": "stdout",
     "output_type": "stream",
     "text": [
      "[1, 2, 'riri', 'toto', [], 4, 4, 4, 4, 4, 4, 4, 4] <class 'list'>\n",
      "[1, 2, 'riri', 'riri', 'toto', [], 4, 4, 4, 4, 4, 4, 4, 4] <class 'list'>\n"
     ]
    }
   ],
   "source": [
    "a.append(4)\n",
    "print(a, type(a))\n",
    "\n",
    "a.insert(2, \"riri\")\n",
    "print(a, type(a))"
   ]
  },
  {
   "cell_type": "code",
   "execution_count": 256,
   "id": "1ba0b4cb",
   "metadata": {},
   "outputs": [
    {
     "data": {
      "text/plain": [
       "340282366920938463500268095579187314689"
      ]
     },
     "execution_count": 256,
     "metadata": {},
     "output_type": "execute_result"
    }
   ],
   "source": [
    "(2**64+1)**2"
   ]
  },
  {
   "cell_type": "code",
   "execution_count": 259,
   "id": "dc9e6970",
   "metadata": {},
   "outputs": [
    {
     "ename": "IndexError",
     "evalue": "list index out of range",
     "output_type": "error",
     "traceback": [
      "\u001b[0;31m---------------------------------------------------------------------------\u001b[0m",
      "\u001b[0;31mIndexError\u001b[0m                                Traceback (most recent call last)",
      "Cell \u001b[0;32mIn [259], line 1\u001b[0m\n\u001b[0;32m----> 1\u001b[0m \u001b[43ma\u001b[49m\u001b[43m[\u001b[49m\u001b[38;5;241;43m255543\u001b[39;49m\u001b[43m]\u001b[49m\n",
      "\u001b[0;31mIndexError\u001b[0m: list index out of range"
     ]
    }
   ],
   "source": [
    "a[255543]"
   ]
  },
  {
   "cell_type": "code",
   "execution_count": 265,
   "id": "cae48941",
   "metadata": {},
   "outputs": [
    {
     "data": {
      "text/plain": [
       "'c'"
      ]
     },
     "execution_count": 265,
     "metadata": {},
     "output_type": "execute_result"
    }
   ],
   "source": [
    "a = [\"a\", \"b\", \"c\", \"d\"]\n",
    "a[-2]"
   ]
  },
  {
   "cell_type": "code",
   "execution_count": 270,
   "id": "98c3e777",
   "metadata": {},
   "outputs": [
    {
     "data": {
      "text/plain": [
       "(['b', 'c'], ['d'], [])"
      ]
     },
     "execution_count": 270,
     "metadata": {},
     "output_type": "execute_result"
    }
   ],
   "source": [
    "a = [\"a\", \"b\", \"c\", \"d\"] * 5\n",
    "a[1:3], a[3:4], a[1234:2344543]"
   ]
  },
  {
   "cell_type": "code",
   "execution_count": 273,
   "id": "9ecd71ce",
   "metadata": {},
   "outputs": [
    {
     "name": "stdout",
     "output_type": "stream",
     "text": [
      "[0, 1, 2, 3, 4, 5, 6, 7, 8, 9]\n",
      "[1, 2, 3, 4, 5, 6, 7, 8, 9, 10]\n",
      "[2, 3, 4, 5, 6, 7, 8, 9, 10, 11]\n",
      "[3, 4, 5, 6, 7, 8, 9, 10, 11, 12]\n",
      "[4, 5, 6, 7, 8, 9, 10, 11, 12, 13]\n",
      "[5, 6, 7, 8, 9, 10, 11, 12, 13, 14]\n",
      "[6, 7, 8, 9, 10, 11, 12, 13, 14, 15]\n",
      "[7, 8, 9, 10, 11, 12, 13, 14, 15, 16]\n",
      "[8, 9, 10, 11, 12, 13, 14, 15, 16, 17]\n",
      "[9, 10, 11, 12, 13, 14, 15, 16, 17, 18]\n",
      "[10, 11, 12, 13, 14, 15, 16, 17, 18, 19]\n",
      "[11, 12, 13, 14, 15, 16, 17, 18, 19, 20]\n",
      "[12, 13, 14, 15, 16, 17, 18, 19, 20, 21]\n",
      "[13, 14, 15, 16, 17, 18, 19, 20, 21, 22]\n",
      "[14, 15, 16, 17, 18, 19, 20, 21, 22, 23]\n",
      "[15, 16, 17, 18, 19, 20, 21, 22, 23, 24]\n",
      "[16, 17, 18, 19, 20, 21, 22, 23, 24, 25]\n",
      "[17, 18, 19, 20, 21, 22, 23, 24, 25, 26]\n",
      "[18, 19, 20, 21, 22, 23, 24, 25, 26, 27]\n",
      "[19, 20, 21, 22, 23, 24, 25, 26, 27, 28]\n",
      "[20, 21, 22, 23, 24, 25, 26, 27, 28, 29]\n",
      "[21, 22, 23, 24, 25, 26, 27, 28, 29, 30]\n",
      "[22, 23, 24, 25, 26, 27, 28, 29, 30, 31]\n",
      "[23, 24, 25, 26, 27, 28, 29, 30, 31, 32]\n",
      "[24, 25, 26, 27, 28, 29, 30, 31, 32, 33]\n",
      "[25, 26, 27, 28, 29, 30, 31, 32, 33, 34]\n",
      "[26, 27, 28, 29, 30, 31, 32, 33, 34, 35]\n",
      "[27, 28, 29, 30, 31, 32, 33, 34, 35, 36]\n",
      "[28, 29, 30, 31, 32, 33, 34, 35, 36, 37]\n",
      "[29, 30, 31, 32, 33, 34, 35, 36, 37, 38]\n",
      "[30, 31, 32, 33, 34, 35, 36, 37, 38, 39]\n",
      "[31, 32, 33, 34, 35, 36, 37, 38, 39, 40]\n",
      "[32, 33, 34, 35, 36, 37, 38, 39, 40, 41]\n",
      "[33, 34, 35, 36, 37, 38, 39, 40, 41, 42]\n",
      "[34, 35, 36, 37, 38, 39, 40, 41, 42, 43]\n",
      "[35, 36, 37, 38, 39, 40, 41, 42, 43, 44]\n",
      "[36, 37, 38, 39, 40, 41, 42, 43, 44, 45]\n",
      "[37, 38, 39, 40, 41, 42, 43, 44, 45, 46]\n",
      "[38, 39, 40, 41, 42, 43, 44, 45, 46, 47]\n",
      "[39, 40, 41, 42, 43, 44, 45, 46, 47, 48]\n",
      "[40, 41, 42, 43, 44, 45, 46, 47, 48, 49]\n",
      "[41, 42, 43, 44, 45, 46, 47, 48, 49, 50]\n",
      "[42, 43, 44, 45, 46, 47, 48, 49, 50, 51]\n",
      "[43, 44, 45, 46, 47, 48, 49, 50, 51, 52]\n",
      "[44, 45, 46, 47, 48, 49, 50, 51, 52, 53]\n",
      "[45, 46, 47, 48, 49, 50, 51, 52, 53, 54]\n",
      "[46, 47, 48, 49, 50, 51, 52, 53, 54, 55]\n",
      "[47, 48, 49, 50, 51, 52, 53, 54, 55, 56]\n",
      "[48, 49, 50, 51, 52, 53, 54, 55, 56, 57]\n",
      "[49, 50, 51, 52, 53, 54, 55, 56, 57, 58]\n",
      "[50, 51, 52, 53, 54, 55, 56, 57, 58, 59]\n",
      "[51, 52, 53, 54, 55, 56, 57, 58, 59, 60]\n",
      "[52, 53, 54, 55, 56, 57, 58, 59, 60, 61]\n",
      "[53, 54, 55, 56, 57, 58, 59, 60, 61, 62]\n",
      "[54, 55, 56, 57, 58, 59, 60, 61, 62, 63]\n",
      "[55, 56, 57, 58, 59, 60, 61, 62, 63, 64]\n",
      "[56, 57, 58, 59, 60, 61, 62, 63, 64, 65]\n",
      "[57, 58, 59, 60, 61, 62, 63, 64, 65, 66]\n",
      "[58, 59, 60, 61, 62, 63, 64, 65, 66, 67]\n",
      "[59, 60, 61, 62, 63, 64, 65, 66, 67, 68]\n",
      "[60, 61, 62, 63, 64, 65, 66, 67, 68, 69]\n",
      "[61, 62, 63, 64, 65, 66, 67, 68, 69, 70]\n",
      "[62, 63, 64, 65, 66, 67, 68, 69, 70, 71]\n",
      "[63, 64, 65, 66, 67, 68, 69, 70, 71, 72]\n",
      "[64, 65, 66, 67, 68, 69, 70, 71, 72, 73]\n",
      "[65, 66, 67, 68, 69, 70, 71, 72, 73, 74]\n",
      "[66, 67, 68, 69, 70, 71, 72, 73, 74, 75]\n",
      "[67, 68, 69, 70, 71, 72, 73, 74, 75, 76]\n",
      "[68, 69, 70, 71, 72, 73, 74, 75, 76, 77]\n",
      "[69, 70, 71, 72, 73, 74, 75, 76, 77, 78]\n",
      "[70, 71, 72, 73, 74, 75, 76, 77, 78, 79]\n",
      "[71, 72, 73, 74, 75, 76, 77, 78, 79, 80]\n",
      "[72, 73, 74, 75, 76, 77, 78, 79, 80, 81]\n",
      "[73, 74, 75, 76, 77, 78, 79, 80, 81, 82]\n",
      "[74, 75, 76, 77, 78, 79, 80, 81, 82, 83]\n",
      "[75, 76, 77, 78, 79, 80, 81, 82, 83, 84]\n",
      "[76, 77, 78, 79, 80, 81, 82, 83, 84, 85]\n",
      "[77, 78, 79, 80, 81, 82, 83, 84, 85, 86]\n",
      "[78, 79, 80, 81, 82, 83, 84, 85, 86, 87]\n",
      "[79, 80, 81, 82, 83, 84, 85, 86, 87, 88]\n",
      "[80, 81, 82, 83, 84, 85, 86, 87, 88, 89]\n",
      "[81, 82, 83, 84, 85, 86, 87, 88, 89, 90]\n",
      "[82, 83, 84, 85, 86, 87, 88, 89, 90, 91]\n",
      "[83, 84, 85, 86, 87, 88, 89, 90, 91, 92]\n",
      "[84, 85, 86, 87, 88, 89, 90, 91, 92, 93]\n",
      "[85, 86, 87, 88, 89, 90, 91, 92, 93, 94]\n",
      "[86, 87, 88, 89, 90, 91, 92, 93, 94, 95]\n",
      "[87, 88, 89, 90, 91, 92, 93, 94, 95, 96]\n",
      "[88, 89, 90, 91, 92, 93, 94, 95, 96, 97]\n",
      "[89, 90, 91, 92, 93, 94, 95, 96, 97, 98]\n",
      "[90, 91, 92, 93, 94, 95, 96, 97, 98, 99]\n"
     ]
    }
   ],
   "source": [
    "a = list(range(100))\n",
    "for i in range(len(a)):\n",
    "    window = a[i:i+10]\n",
    "    if len(window) < 10:\n",
    "        continue\n",
    "    print(window)"
   ]
  },
  {
   "cell_type": "code",
   "execution_count": 280,
   "id": "36cdf2d5",
   "metadata": {},
   "outputs": [
    {
     "name": "stdout",
     "output_type": "stream",
     "text": [
      "[[1, 2], [10, 4]]\n"
     ]
    }
   ],
   "source": [
    "b = [\n",
    "    [1, 2], \n",
    "    [3, 4]\n",
    "]\n",
    "b[1][0] = 10\n",
    "print(b)"
   ]
  },
  {
   "cell_type": "code",
   "execution_count": 285,
   "id": "fd488c0d",
   "metadata": {},
   "outputs": [
    {
     "name": "stdout",
     "output_type": "stream",
     "text": [
      "['a', 'z', 'e', 'r'] ['a' 'e' 'r' 'z']\n"
     ]
    }
   ],
   "source": [
    "c = [\"a\", \"z\", \"e\", \"r\"]\n",
    "d = sort(c)\n",
    "print(c, d)"
   ]
  },
  {
   "cell_type": "code",
   "execution_count": 286,
   "id": "17987b48",
   "metadata": {},
   "outputs": [
    {
     "name": "stdout",
     "output_type": "stream",
     "text": [
      "['a', 'e', 'r', 'z'] None\n"
     ]
    }
   ],
   "source": [
    "c = [\"a\", \"z\", \"e\", \"r\"]\n",
    "d = c.sort()\n",
    "print(c, d)"
   ]
  },
  {
   "cell_type": "code",
   "execution_count": 290,
   "id": "4169bfa6",
   "metadata": {},
   "outputs": [
    {
     "name": "stdout",
     "output_type": "stream",
     "text": [
      "[['r', 0], ['e', 1], ['z', 2], ['a', 3]]\n"
     ]
    }
   ],
   "source": [
    "c = [[\"a\", 3], [\"z\", 2], [\"e\", 1], [\"r\", 0]]\n",
    "ma_cle = lambda x: x[1]\n",
    "def ma_cle(x):\n",
    "    return x[1]\n",
    "c.sort(key=lambda x: x[1])\n",
    "print(c)"
   ]
  },
  {
   "cell_type": "code",
   "execution_count": 293,
   "id": "7585474c",
   "metadata": {},
   "outputs": [
    {
     "data": {
      "text/plain": [
       "2"
      ]
     },
     "execution_count": 293,
     "metadata": {},
     "output_type": "execute_result"
    }
   ],
   "source": [
    "ma_cle([1, 2])"
   ]
  },
  {
   "cell_type": "code",
   "execution_count": null,
   "id": "faa9cf4a",
   "metadata": {},
   "outputs": [],
   "source": []
  }
 ],
 "metadata": {
  "kernelspec": {
   "display_name": "Python 3 (ipykernel)",
   "language": "python",
   "name": "python3"
  },
  "language_info": {
   "codemirror_mode": {
    "name": "ipython",
    "version": 3
   },
   "file_extension": ".py",
   "mimetype": "text/x-python",
   "name": "python",
   "nbconvert_exporter": "python",
   "pygments_lexer": "ipython3",
   "version": "3.9.9"
  }
 },
 "nbformat": 4,
 "nbformat_minor": 5
}

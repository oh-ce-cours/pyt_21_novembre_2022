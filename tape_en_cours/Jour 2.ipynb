{
 "cells": [
  {
   "cell_type": "markdown",
   "id": "4bc4d021",
   "metadata": {},
   "source": [
    "# Rappel du jour 1\n",
    "\n",
    "## Matin \n",
    "\n",
    "* installation \n",
    "* créer des environnements virtuels\n",
    "\n",
    "## Après midi\n",
    "\n",
    "* création et activations de venv depuis VSCode \n",
    "* annotations de types\n",
    "* erreurs dûes aux types\n",
    "* installation / configuration de VSCode \n",
    "    * installé l'extension VSCode python\n",
    "    * outils de gestion de la Qualité \n",
    "        * pylint / mypy : linter (le collègue maniaque) analyse statique du code, vont relevé des erreurs de syntaxe, de style (variable mal nommée, manque de docstring...), ...\n",
    "            * pylint : généraliste\n",
    "            * mypy : spécialisé sur les types \n",
    "        * black : autoformatteur \n",
    "            * `Python › Formatting: Provider` à mettre à `black`\n",
    "            * `Editor: Format On Save` : oui\n",
    "* bases de la syntaxe python"
   ]
  },
  {
   "cell_type": "code",
   "execution_count": 5,
   "id": "8df4e096",
   "metadata": {},
   "outputs": [
    {
     "ename": "TypeError",
     "evalue": "can't multiply sequence by non-int of type 'str'",
     "output_type": "error",
     "traceback": [
      "\u001b[0;31m---------------------------------------------------------------------------\u001b[0m",
      "\u001b[0;31mTypeError\u001b[0m                                 Traceback (most recent call last)",
      "Cell \u001b[0;32mIn [5], line 5\u001b[0m\n\u001b[1;32m      2\u001b[0m \u001b[38;5;28;01mdef\u001b[39;00m \u001b[38;5;21mf\u001b[39m(a:\u001b[38;5;28mint\u001b[39m) \u001b[38;5;241m-\u001b[39m\u001b[38;5;241m>\u001b[39m \u001b[38;5;28mstr\u001b[39m:\n\u001b[1;32m      3\u001b[0m     \u001b[38;5;28;01mreturn\u001b[39;00m a\u001b[38;5;241m*\u001b[39m\u001b[38;5;124m\"\u001b[39m\u001b[38;5;124m-\u001b[39m\u001b[38;5;124m\"\u001b[39m\n\u001b[0;32m----> 5\u001b[0m \u001b[43mf\u001b[49m\u001b[43m(\u001b[49m\u001b[38;5;124;43m'\u001b[39;49m\u001b[38;5;124;43ma\u001b[39;49m\u001b[38;5;124;43m'\u001b[39;49m\u001b[43m)\u001b[49m\n",
      "Cell \u001b[0;32mIn [5], line 3\u001b[0m, in \u001b[0;36mf\u001b[0;34m(a)\u001b[0m\n\u001b[1;32m      2\u001b[0m \u001b[38;5;28;01mdef\u001b[39;00m \u001b[38;5;21mf\u001b[39m(a:\u001b[38;5;28mint\u001b[39m) \u001b[38;5;241m-\u001b[39m\u001b[38;5;241m>\u001b[39m \u001b[38;5;28mstr\u001b[39m:\n\u001b[0;32m----> 3\u001b[0m     \u001b[38;5;28;01mreturn\u001b[39;00m \u001b[43ma\u001b[49m\u001b[38;5;241;43m*\u001b[39;49m\u001b[38;5;124;43m\"\u001b[39;49m\u001b[38;5;124;43m-\u001b[39;49m\u001b[38;5;124;43m\"\u001b[39;49m\n",
      "\u001b[0;31mTypeError\u001b[0m: can't multiply sequence by non-int of type 'str'"
     ]
    }
   ],
   "source": [
    "# annotations de types\n",
    "def f(a:int) -> str:\n",
    "    return a*\"-\"\n",
    "\n",
    "f('a')"
   ]
  },
  {
   "cell_type": "markdown",
   "id": "312a5110",
   "metadata": {},
   "source": [
    "# J2"
   ]
  },
  {
   "cell_type": "markdown",
   "id": "70d2416a",
   "metadata": {},
   "source": [
    "## Booléens en python"
   ]
  },
  {
   "cell_type": "code",
   "execution_count": 9,
   "id": "5456d7e4",
   "metadata": {},
   "outputs": [
    {
     "data": {
      "text/plain": [
       "(False, False, False, False)"
      ]
     },
     "execution_count": 9,
     "metadata": {},
     "output_type": "execute_result"
    }
   ],
   "source": [
    "bool(\"\"), bool([]), bool(tuple()), bool({})"
   ]
  },
  {
   "cell_type": "code",
   "execution_count": 11,
   "id": "09f5a112",
   "metadata": {},
   "outputs": [
    {
     "data": {
      "text/plain": [
       "(True, True, True, True)"
      ]
     },
     "execution_count": 11,
     "metadata": {},
     "output_type": "execute_result"
    }
   ],
   "source": [
    "bool(\"riri\"), bool([[]]), bool(tuple([1, 2])), bool({\"a\": 2})"
   ]
  },
  {
   "cell_type": "code",
   "execution_count": 14,
   "id": "8c4000e8",
   "metadata": {},
   "outputs": [
    {
     "data": {
      "text/plain": [
       "(False, True, True, False)"
      ]
     },
     "execution_count": 14,
     "metadata": {},
     "output_type": "execute_result"
    }
   ],
   "source": [
    "bool(0), bool(-1), bool(3), bool(3%3)"
   ]
  },
  {
   "cell_type": "code",
   "execution_count": 23,
   "id": "2436ea07",
   "metadata": {},
   "outputs": [
    {
     "data": {
      "text/plain": [
       "'fizz'"
      ]
     },
     "execution_count": 23,
     "metadata": {},
     "output_type": "execute_result"
    }
   ],
   "source": [
    "\"fizz\" * 1 + \"buzz\" * 1"
   ]
  },
  {
   "cell_type": "code",
   "execution_count": 22,
   "id": "92287d59",
   "metadata": {},
   "outputs": [
    {
     "data": {
      "text/plain": [
       "(1, 0)"
      ]
     },
     "execution_count": 22,
     "metadata": {},
     "output_type": "execute_result"
    }
   ],
   "source": [
    "int(True), int(False)"
   ]
  },
  {
   "cell_type": "code",
   "execution_count": 24,
   "id": "003d4618",
   "metadata": {},
   "outputs": [
    {
     "data": {
      "text/plain": [
       "'fizz'"
      ]
     },
     "execution_count": 24,
     "metadata": {},
     "output_type": "execute_result"
    }
   ],
   "source": [
    "\"fizz\" * True + \"buzz\" * False"
   ]
  },
  {
   "cell_type": "code",
   "execution_count": 25,
   "id": "eed3f89a",
   "metadata": {},
   "outputs": [
    {
     "data": {
      "text/plain": [
       "''"
      ]
     },
     "execution_count": 25,
     "metadata": {},
     "output_type": "execute_result"
    }
   ],
   "source": [
    "nombre = 4\n",
    "\"fizz\" * (nombre % 3 == 0) + \"buzz\" * (nombre % 5 == 0)"
   ]
  },
  {
   "cell_type": "code",
   "execution_count": 34,
   "id": "048cce4b",
   "metadata": {},
   "outputs": [
    {
     "data": {
      "text/plain": [
       "1"
      ]
     },
     "execution_count": 34,
     "metadata": {},
     "output_type": "execute_result"
    }
   ],
   "source": [
    "1 or 1/0"
   ]
  },
  {
   "cell_type": "code",
   "execution_count": 33,
   "id": "25bef5bd",
   "metadata": {},
   "outputs": [
    {
     "ename": "ZeroDivisionError",
     "evalue": "division by zero",
     "output_type": "error",
     "traceback": [
      "\u001b[0;31m---------------------------------------------------------------------------\u001b[0m",
      "\u001b[0;31mZeroDivisionError\u001b[0m                         Traceback (most recent call last)",
      "Cell \u001b[0;32mIn [33], line 1\u001b[0m\n\u001b[0;32m----> 1\u001b[0m \u001b[38;5;241m0\u001b[39m \u001b[38;5;129;01mor\u001b[39;00m \u001b[38;5;241;43m1\u001b[39;49m\u001b[38;5;241;43m/\u001b[39;49m\u001b[38;5;241;43m0\u001b[39;49m\n",
      "\u001b[0;31mZeroDivisionError\u001b[0m: division by zero"
     ]
    }
   ],
   "source": [
    "0 or 1/0"
   ]
  },
  {
   "cell_type": "code",
   "execution_count": 32,
   "id": "3c3a383c",
   "metadata": {},
   "outputs": [],
   "source": [
    "import time\n",
    "0 or time.sleep(10)"
   ]
  },
  {
   "cell_type": "code",
   "execution_count": 37,
   "id": "0870c7a5",
   "metadata": {},
   "outputs": [
    {
     "data": {
      "text/plain": [
       "1"
      ]
     },
     "execution_count": 37,
     "metadata": {},
     "output_type": "execute_result"
    }
   ],
   "source": [
    "mon_tableau = [1]\n",
    "mon_tableau and mon_tableau[0]"
   ]
  },
  {
   "cell_type": "code",
   "execution_count": 44,
   "id": "5724cb29",
   "metadata": {},
   "outputs": [
    {
     "name": "stdout",
     "output_type": "stream",
     "text": [
      "3\n"
     ]
    }
   ],
   "source": [
    "ma_valeur = 3\n",
    "ma_valeur = ma_valeur or 4\n",
    "print(ma_valeur)"
   ]
  },
  {
   "cell_type": "code",
   "execution_count": 49,
   "id": "49d53992",
   "metadata": {},
   "outputs": [
    {
     "data": {
      "text/plain": [
       "0"
      ]
     },
     "execution_count": 49,
     "metadata": {},
     "output_type": "execute_result"
    }
   ],
   "source": [
    "1 & 2"
   ]
  },
  {
   "cell_type": "code",
   "execution_count": 64,
   "id": "c5560ffd",
   "metadata": {},
   "outputs": [],
   "source": [
    "def fizz_buzz():\n",
    "    for nombre in range(1, 101):\n",
    "        if nombre % 3 == 0 and nombre % 5 == 0:\n",
    "            res = \"fizz\"\n",
    "        elif nombre % 5 == 0:\n",
    "            res = \"buzz\"\n",
    "        elif nombre % 3 == 0:\n",
    "            res = \"fizzbuzz\"\n",
    "        else:\n",
    "            res = str(nombre)\n",
    "\n",
    "\"\"\"\n",
    "def fizz_buzz_3():\n",
    "    for nombre in range(1, 101):\n",
    "        match (nombre % 3, nombre % 5):\n",
    "            case (0, 0):\n",
    "                res = \"fizzbuzz\"\n",
    "            case (_, 0):\n",
    "                res = \"buzz\"\n",
    "            case (0, _):\n",
    "                res = \"fizz\"\n",
    "            case _, _:\n",
    "                res = str(nombre)\n",
    "\"\"\"\n",
    "            \n",
    "def fizz_buzz_2():\n",
    "    for nombre in range(1, 101):\n",
    "        \"fizz\" * (nombre % 3 == 0) + \"buzz\" * (nombre % 5 == 0) or str(nombre)\n",
    "\n",
    "\n",
    "        "
   ]
  },
  {
   "cell_type": "code",
   "execution_count": 53,
   "id": "1c4e0c8c",
   "metadata": {},
   "outputs": [
    {
     "name": "stdout",
     "output_type": "stream",
     "text": [
      "14.1 µs ± 458 ns per loop (mean ± std. dev. of 7 runs, 100,000 loops each)\n"
     ]
    }
   ],
   "source": [
    "%timeit fizz_buzz()"
   ]
  },
  {
   "cell_type": "code",
   "execution_count": 56,
   "id": "eebe75cc",
   "metadata": {},
   "outputs": [
    {
     "name": "stdout",
     "output_type": "stream",
     "text": [
      "22 µs ± 665 ns per loop (mean ± std. dev. of 7 runs, 100,000 loops each)\n"
     ]
    }
   ],
   "source": [
    "%timeit fizz_buzz()"
   ]
  },
  {
   "cell_type": "code",
   "execution_count": 57,
   "id": "a6a99ef0",
   "metadata": {},
   "outputs": [
    {
     "name": "stdout",
     "output_type": "stream",
     "text": [
      "21.7 µs ± 1.52 µs per loop (mean ± std. dev. of 7 runs, 10,000 loops each)\n"
     ]
    }
   ],
   "source": [
    "%timeit fizz_buzz()"
   ]
  },
  {
   "cell_type": "code",
   "execution_count": 61,
   "id": "2a6cce0b",
   "metadata": {},
   "outputs": [
    {
     "name": "stdout",
     "output_type": "stream",
     "text": [
      "24.7 µs ± 827 ns per loop (mean ± std. dev. of 7 runs, 10,000 loops each)\n"
     ]
    }
   ],
   "source": [
    "%timeit fizz_buzz_2()"
   ]
  },
  {
   "cell_type": "code",
   "execution_count": 65,
   "id": "85967588",
   "metadata": {},
   "outputs": [],
   "source": [
    "cond = True\n",
    "while cond:\n",
    "    cond = False"
   ]
  },
  {
   "cell_type": "code",
   "execution_count": 66,
   "id": "53555c2e",
   "metadata": {},
   "outputs": [
    {
     "name": "stdout",
     "output_type": "stream",
     "text": [
      "totosalut\n"
     ]
    },
    {
     "data": {
      "text/plain": [
       "'salut'"
      ]
     },
     "execution_count": 66,
     "metadata": {},
     "output_type": "execute_result"
    }
   ],
   "source": [
    "input(\"toto\")"
   ]
  },
  {
   "cell_type": "code",
   "execution_count": 72,
   "id": "40fbf5b3",
   "metadata": {},
   "outputs": [
    {
     "name": "stdout",
     "output_type": "stream",
     "text": [
      "8\n"
     ]
    }
   ],
   "source": [
    "import random\n",
    "print(random.randint(1, 10))"
   ]
  },
  {
   "cell_type": "code",
   "execution_count": 74,
   "id": "89c8cfab",
   "metadata": {},
   "outputs": [
    {
     "name": "stdout",
     "output_type": "stream",
     "text": [
      "3 <class 'int'>\n"
     ]
    }
   ],
   "source": [
    "res = int(\"3\")\n",
    "print(res, type(res))"
   ]
  },
  {
   "cell_type": "markdown",
   "id": "0f9eabd0",
   "metadata": {},
   "source": [
    "### String"
   ]
  },
  {
   "cell_type": "code",
   "execution_count": 75,
   "id": "d0325ad0",
   "metadata": {},
   "outputs": [
    {
     "name": "stdout",
     "output_type": "stream",
     "text": [
      "5\n"
     ]
    }
   ],
   "source": [
    "ma_chaine = \"salut\"\n",
    "print(len(ma_chaine))"
   ]
  },
  {
   "cell_type": "code",
   "execution_count": 79,
   "id": "eea4e7c6",
   "metadata": {},
   "outputs": [
    {
     "name": "stdout",
     "output_type": "stream",
     "text": [
      "On a mesuré 5 V\n"
     ]
    }
   ],
   "source": [
    "\"On a mesuré 5 V\"\n",
    "mesure = 5\n",
    "print(\"On a mesuré\", mesure, \"V\")"
   ]
  },
  {
   "cell_type": "code",
   "execution_count": 90,
   "id": "d7641cbd",
   "metadata": {},
   "outputs": [
    {
     "name": "stdout",
     "output_type": "stream",
     "text": [
      "On a mesuré 5 V et 2 A\n"
     ]
    }
   ],
   "source": [
    "mesure_volt = 5\n",
    "mesure_ampere = 2\n",
    "res = \"On a mesuré \" + str(mesure_volt) + \" V et \" + str(mesure_ampere) + \" A\"\n",
    "print(res)"
   ]
  },
  {
   "cell_type": "code",
   "execution_count": 106,
   "id": "20aa0a5c",
   "metadata": {},
   "outputs": [
    {
     "name": "stdout",
     "output_type": "stream",
     "text": [
      "On a mesuré 5.3 V et 2 A\n"
     ]
    }
   ],
   "source": [
    "mesure_volt = 5.26\n",
    "mesure_ampere = 2\n",
    "res = \"On a mesuré %.1f V et %d A\" % (mesure_volt, mesure_ampere)\n",
    "print(res)"
   ]
  },
  {
   "cell_type": "code",
   "execution_count": 131,
   "id": "f1b52961",
   "metadata": {},
   "outputs": [
    {
     "name": "stdout",
     "output_type": "stream",
     "text": [
      "On a mesuré 10.25 V et 4 A\n"
     ]
    }
   ],
   "source": [
    "mesure_volt = 5.2\n",
    "mesure_ampere = 2\n",
    "res = \"On a mesuré {mesure_volt} V et {mesure_ampere} A\"\n",
    "mesure_volt = 10.25\n",
    "mesure_ampere = 4\n",
    "print(res.format(mesure_volt=mesure_volt, mesure_ampere=mesure_ampere))"
   ]
  },
  {
   "cell_type": "code",
   "execution_count": 134,
   "id": "f0560cc6",
   "metadata": {},
   "outputs": [
    {
     "name": "stdout",
     "output_type": "stream",
     "text": [
      "On a mesuré       5.25 V et 2 A\n"
     ]
    }
   ],
   "source": [
    "mesure_volt = 5.25\n",
    "mesure_ampere = 2\n",
    "res = f\"On a mesuré {mesure_volt:>10} V et {mesure_ampere} A\"\n",
    "mesure_volt = 10.25\n",
    "mesure_ampere = 4\n",
    "print(res)"
   ]
  },
  {
   "cell_type": "code",
   "execution_count": 123,
   "id": "c94ca832",
   "metadata": {},
   "outputs": [
    {
     "data": {
      "text/plain": [
       "'mesure_volt=5.25, mesure_ampere=2'"
      ]
     },
     "execution_count": 123,
     "metadata": {},
     "output_type": "execute_result"
    }
   ],
   "source": [
    "f\"{mesure_volt=}, {mesure_ampere=}\""
   ]
  },
  {
   "cell_type": "code",
   "execution_count": 142,
   "id": "16fe4c4f",
   "metadata": {},
   "outputs": [
    {
     "data": {
      "text/plain": [
       "'On a mesure 5 V'"
      ]
     },
     "execution_count": 142,
     "metadata": {},
     "output_type": "execute_result"
    }
   ],
   "source": [
    "\" \".join([\"On a mesure\", \"5\", \"V\"])"
   ]
  },
  {
   "cell_type": "code",
   "execution_count": 144,
   "id": "7700e11c",
   "metadata": {},
   "outputs": [
    {
     "data": {
      "text/plain": [
       "['On', 'a', 'mesure', '5', 'V']"
      ]
     },
     "execution_count": 144,
     "metadata": {},
     "output_type": "execute_result"
    }
   ],
   "source": [
    "\"On a mesure 5 V\".split(\" \")"
   ]
  },
  {
   "cell_type": "code",
   "execution_count": 152,
   "id": "0bf481c3",
   "metadata": {},
   "outputs": [
    {
     "data": {
      "text/plain": [
       "54.34434"
      ]
     },
     "execution_count": 152,
     "metadata": {},
     "output_type": "execute_result"
    }
   ],
   "source": [
    "float(\" \\t  54.34434   \\n \".strip())"
   ]
  },
  {
   "cell_type": "code",
   "execution_count": 153,
   "id": "0875aa85",
   "metadata": {},
   "outputs": [],
   "source": [
    "# parler des fonctions \n",
    "# bytearray / bytestrings \n",
    "# manipulation fichiers\n",
    "# exo "
   ]
  },
  {
   "cell_type": "markdown",
   "id": "34e8dcfe",
   "metadata": {},
   "source": [
    "# J2 Après midi\n",
    "\n",
    "## Rappel du matin \n",
    "\n",
    "* boucles while\n",
    "* gestion des boucles : \n",
    "    * break : on sort de la boucle\n",
    "    * continue : on passe à l'itération suivante\n",
    "* exception:\n",
    "    * `try`, `except`, `else`, `finally` \n",
    "    * il faut mettre le minimum dans try \n",
    "    * il faut capture l'exception précise\n",
    "* match case (python >= 3.10)\n",
    "* gestion des booléens (mots clés `or` et `and`)\n",
    "* input qui retourne toujours une chaine\n",
    "* nombres aléatoires (module à importer)\n",
    "* formatage de chaines"
   ]
  },
  {
   "cell_type": "code",
   "execution_count": 160,
   "id": "2c7744fa",
   "metadata": {},
   "outputs": [
    {
     "name": "stdout",
     "output_type": "stream",
     "text": [
      "1\n",
      "2\n",
      "3\n",
      "4\n",
      "5\n",
      "6\n",
      "7\n",
      "8\n",
      "9\n",
      "10\n"
     ]
    }
   ],
   "source": [
    "i = 0\n",
    "while i < 10:\n",
    "    while True:\n",
    "        break\n",
    "    i += 1\n",
    "    print(i)"
   ]
  },
  {
   "cell_type": "code",
   "execution_count": 173,
   "id": "79faa04b",
   "metadata": {},
   "outputs": [
    {
     "name": "stdout",
     "output_type": "stream",
     "text": [
      "mauvais nom name 'intf' is not defined <class 'NameError'>\n"
     ]
    }
   ],
   "source": [
    "try:\n",
    "    a = intf(\"toto\")\n",
    "except ValueError as e:\n",
    "    print(\"oups\", e, type(e))\n",
    "except (NameError, TypeError) as e:\n",
    "    print(\"mauvais nom\", e, type(e))\n",
    "except Exception as e:\n",
    "    print(\"ça marche vraiment pas\")\n"
   ]
  },
  {
   "cell_type": "code",
   "execution_count": 165,
   "id": "429b5ce9",
   "metadata": {},
   "outputs": [
    {
     "ename": "NameError",
     "evalue": "name 'intf' is not defined",
     "output_type": "error",
     "traceback": [
      "\u001b[0;31m---------------------------------------------------------------------------\u001b[0m",
      "\u001b[0;31mNameError\u001b[0m                                 Traceback (most recent call last)",
      "Cell \u001b[0;32mIn [165], line 1\u001b[0m\n\u001b[0;32m----> 1\u001b[0m \u001b[43mintf\u001b[49m\n",
      "\u001b[0;31mNameError\u001b[0m: name 'intf' is not defined"
     ]
    }
   ],
   "source": [
    "intf"
   ]
  },
  {
   "cell_type": "code",
   "execution_count": 174,
   "id": "58585649",
   "metadata": {},
   "outputs": [],
   "source": [
    "import random"
   ]
  },
  {
   "cell_type": "code",
   "execution_count": 186,
   "id": "c4ddb475",
   "metadata": {},
   "outputs": [
    {
     "data": {
      "text/plain": [
       "'Salut'"
      ]
     },
     "execution_count": 186,
     "metadata": {},
     "output_type": "execute_result"
    }
   ],
   "source": [
    "s = \"Salut les amis\".split(\" \")\n",
    "random.choice(s)"
   ]
  },
  {
   "cell_type": "code",
   "execution_count": 193,
   "id": "a9516fd7",
   "metadata": {},
   "outputs": [],
   "source": [
    "from matplotlib import pyplot as plt "
   ]
  },
  {
   "cell_type": "code",
   "execution_count": 194,
   "id": "8bd20ba9",
   "metadata": {},
   "outputs": [],
   "source": [
    "import random as r\n",
    "import numpy as np \n",
    "\n",
    "from numpy import * "
   ]
  },
  {
   "cell_type": "code",
   "execution_count": 189,
   "id": "2625c48a",
   "metadata": {},
   "outputs": [],
   "source": [
    "del toto"
   ]
  },
  {
   "cell_type": "code",
   "execution_count": 195,
   "id": "9cfdbca4",
   "metadata": {},
   "outputs": [
    {
     "data": {
      "text/plain": [
       "{'__name__': '__main__',\n",
       " '__doc__': 'On a mesuré 5 V',\n",
       " '__package__': None,\n",
       " '__loader__': None,\n",
       " '__spec__': None,\n",
       " '__builtin__': <module 'builtins' (built-in)>,\n",
       " '__builtins__': <module 'builtins' (built-in)>,\n",
       " '_ih': ['',\n",
       "  'def f(a:int) -> str:\\n    return a*\"-\"',\n",
       "  'def f(a:int) -> str:\\n    return a*\"-\"\\n\\nf(5)',\n",
       "  'def f(a:int) -> str:\\n    return a*\"-\"\\n\\nf(51)',\n",
       "  'def f(a:int) -> str:\\n    return a*\"-\"\\n\\nf(\\'a\\')',\n",
       "  '# annotations de types\\ndef f(a:int) -> str:\\n    return a*\"-\"\\n\\nf(\\'a\\')',\n",
       "  'bool(\"\")',\n",
       "  'bool(\"\"), bool([]), bool((,)), bool({})',\n",
       "  'bool(\"\"), bool([]), bool(,), bool({})',\n",
       "  'bool(\"\"), bool([]), bool(tuple()), bool({})',\n",
       "  'bool(\"riri\"), bool([[]]), bool(tuple(\"\")), bool({\"a\": 2})',\n",
       "  'bool(\"riri\"), bool([[]]), bool(tuple([1, 2])), bool({\"a\": 2})',\n",
       "  'bool(0)',\n",
       "  'bool(0), bool(-1), bool(3)',\n",
       "  'bool(0), bool(-1), bool(3), bool(3%3)',\n",
       "  '\"fizz\" * 2',\n",
       "  '\"fizz\" * 1',\n",
       "  '\"fizz\" * 0',\n",
       "  '\"fizz\" * 1',\n",
       "  '\"fizz\" * 1 + \"buzz\" * 0',\n",
       "  '\"fizz\" * 1 + \"buzz\" * 1',\n",
       "  'int(True)',\n",
       "  'int(True), int(False)',\n",
       "  '\"fizz\" * True + \"buzz\" * False',\n",
       "  '\"fizz\" * True + \"buzz\" * False',\n",
       "  'nombre = 4\\n\"fizz\" * (nombre % 3 == 0) + \"buzz\" * (nombre % 5 == 0)',\n",
       "  '1/0',\n",
       "  '1 or 1/0',\n",
       "  '2 or 1/0',\n",
       "  '2 or time.sleep(10)',\n",
       "  'import time\\n2 or time.sleep(10)',\n",
       "  'import time\\n2 or time.sleep(10)',\n",
       "  'import time\\n0 or time.sleep(10)',\n",
       "  '0 or 1/0',\n",
       "  '1 or 1/0',\n",
       "  'mon_tableau = []\\nmon_tableau or mon_tableau[0]',\n",
       "  'mon_tableau = []\\nmon_tableau and mon_tableau[0]',\n",
       "  'mon_tableau = [1]\\nmon_tableau and mon_tableau[0]',\n",
       "  '0 or 4',\n",
       "  'res = 0 or 4\\nbool(res)',\n",
       "  'res = 0 or 4',\n",
       "  '\"\" or 4',\n",
       "  'ma_valeur = None\\nma_valeur = ma_valeur or 4',\n",
       "  'ma_valeur = None\\nma_valeur = ma_valeur or 4\\nprint(ma_valeur)',\n",
       "  'ma_valeur = 3\\nma_valeur = ma_valeur or 4\\nprint(ma_valeur)',\n",
       "  '11 & 2',\n",
       "  '11 & 10',\n",
       "  '1 & 2',\n",
       "  '1 && 2',\n",
       "  '1 & 2',\n",
       "  'def fizz_buzz():\\n    for nombre in range(1, 101):\\n        if nombre % 3 == 0 and nombre % 5 == 0:\\n            print(\"fizz\")\\n        elif nombre % 5 == 0:\\n            print(\"buzz\")\\n        elif nombre % 3 == 0:\\n            print(\"fizzbuzz\")\\n        else:\\n            print(nombre)',\n",
       "  \"get_ipython().run_line_magic('timeit', 'fizz_buzz()')\",\n",
       "  'def fizz_buzz():\\n    for nombre in range(1, 101):\\n        if nombre % 3 == 0 and nombre % 5 == 0:\\n            res = \"fizz\"\\n        elif nombre % 5 == 0:\\n            res = \"buzz\"\\n        elif nombre % 3 == 0:\\n            res = \"fizzbuzz\"\\n        else:\\n            res = nombre',\n",
       "  \"get_ipython().run_line_magic('timeit', 'fizz_buzz()')\",\n",
       "  'def fizz_buzz():\\n    for nombre in range(1, 101):\\n        if nombre % 3 == 0 and nombre % 5 == 0:\\n            res = \"fizz\"\\n        elif nombre % 5 == 0:\\n            res = \"buzz\"\\n        elif nombre % 3 == 0:\\n            res = \"fizzbuzz\"\\n        else:\\n            res = str(nombre)',\n",
       "  'def fizz_buzz():\\n    for nombre in range(1, 101):\\n        if nombre % 3 == 0 and nombre % 5 == 0:\\n            res = \"fizz\"\\n        elif nombre % 5 == 0:\\n            res = \"buzz\"\\n        elif nombre % 3 == 0:\\n            res = \"fizzbuzz\"\\n        else:\\n            res = str(nombre)',\n",
       "  \"get_ipython().run_line_magic('timeit', 'fizz_buzz()')\",\n",
       "  \"get_ipython().run_line_magic('timeit', 'fizz_buzz()')\",\n",
       "  \"get_ipython().run_line_magic('timeit', 'fizz_buzz_2()')\",\n",
       "  'def fizz_buzz():\\n    for nombre in range(1, 101):\\n        if nombre % 3 == 0 and nombre % 5 == 0:\\n            res = \"fizz\"\\n        elif nombre % 5 == 0:\\n            res = \"buzz\"\\n        elif nombre % 3 == 0:\\n            res = \"fizzbuzz\"\\n        else:\\n            res = str(nombre)\\n            \\ndef fizz_buzz_2():\\n    for nombre in range(1, 101):\\n        \"fizz\" * (nombre % 3 == 0) + \"buzz\" * (nombre % 5 == 0) or str(nombre)',\n",
       "  \"get_ipython().run_line_magic('timeit', 'fizz_buzz_2()')\",\n",
       "  \"get_ipython().run_line_magic('timeit', 'fizz_buzz_2()')\",\n",
       "  'def fizz_buzz():\\n    for nombre in range(1, 101):\\n        if nombre % 3 == 0 and nombre % 5 == 0:\\n            res = \"fizz\"\\n        elif nombre % 5 == 0:\\n            res = \"buzz\"\\n        elif nombre % 3 == 0:\\n            res = \"fizzbuzz\"\\n        else:\\n            res = str(nombre)\\n            \\ndef fizz_buzz_2():\\n    for nombre in range(1, 101):\\n        \"fizz\" * (nombre % 3 == 0) + \"buzz\" * (nombre % 5 == 0) or str(nombre)\\n\\ndef fizz_buzz_3():\\n    for nombre in range(1, 101):\\n        match (nombre % 3, nombre % 5):\\n            case (0, 0):\\n                res = \"fizzbuzz\"\\n            case (_, 0):\\n                res = \"buzz\"\\n            case (0, _):\\n                res = \"fizz\"\\n            case _, _:\\n                res = str(nombre)\\n\\n        ',\n",
       "  'def fizz_buzz():\\n    for nombre in range(1, 101):\\n        if nombre % 3 == 0 and nombre % 5 == 0:\\n            res = \"fizz\"\\n        elif nombre % 5 == 0:\\n            res = \"buzz\"\\n        elif nombre % 3 == 0:\\n            res = \"fizzbuzz\"\\n        else:\\n            res = str(nombre)\\n            \\ndef fizz_buzz_2():\\n    for nombre in range(1, 101):\\n        \"fizz\" * (nombre % 3 == 0) + \"buzz\" * (nombre % 5 == 0) or str(nombre)\\n\\n\"\"\"\\ndef fizz_buzz_3():\\n    for nombre in range(1, 101):\\n        match (nombre % 3, nombre % 5):\\n            case (0, 0):\\n                res = \"fizzbuzz\"\\n            case (_, 0):\\n                res = \"buzz\"\\n            case (0, _):\\n                res = \"fizz\"\\n            case _, _:\\n                res = str(nombre)\\n\"\"\"\\n        ',\n",
       "  'def fizz_buzz():\\n    for nombre in range(1, 101):\\n        if nombre % 3 == 0 and nombre % 5 == 0:\\n            res = \"fizz\"\\n        elif nombre % 5 == 0:\\n            res = \"buzz\"\\n        elif nombre % 3 == 0:\\n            res = \"fizzbuzz\"\\n        else:\\n            res = str(nombre)\\n\\n\"\"\"\\ndef fizz_buzz_3():\\n    for nombre in range(1, 101):\\n        match (nombre % 3, nombre % 5):\\n            case (0, 0):\\n                res = \"fizzbuzz\"\\n            case (_, 0):\\n                res = \"buzz\"\\n            case (0, _):\\n                res = \"fizz\"\\n            case _, _:\\n                res = str(nombre)\\n\"\"\"\\n            \\ndef fizz_buzz_2():\\n    for nombre in range(1, 101):\\n        \"fizz\" * (nombre % 3 == 0) + \"buzz\" * (nombre % 5 == 0) or str(nombre)\\n\\n\\n        ',\n",
       "  'cond = True\\nwhile cond:\\n    cond = False',\n",
       "  'input(\"toto\")',\n",
       "  'import random\\nprint(random.randint(1, 10))',\n",
       "  'import random\\nprint(random.randint(1, 10))',\n",
       "  'import random\\nprint(random.randint(1, 10))',\n",
       "  'import random\\nprint(random.randint(1, 10))',\n",
       "  'import random\\nprint(random.randint(1, 10))',\n",
       "  'import random\\nprint(random.randint(1, 10))',\n",
       "  'int(\"3\")',\n",
       "  'res = int(\"3\")\\nprint(res, type(res))',\n",
       "  'ma_chaine = \"salut\"\\nprint(len(ma_chaine))',\n",
       "  '\"On a mesuré 5 V\"',\n",
       "  '\"On a mesuré 5 V\"\\nmesure = 5\\nprint(\"On a mesuré\", mesure, \"V\")',\n",
       "  '\"On a mesuré 5 V\"\\nmesure = 5\\nprint(\"On a mesuré\", mesure, \"V\", sep=\"--\")',\n",
       "  '\"On a mesuré 5 V\"\\nmesure = 5\\nprint(\"On a mesuré\", mesure, \"V\")',\n",
       "  'mesure = 5\\nres = \"On a mesuré\", mesure, \"V\"',\n",
       "  'mesure = 5\\nres = \"On a mesuré\", mesure, \"V\"\\nres',\n",
       "  'mesure = 5\\nres = \"On a mesuré\", mesure, \"V\"\\ntype(res)',\n",
       "  'mesure = 5\\nres = \"On a mesuré\", mesure, \"V\"',\n",
       "  'mesure = 5\\nres = \"On a mesuré\" + mesure + \"V\"',\n",
       "  'mesure = 5\\nres = \"On a mesuré\" + str(mesure) + \"V\"',\n",
       "  'mesure = 5\\nres = \"On a mesuré\" + str(mesure) + \"V\"\\nprint(res)',\n",
       "  'mesure = 5\\nres = \"On a mesuré \" + str(mesure) + \" V\"\\nprint(res)',\n",
       "  'mesure_volt = 5\\nmesure_ampere = 2\\nres = \"On a mesuré \" + str(mesure_volt) + \" V et \" + str(mesure_ampere) + \" A\"\\nprint(res)',\n",
       "  'mesure_volt = 5\\nmesure_ampere = 2\\nres = \"On a mesuré \" + str(mesure_volt) + \" V \" et \" + str(mesure_ampere) + \" A\"\\nprint(res)',\n",
       "  'mesure_volt = 5\\nmesure_ampere = 2\\nres = \"On a mesuré \" + str(mesure_volt) + \" V et \" + str(mesure_ampere) + \" A\"\\nprint(res)',\n",
       "  'mesure_volt = 5\\nmesure_ampere = 2\\nres = \"On a mesuré %d V et %d A\" % (mesure_volt, mesure_ampere)\\nprint(res)',\n",
       "  'mesure_volt = 5.2\\nmesure_ampere = 2\\nres = \"On a mesuré %d V et %d A\" % (mesure_volt, mesure_ampere)\\nprint(res)',\n",
       "  'mesure_volt = 5.2\\nmesure_ampere = 2\\nres = \"On a mesuré %f V et %d A\" % (mesure_volt, mesure_ampere)\\nprint(res)',\n",
       "  'mesure_volt = 5.2\\nmesure_ampere = 2\\nres = \"On a mesuré %02f V et %d A\" % (mesure_volt, mesure_ampere)\\nprint(res)',\n",
       "  'mesure_volt = 5.2\\nmesure_ampere = 2\\nres = \"On a mesuré %f02 V et %d A\" % (mesure_volt, mesure_ampere)\\nprint(res)',\n",
       "  'mesure_volt = 5.2\\nmesure_ampere = 2\\nres = \"On a mesuré %2f V et %d A\" % (mesure_volt, mesure_ampere)\\nprint(res)',\n",
       "  'mesure_volt = 5.2\\nmesure_ampere = 2\\nres = \"On a mesuré %2:f V et %d A\" % (mesure_volt, mesure_ampere)\\nprint(res)',\n",
       "  'mesure_volt = 5.2\\nmesure_ampere = 2\\nres = \"On a mesuré %.2f V et %d A\" % (mesure_volt, mesure_ampere)\\nprint(res)',\n",
       "  'mesure_volt = 5.2\\nmesure_ampere = 2\\nres = \"On a mesuré %4.2f V et %d A\" % (mesure_volt, mesure_ampere)\\nprint(res)',\n",
       "  'mesure_volt = 5.2\\nmesure_ampere = 2\\nres = \"On a mesuré %4.1f V et %d A\" % (mesure_volt, mesure_ampere)\\nprint(res)',\n",
       "  'mesure_volt = 5.2\\nmesure_ampere = 2\\nres = \"On a mesuré %.1f V et %d A\" % (mesure_volt, mesure_ampere)\\nprint(res)',\n",
       "  'mesure_volt = 5.26\\nmesure_ampere = 2\\nres = \"On a mesuré %.1f V et %d A\" % (mesure_volt, mesure_ampere)\\nprint(res)',\n",
       "  'mesure_volt = 5.2\\nmesure_ampere = 2\\nres = \"On a mesuré {} V et {} A\".format(mesure_volt, mesure_ampere)\\nprint(res)',\n",
       "  'mesure_volt = [5.26]\\nmesure_ampere = 2\\nres = \"On a mesuré %.1f V et %d A\" % (mesure_volt, mesure_ampere)\\nprint(res)',\n",
       "  'mesure_volt = [5.2]\\nmesure_ampere = 2\\nres = \"On a mesuré {} V et {} A\".format(mesure_volt, mesure_ampere)\\nprint(res)',\n",
       "  'mesure_volt = 5.26\\nmesure_ampere = 2\\nres = \"On a mesuré %.1f V et %d A\" % (mesure_volt, mesure_ampere)\\nprint(res)',\n",
       "  'mesure_volt = 5.2\\nmesure_ampere = 2\\nres = \"On a mesuré {} V et {} A\".format(mesure_volt, mesure_ampere)\\nprint(res)',\n",
       "  '(3.4).hex',\n",
       "  '(3.4).hex()',\n",
       "  'hex(3.4)',\n",
       "  'hex(34)',\n",
       "  'len([1, 2])',\n",
       "  'len([1, 2]), [1, 2].__len__',\n",
       "  'len([1, 2]), [1, 2].__len__()',\n",
       "  'mesure_volt = 5.2\\nmesure_ampere = 2\\nres = f\"On a mesuré {mesure_volt} V et {mesure_ampere} A\"\\nprint(res)',\n",
       "  'mesure_volt = 5.2\\nmesure_ampere = 2\\nres = f\"On a mesuré {mesure_volt * 3} V et {mesure_ampere} A\"\\nprint(res)',\n",
       "  'mesure_volt = 5.25\\nmesure_ampere = 2\\nres = f\"On a mesuré {mesure_volt:.1} V et {mesure_ampere} A\"\\nprint(res)',\n",
       "  'mesure_volt = 5.25\\nmesure_ampere = 2\\nres = f\"On a mesuré {mesure_volt:1} V et {mesure_ampere} A\"\\nprint(res)',\n",
       "  'mesure_volt = 5.25\\nmesure_ampere = 2\\nres = f\"On a mesuré {mesure_volt:.1} V et {mesure_ampere} A\"\\nprint(res)',\n",
       "  'mesure_volt = 5.25\\nmesure_ampere = 2\\nres = f\"On a mesuré {mesure_volt:1.1} V et {mesure_ampere} A\"\\nprint(res)',\n",
       "  'mesure_volt = 5.25\\nmesure_ampere = 2\\nres = f\"On a mesuré {mesure_volt:>10} V et {mesure_ampere} A\"\\nprint(res)',\n",
       "  'mesure_volt = 5.25\\nmesure_ampere = 2\\nres = f\"On a mesuré {mesure_volt:<10} V et {mesure_ampere} A\"\\nprint(res)',\n",
       "  'f\"{mesure_volt=}, {mesure_ampere=}\"',\n",
       "  'mesure_volt = 5.2\\nmesure_ampere = 2\\nres = \"On a mesuré {mesure_volt} V et {} A\".format(mesure_volt=mesure_volt, mesure_ampere)\\nprint(res)',\n",
       "  'mesure_volt = 5.2\\nmesure_ampere = 2\\nres = \"On a mesuré {mesure_volt} V et {mesure_ampere} A\".format(mesure_volt=mesure_volt, mesure_ampere=mesure_amper)\\nprint(res)',\n",
       "  'mesure_volt = 5.2\\nmesure_ampere = 2\\nres = \"On a mesuré {mesure_volt} V et {mesure_ampere} A\".format(mesure_volt=mesure_volt, mesure_ampere=mesure_ampere)\\nprint(res)',\n",
       "  'mesure_volt = 5.2\\nmesure_ampere = 2\\nres = \"On a mesuré {mesure_volt} V et {mesure_ampere} A\"\\nprint(res.format(mesure_volt=mesure_volt, mesure_ampere=mesure_ampere))',\n",
       "  'mesure_volt = 5.2\\nmesure_ampere = 2\\nres = \"On a mesuré {mesure_volt} V et {mesure_ampere} A\" * 2\\nprint(res.format(mesure_volt=mesure_volt, mesure_ampere=mesure_ampere))',\n",
       "  'mesure_volt = 5.2\\nmesure_ampere = 2\\nres = \"On a mesuré {mesure_volt} V et {mesure_ampere} A\"\\nprint(res.format(mesure_volt=mesure_volt, mesure_ampere=mesure_ampere))',\n",
       "  'mesure_volt = 5.25\\nmesure_ampere = 2\\nres = f\"On a mesuré {mesure_volt:>10} V et {mesure_ampere} A\"\\nmesure_volt = 10.25\\nmesure_ampere = 4\\nprint(res)',\n",
       "  'mesure_volt = 5.2\\nmesure_ampere = 2\\nres = \"On a mesuré {mesure_volt} V et {mesure_ampere} A\"\\nmesure_volt = 10.25\\nmesure_ampere = 4\\nprint(res.format(mesure_volt=mesure_volt, mesure_ampere=mesure_ampere))',\n",
       "  'mesure_volt = 5.25\\nmesure_ampere = 2\\nres = \"On a mesuré {mesure_volt:>10} V et {mesure_ampere} A\"\\nmesure_volt = 10.25\\nmesure_ampere = 4\\nprint(res)',\n",
       "  'mesure_volt = 5.25\\nmesure_ampere = 2\\nres = f\"On a mesuré {mesure_volt:>10} V et {mesure_ampere} A\"\\nmesure_volt = 10.25\\nmesure_ampere = 4\\nprint(res)',\n",
       "  'mesure_volt = 5.25\\nmesure_ampere = 2\\nres = f\"On a mesuré {mesure_volt:>10} V et {mesure_ampere} A\"\\nmesure_volt = 10.25\\nmesure_ampere = 4\\nprint(res)',\n",
       "  '[\"On a mesure\", \"5\", \"V\"]',\n",
       "  '\"\".join([\"On a mesure\", \"5\", \"V\"])',\n",
       "  '\" \".join([\"On a mesure\", \"5\", \"V\"])',\n",
       "  '\" \".join([\"On a mesure\", 5, \"V\"])',\n",
       "  '\" \".join([\"On a mesure\", \"5\", \"V\"])',\n",
       "  '\"\\\\t\".join([\"On a mesure\", \"5\", \"V\"])',\n",
       "  '\" \".join([\"On a mesure\", \"5\", \"V\"])',\n",
       "  '\" \".join([\"On a mesure\", \"5\", \"V\"])',\n",
       "  '\"On a mesure 5 V\".split(\" \")',\n",
       "  '\"On a mesure 5 V\".split(\" \")',\n",
       "  '\" \\\\t  54.34434   \\\\n \"',\n",
       "  '\" \\\\t  54.34434   \\\\n \".strip()',\n",
       "  '\" \\\\t  54.34434   \\\\n \".lstrip()',\n",
       "  '\" \\\\t  54.34434   \\\\n \".rstrip()',\n",
       "  '\" \\\\t  54.34434   \\\\n \".strip()',\n",
       "  'float(\" \\\\t  54.34434   \\\\n \".strip())',\n",
       "  'float(\" \\\\t  54.34434   \\\\n \")',\n",
       "  'float(\" \\\\t  54.34434   \\\\n \".strip())',\n",
       "  '# parler des fonctions \\n# bytearray / bytestrings \\n# manipulation fichiers\\n# exo ',\n",
       "  'while i < 10:\\n    while True:\\n        break\\n    print(i)',\n",
       "  'i = 0\\nwhile i < 10:\\n    while True:\\n        break\\n    print(i)',\n",
       "  'i = 0\\nwhile i < 10:\\n    while True:\\n        break\\n    i += 1\\n    print(i)',\n",
       "  'i = 0\\ndef f():\\n    while i < 10:\\n        while True:\\n            return \\n        i += 1\\n        print(i)',\n",
       "  'i = 0\\ndef f():\\n    while i < 10:\\n        while True:\\n            return \\n        i += 1\\n        print(i)\\n\\nf()',\n",
       "  'def f():\\n    i = 0\\n    while i < 10:\\n        while True:\\n            return \\n        i += 1\\n        print(i)\\n\\nf()',\n",
       "  'i = 0\\nwhile i < 10:\\n    while True:\\n        break\\n    i += 1\\n    print(i)',\n",
       "  'a = int(\"toto\")',\n",
       "  'try:\\n    a = int(\"toto\")\\nexcept:\\n    print(\"oups\")',\n",
       "  'try:\\n    a = in(\"toto\")\\nexcept:\\n    print(\"oups\")',\n",
       "  'try:\\n    a = intf(\"toto\")\\nexcept:\\n    print(\"oups\")',\n",
       "  'intf',\n",
       "  'try:\\n    a = intf(\"toto\")\\nexcept ValueError:\\n    print(\"oups\")',\n",
       "  'try:\\n    a = intf(\"toto\")\\nexcept Exception as e:\\n    print(\"oups\", e)',\n",
       "  'try:\\n    a = intf(\"toto\")\\nexcept Exception as e:\\n    print(\"oups\", e, type(e))',\n",
       "  'try:\\n    a = intf(\"toto\")\\nexcept ValueError as e:\\n    print(\"oups\", e, type(e))',\n",
       "  'try:\\n    a = intf(\"toto\")\\nexcept ValueError as e:\\n    print(\"oups\", e, type(e))\\nexcept NameError as e:\\n    print(\"mauvais nom\", e, type(e))\\n    ',\n",
       "  'try:\\n    a = intf(\"toto\")\\nexcept ValueError as e:\\n    print(\"oups\", e, type(e))\\nexcept NameError as e:\\n    print(\"mauvais nom\", e, type(e))\\nexcept Exception as e:\\n    print(\"ça marche vraiment pas\")',\n",
       "  'try:\\n    a = intf(\"toto\")\\nexcept Exception as e:\\n    print(\"ça marche vraiment pas\")\\nexcept ValueError as e:\\n    print(\"oups\", e, type(e))\\nexcept NameError as e:\\n    print(\"mauvais nom\", e, type(e))',\n",
       "  'try:\\n    a = intf(\"toto\")\\nexcept ValueError as e:\\n    print(\"oups\", e, type(e))\\nexcept (NameError, TypeError) as e:\\n    print(\"mauvais nom\", e, type(e))\\nexcept Exception as e:\\n    print(\"ça marche vraiment pas\")',\n",
       "  'import random',\n",
       "  \"get_ipython().run_line_magic('pinfo', 'random')\",\n",
       "  'help(random)',\n",
       "  's = \"Salut les amis\".split(\" \")',\n",
       "  's = \"Salut les amis\".split(\" \")\\ns',\n",
       "  's = \"Salut les amis\".split(\" \")\\nrandom.choice(s)',\n",
       "  's = \"Salut les amis\".split(\" \")\\nrandom.choice(s)',\n",
       "  's = \"Salut les amis\".split(\" \")\\nrandom.choice(s)',\n",
       "  's = \"Salut les amis\".split(\" \")\\nrandom.choice(s)',\n",
       "  's = \"Salut les amis\".split(\" \")\\nrandom.choice(s)',\n",
       "  's = \"Salut les amis\".split(\" \")\\nrandom.choice(s)',\n",
       "  's = \"Salut les amis\".split(\" \")\\nrandom.choice(s)',\n",
       "  's = \"Salut les amis\".split(\" \")\\nrandom.choice(s)',\n",
       "  'from random import choice\\n\\nchoice(s)',\n",
       "  'if random.random() > 0.5:\\n    def toto():\\n        return \"c\\'est défini\"\\n\\ntoto()',\n",
       "  'del toto',\n",
       "  'if random.random() > 0.5:\\n    def toto():\\n        return \"c\\'est défini\"\\n\\ntoto()',\n",
       "  'from random import choice\\n\\nrandint()',\n",
       "  'from random import choice',\n",
       "  'from matplotlib import pyplot as plt ',\n",
       "  'import random as r\\nimport numpy as np ',\n",
       "  'globals()'],\n",
       " '_oh': {2: '-----',\n",
       "  3: '---------------------------------------------------',\n",
       "  6: False,\n",
       "  9: (False, False, False, False),\n",
       "  10: (True, True, False, True),\n",
       "  11: (True, True, True, True),\n",
       "  12: False,\n",
       "  13: (False, True, True),\n",
       "  14: (False, True, True, False),\n",
       "  15: 'fizzfizz',\n",
       "  16: 'fizz',\n",
       "  17: '',\n",
       "  18: 'fizz',\n",
       "  19: 'fizz',\n",
       "  20: 'fizzbuzz',\n",
       "  21: 1,\n",
       "  22: (1, 0),\n",
       "  23: 'fizz',\n",
       "  24: 'fizz',\n",
       "  25: '',\n",
       "  27: 1,\n",
       "  28: 2,\n",
       "  29: 2,\n",
       "  30: 2,\n",
       "  31: 2,\n",
       "  34: 1,\n",
       "  36: [],\n",
       "  37: 1,\n",
       "  38: 4,\n",
       "  39: True,\n",
       "  41: 4,\n",
       "  45: 2,\n",
       "  46: 10,\n",
       "  47: 0,\n",
       "  49: 0,\n",
       "  63: '\\ndef fizz_buzz_3():\\n    for nombre in range(1, 101):\\n        match (nombre % 3, nombre % 5):\\n            case (0, 0):\\n                res = \"fizzbuzz\"\\n            case (_, 0):\\n                res = \"buzz\"\\n            case (0, _):\\n                res = \"fizz\"\\n            case _, _:\\n                res = str(nombre)\\n',\n",
       "  66: 'salut',\n",
       "  73: 3,\n",
       "  76: 'On a mesuré 5 V',\n",
       "  81: ('On a mesuré', 5, 'V'),\n",
       "  82: tuple,\n",
       "  108: <function float.hex()>,\n",
       "  109: '0x1.b333333333333p+1',\n",
       "  111: '0x22',\n",
       "  112: 2,\n",
       "  113: (2, <method-wrapper '__len__' of list object at 0x7fce92ffad40>),\n",
       "  114: (2, 2),\n",
       "  123: 'mesure_volt=5.25, mesure_ampere=2',\n",
       "  135: ['On a mesure', '5', 'V'],\n",
       "  136: 'On a mesure5V',\n",
       "  137: 'On a mesure 5 V',\n",
       "  139: 'On a mesure 5 V',\n",
       "  140: 'On a mesure\\t5\\tV',\n",
       "  141: 'On a mesure 5 V',\n",
       "  142: 'On a mesure 5 V',\n",
       "  143: ['On', 'a', 'mesure', '5', 'V'],\n",
       "  144: ['On', 'a', 'mesure', '5', 'V'],\n",
       "  145: ' \\t  54.34434   \\n ',\n",
       "  146: '54.34434',\n",
       "  147: '54.34434   \\n ',\n",
       "  148: ' \\t  54.34434',\n",
       "  149: '54.34434',\n",
       "  150: 54.34434,\n",
       "  151: 54.34434,\n",
       "  152: 54.34434,\n",
       "  178: ['Salut', 'les', 'amis'],\n",
       "  179: 'Salut',\n",
       "  180: 'les',\n",
       "  181: 'amis',\n",
       "  182: 'Salut',\n",
       "  183: 'amis',\n",
       "  184: 'amis',\n",
       "  185: 'les',\n",
       "  186: 'Salut',\n",
       "  187: 'les',\n",
       "  188: \"c'est défini\"},\n",
       " '_dh': [PosixPath('/home/mfalce/Bureau/pyt_21_novembre_2022/tape_en_cours')],\n",
       " 'In': ['',\n",
       "  'def f(a:int) -> str:\\n    return a*\"-\"',\n",
       "  'def f(a:int) -> str:\\n    return a*\"-\"\\n\\nf(5)',\n",
       "  'def f(a:int) -> str:\\n    return a*\"-\"\\n\\nf(51)',\n",
       "  'def f(a:int) -> str:\\n    return a*\"-\"\\n\\nf(\\'a\\')',\n",
       "  '# annotations de types\\ndef f(a:int) -> str:\\n    return a*\"-\"\\n\\nf(\\'a\\')',\n",
       "  'bool(\"\")',\n",
       "  'bool(\"\"), bool([]), bool((,)), bool({})',\n",
       "  'bool(\"\"), bool([]), bool(,), bool({})',\n",
       "  'bool(\"\"), bool([]), bool(tuple()), bool({})',\n",
       "  'bool(\"riri\"), bool([[]]), bool(tuple(\"\")), bool({\"a\": 2})',\n",
       "  'bool(\"riri\"), bool([[]]), bool(tuple([1, 2])), bool({\"a\": 2})',\n",
       "  'bool(0)',\n",
       "  'bool(0), bool(-1), bool(3)',\n",
       "  'bool(0), bool(-1), bool(3), bool(3%3)',\n",
       "  '\"fizz\" * 2',\n",
       "  '\"fizz\" * 1',\n",
       "  '\"fizz\" * 0',\n",
       "  '\"fizz\" * 1',\n",
       "  '\"fizz\" * 1 + \"buzz\" * 0',\n",
       "  '\"fizz\" * 1 + \"buzz\" * 1',\n",
       "  'int(True)',\n",
       "  'int(True), int(False)',\n",
       "  '\"fizz\" * True + \"buzz\" * False',\n",
       "  '\"fizz\" * True + \"buzz\" * False',\n",
       "  'nombre = 4\\n\"fizz\" * (nombre % 3 == 0) + \"buzz\" * (nombre % 5 == 0)',\n",
       "  '1/0',\n",
       "  '1 or 1/0',\n",
       "  '2 or 1/0',\n",
       "  '2 or time.sleep(10)',\n",
       "  'import time\\n2 or time.sleep(10)',\n",
       "  'import time\\n2 or time.sleep(10)',\n",
       "  'import time\\n0 or time.sleep(10)',\n",
       "  '0 or 1/0',\n",
       "  '1 or 1/0',\n",
       "  'mon_tableau = []\\nmon_tableau or mon_tableau[0]',\n",
       "  'mon_tableau = []\\nmon_tableau and mon_tableau[0]',\n",
       "  'mon_tableau = [1]\\nmon_tableau and mon_tableau[0]',\n",
       "  '0 or 4',\n",
       "  'res = 0 or 4\\nbool(res)',\n",
       "  'res = 0 or 4',\n",
       "  '\"\" or 4',\n",
       "  'ma_valeur = None\\nma_valeur = ma_valeur or 4',\n",
       "  'ma_valeur = None\\nma_valeur = ma_valeur or 4\\nprint(ma_valeur)',\n",
       "  'ma_valeur = 3\\nma_valeur = ma_valeur or 4\\nprint(ma_valeur)',\n",
       "  '11 & 2',\n",
       "  '11 & 10',\n",
       "  '1 & 2',\n",
       "  '1 && 2',\n",
       "  '1 & 2',\n",
       "  'def fizz_buzz():\\n    for nombre in range(1, 101):\\n        if nombre % 3 == 0 and nombre % 5 == 0:\\n            print(\"fizz\")\\n        elif nombre % 5 == 0:\\n            print(\"buzz\")\\n        elif nombre % 3 == 0:\\n            print(\"fizzbuzz\")\\n        else:\\n            print(nombre)',\n",
       "  \"get_ipython().run_line_magic('timeit', 'fizz_buzz()')\",\n",
       "  'def fizz_buzz():\\n    for nombre in range(1, 101):\\n        if nombre % 3 == 0 and nombre % 5 == 0:\\n            res = \"fizz\"\\n        elif nombre % 5 == 0:\\n            res = \"buzz\"\\n        elif nombre % 3 == 0:\\n            res = \"fizzbuzz\"\\n        else:\\n            res = nombre',\n",
       "  \"get_ipython().run_line_magic('timeit', 'fizz_buzz()')\",\n",
       "  'def fizz_buzz():\\n    for nombre in range(1, 101):\\n        if nombre % 3 == 0 and nombre % 5 == 0:\\n            res = \"fizz\"\\n        elif nombre % 5 == 0:\\n            res = \"buzz\"\\n        elif nombre % 3 == 0:\\n            res = \"fizzbuzz\"\\n        else:\\n            res = str(nombre)',\n",
       "  'def fizz_buzz():\\n    for nombre in range(1, 101):\\n        if nombre % 3 == 0 and nombre % 5 == 0:\\n            res = \"fizz\"\\n        elif nombre % 5 == 0:\\n            res = \"buzz\"\\n        elif nombre % 3 == 0:\\n            res = \"fizzbuzz\"\\n        else:\\n            res = str(nombre)',\n",
       "  \"get_ipython().run_line_magic('timeit', 'fizz_buzz()')\",\n",
       "  \"get_ipython().run_line_magic('timeit', 'fizz_buzz()')\",\n",
       "  \"get_ipython().run_line_magic('timeit', 'fizz_buzz_2()')\",\n",
       "  'def fizz_buzz():\\n    for nombre in range(1, 101):\\n        if nombre % 3 == 0 and nombre % 5 == 0:\\n            res = \"fizz\"\\n        elif nombre % 5 == 0:\\n            res = \"buzz\"\\n        elif nombre % 3 == 0:\\n            res = \"fizzbuzz\"\\n        else:\\n            res = str(nombre)\\n            \\ndef fizz_buzz_2():\\n    for nombre in range(1, 101):\\n        \"fizz\" * (nombre % 3 == 0) + \"buzz\" * (nombre % 5 == 0) or str(nombre)',\n",
       "  \"get_ipython().run_line_magic('timeit', 'fizz_buzz_2()')\",\n",
       "  \"get_ipython().run_line_magic('timeit', 'fizz_buzz_2()')\",\n",
       "  'def fizz_buzz():\\n    for nombre in range(1, 101):\\n        if nombre % 3 == 0 and nombre % 5 == 0:\\n            res = \"fizz\"\\n        elif nombre % 5 == 0:\\n            res = \"buzz\"\\n        elif nombre % 3 == 0:\\n            res = \"fizzbuzz\"\\n        else:\\n            res = str(nombre)\\n            \\ndef fizz_buzz_2():\\n    for nombre in range(1, 101):\\n        \"fizz\" * (nombre % 3 == 0) + \"buzz\" * (nombre % 5 == 0) or str(nombre)\\n\\ndef fizz_buzz_3():\\n    for nombre in range(1, 101):\\n        match (nombre % 3, nombre % 5):\\n            case (0, 0):\\n                res = \"fizzbuzz\"\\n            case (_, 0):\\n                res = \"buzz\"\\n            case (0, _):\\n                res = \"fizz\"\\n            case _, _:\\n                res = str(nombre)\\n\\n        ',\n",
       "  'def fizz_buzz():\\n    for nombre in range(1, 101):\\n        if nombre % 3 == 0 and nombre % 5 == 0:\\n            res = \"fizz\"\\n        elif nombre % 5 == 0:\\n            res = \"buzz\"\\n        elif nombre % 3 == 0:\\n            res = \"fizzbuzz\"\\n        else:\\n            res = str(nombre)\\n            \\ndef fizz_buzz_2():\\n    for nombre in range(1, 101):\\n        \"fizz\" * (nombre % 3 == 0) + \"buzz\" * (nombre % 5 == 0) or str(nombre)\\n\\n\"\"\"\\ndef fizz_buzz_3():\\n    for nombre in range(1, 101):\\n        match (nombre % 3, nombre % 5):\\n            case (0, 0):\\n                res = \"fizzbuzz\"\\n            case (_, 0):\\n                res = \"buzz\"\\n            case (0, _):\\n                res = \"fizz\"\\n            case _, _:\\n                res = str(nombre)\\n\"\"\"\\n        ',\n",
       "  'def fizz_buzz():\\n    for nombre in range(1, 101):\\n        if nombre % 3 == 0 and nombre % 5 == 0:\\n            res = \"fizz\"\\n        elif nombre % 5 == 0:\\n            res = \"buzz\"\\n        elif nombre % 3 == 0:\\n            res = \"fizzbuzz\"\\n        else:\\n            res = str(nombre)\\n\\n\"\"\"\\ndef fizz_buzz_3():\\n    for nombre in range(1, 101):\\n        match (nombre % 3, nombre % 5):\\n            case (0, 0):\\n                res = \"fizzbuzz\"\\n            case (_, 0):\\n                res = \"buzz\"\\n            case (0, _):\\n                res = \"fizz\"\\n            case _, _:\\n                res = str(nombre)\\n\"\"\"\\n            \\ndef fizz_buzz_2():\\n    for nombre in range(1, 101):\\n        \"fizz\" * (nombre % 3 == 0) + \"buzz\" * (nombre % 5 == 0) or str(nombre)\\n\\n\\n        ',\n",
       "  'cond = True\\nwhile cond:\\n    cond = False',\n",
       "  'input(\"toto\")',\n",
       "  'import random\\nprint(random.randint(1, 10))',\n",
       "  'import random\\nprint(random.randint(1, 10))',\n",
       "  'import random\\nprint(random.randint(1, 10))',\n",
       "  'import random\\nprint(random.randint(1, 10))',\n",
       "  'import random\\nprint(random.randint(1, 10))',\n",
       "  'import random\\nprint(random.randint(1, 10))',\n",
       "  'int(\"3\")',\n",
       "  'res = int(\"3\")\\nprint(res, type(res))',\n",
       "  'ma_chaine = \"salut\"\\nprint(len(ma_chaine))',\n",
       "  '\"On a mesuré 5 V\"',\n",
       "  '\"On a mesuré 5 V\"\\nmesure = 5\\nprint(\"On a mesuré\", mesure, \"V\")',\n",
       "  '\"On a mesuré 5 V\"\\nmesure = 5\\nprint(\"On a mesuré\", mesure, \"V\", sep=\"--\")',\n",
       "  '\"On a mesuré 5 V\"\\nmesure = 5\\nprint(\"On a mesuré\", mesure, \"V\")',\n",
       "  'mesure = 5\\nres = \"On a mesuré\", mesure, \"V\"',\n",
       "  'mesure = 5\\nres = \"On a mesuré\", mesure, \"V\"\\nres',\n",
       "  'mesure = 5\\nres = \"On a mesuré\", mesure, \"V\"\\ntype(res)',\n",
       "  'mesure = 5\\nres = \"On a mesuré\", mesure, \"V\"',\n",
       "  'mesure = 5\\nres = \"On a mesuré\" + mesure + \"V\"',\n",
       "  'mesure = 5\\nres = \"On a mesuré\" + str(mesure) + \"V\"',\n",
       "  'mesure = 5\\nres = \"On a mesuré\" + str(mesure) + \"V\"\\nprint(res)',\n",
       "  'mesure = 5\\nres = \"On a mesuré \" + str(mesure) + \" V\"\\nprint(res)',\n",
       "  'mesure_volt = 5\\nmesure_ampere = 2\\nres = \"On a mesuré \" + str(mesure_volt) + \" V et \" + str(mesure_ampere) + \" A\"\\nprint(res)',\n",
       "  'mesure_volt = 5\\nmesure_ampere = 2\\nres = \"On a mesuré \" + str(mesure_volt) + \" V \" et \" + str(mesure_ampere) + \" A\"\\nprint(res)',\n",
       "  'mesure_volt = 5\\nmesure_ampere = 2\\nres = \"On a mesuré \" + str(mesure_volt) + \" V et \" + str(mesure_ampere) + \" A\"\\nprint(res)',\n",
       "  'mesure_volt = 5\\nmesure_ampere = 2\\nres = \"On a mesuré %d V et %d A\" % (mesure_volt, mesure_ampere)\\nprint(res)',\n",
       "  'mesure_volt = 5.2\\nmesure_ampere = 2\\nres = \"On a mesuré %d V et %d A\" % (mesure_volt, mesure_ampere)\\nprint(res)',\n",
       "  'mesure_volt = 5.2\\nmesure_ampere = 2\\nres = \"On a mesuré %f V et %d A\" % (mesure_volt, mesure_ampere)\\nprint(res)',\n",
       "  'mesure_volt = 5.2\\nmesure_ampere = 2\\nres = \"On a mesuré %02f V et %d A\" % (mesure_volt, mesure_ampere)\\nprint(res)',\n",
       "  'mesure_volt = 5.2\\nmesure_ampere = 2\\nres = \"On a mesuré %f02 V et %d A\" % (mesure_volt, mesure_ampere)\\nprint(res)',\n",
       "  'mesure_volt = 5.2\\nmesure_ampere = 2\\nres = \"On a mesuré %2f V et %d A\" % (mesure_volt, mesure_ampere)\\nprint(res)',\n",
       "  'mesure_volt = 5.2\\nmesure_ampere = 2\\nres = \"On a mesuré %2:f V et %d A\" % (mesure_volt, mesure_ampere)\\nprint(res)',\n",
       "  'mesure_volt = 5.2\\nmesure_ampere = 2\\nres = \"On a mesuré %.2f V et %d A\" % (mesure_volt, mesure_ampere)\\nprint(res)',\n",
       "  'mesure_volt = 5.2\\nmesure_ampere = 2\\nres = \"On a mesuré %4.2f V et %d A\" % (mesure_volt, mesure_ampere)\\nprint(res)',\n",
       "  'mesure_volt = 5.2\\nmesure_ampere = 2\\nres = \"On a mesuré %4.1f V et %d A\" % (mesure_volt, mesure_ampere)\\nprint(res)',\n",
       "  'mesure_volt = 5.2\\nmesure_ampere = 2\\nres = \"On a mesuré %.1f V et %d A\" % (mesure_volt, mesure_ampere)\\nprint(res)',\n",
       "  'mesure_volt = 5.26\\nmesure_ampere = 2\\nres = \"On a mesuré %.1f V et %d A\" % (mesure_volt, mesure_ampere)\\nprint(res)',\n",
       "  'mesure_volt = 5.2\\nmesure_ampere = 2\\nres = \"On a mesuré {} V et {} A\".format(mesure_volt, mesure_ampere)\\nprint(res)',\n",
       "  'mesure_volt = [5.26]\\nmesure_ampere = 2\\nres = \"On a mesuré %.1f V et %d A\" % (mesure_volt, mesure_ampere)\\nprint(res)',\n",
       "  'mesure_volt = [5.2]\\nmesure_ampere = 2\\nres = \"On a mesuré {} V et {} A\".format(mesure_volt, mesure_ampere)\\nprint(res)',\n",
       "  'mesure_volt = 5.26\\nmesure_ampere = 2\\nres = \"On a mesuré %.1f V et %d A\" % (mesure_volt, mesure_ampere)\\nprint(res)',\n",
       "  'mesure_volt = 5.2\\nmesure_ampere = 2\\nres = \"On a mesuré {} V et {} A\".format(mesure_volt, mesure_ampere)\\nprint(res)',\n",
       "  '(3.4).hex',\n",
       "  '(3.4).hex()',\n",
       "  'hex(3.4)',\n",
       "  'hex(34)',\n",
       "  'len([1, 2])',\n",
       "  'len([1, 2]), [1, 2].__len__',\n",
       "  'len([1, 2]), [1, 2].__len__()',\n",
       "  'mesure_volt = 5.2\\nmesure_ampere = 2\\nres = f\"On a mesuré {mesure_volt} V et {mesure_ampere} A\"\\nprint(res)',\n",
       "  'mesure_volt = 5.2\\nmesure_ampere = 2\\nres = f\"On a mesuré {mesure_volt * 3} V et {mesure_ampere} A\"\\nprint(res)',\n",
       "  'mesure_volt = 5.25\\nmesure_ampere = 2\\nres = f\"On a mesuré {mesure_volt:.1} V et {mesure_ampere} A\"\\nprint(res)',\n",
       "  'mesure_volt = 5.25\\nmesure_ampere = 2\\nres = f\"On a mesuré {mesure_volt:1} V et {mesure_ampere} A\"\\nprint(res)',\n",
       "  'mesure_volt = 5.25\\nmesure_ampere = 2\\nres = f\"On a mesuré {mesure_volt:.1} V et {mesure_ampere} A\"\\nprint(res)',\n",
       "  'mesure_volt = 5.25\\nmesure_ampere = 2\\nres = f\"On a mesuré {mesure_volt:1.1} V et {mesure_ampere} A\"\\nprint(res)',\n",
       "  'mesure_volt = 5.25\\nmesure_ampere = 2\\nres = f\"On a mesuré {mesure_volt:>10} V et {mesure_ampere} A\"\\nprint(res)',\n",
       "  'mesure_volt = 5.25\\nmesure_ampere = 2\\nres = f\"On a mesuré {mesure_volt:<10} V et {mesure_ampere} A\"\\nprint(res)',\n",
       "  'f\"{mesure_volt=}, {mesure_ampere=}\"',\n",
       "  'mesure_volt = 5.2\\nmesure_ampere = 2\\nres = \"On a mesuré {mesure_volt} V et {} A\".format(mesure_volt=mesure_volt, mesure_ampere)\\nprint(res)',\n",
       "  'mesure_volt = 5.2\\nmesure_ampere = 2\\nres = \"On a mesuré {mesure_volt} V et {mesure_ampere} A\".format(mesure_volt=mesure_volt, mesure_ampere=mesure_amper)\\nprint(res)',\n",
       "  'mesure_volt = 5.2\\nmesure_ampere = 2\\nres = \"On a mesuré {mesure_volt} V et {mesure_ampere} A\".format(mesure_volt=mesure_volt, mesure_ampere=mesure_ampere)\\nprint(res)',\n",
       "  'mesure_volt = 5.2\\nmesure_ampere = 2\\nres = \"On a mesuré {mesure_volt} V et {mesure_ampere} A\"\\nprint(res.format(mesure_volt=mesure_volt, mesure_ampere=mesure_ampere))',\n",
       "  'mesure_volt = 5.2\\nmesure_ampere = 2\\nres = \"On a mesuré {mesure_volt} V et {mesure_ampere} A\" * 2\\nprint(res.format(mesure_volt=mesure_volt, mesure_ampere=mesure_ampere))',\n",
       "  'mesure_volt = 5.2\\nmesure_ampere = 2\\nres = \"On a mesuré {mesure_volt} V et {mesure_ampere} A\"\\nprint(res.format(mesure_volt=mesure_volt, mesure_ampere=mesure_ampere))',\n",
       "  'mesure_volt = 5.25\\nmesure_ampere = 2\\nres = f\"On a mesuré {mesure_volt:>10} V et {mesure_ampere} A\"\\nmesure_volt = 10.25\\nmesure_ampere = 4\\nprint(res)',\n",
       "  'mesure_volt = 5.2\\nmesure_ampere = 2\\nres = \"On a mesuré {mesure_volt} V et {mesure_ampere} A\"\\nmesure_volt = 10.25\\nmesure_ampere = 4\\nprint(res.format(mesure_volt=mesure_volt, mesure_ampere=mesure_ampere))',\n",
       "  'mesure_volt = 5.25\\nmesure_ampere = 2\\nres = \"On a mesuré {mesure_volt:>10} V et {mesure_ampere} A\"\\nmesure_volt = 10.25\\nmesure_ampere = 4\\nprint(res)',\n",
       "  'mesure_volt = 5.25\\nmesure_ampere = 2\\nres = f\"On a mesuré {mesure_volt:>10} V et {mesure_ampere} A\"\\nmesure_volt = 10.25\\nmesure_ampere = 4\\nprint(res)',\n",
       "  'mesure_volt = 5.25\\nmesure_ampere = 2\\nres = f\"On a mesuré {mesure_volt:>10} V et {mesure_ampere} A\"\\nmesure_volt = 10.25\\nmesure_ampere = 4\\nprint(res)',\n",
       "  '[\"On a mesure\", \"5\", \"V\"]',\n",
       "  '\"\".join([\"On a mesure\", \"5\", \"V\"])',\n",
       "  '\" \".join([\"On a mesure\", \"5\", \"V\"])',\n",
       "  '\" \".join([\"On a mesure\", 5, \"V\"])',\n",
       "  '\" \".join([\"On a mesure\", \"5\", \"V\"])',\n",
       "  '\"\\\\t\".join([\"On a mesure\", \"5\", \"V\"])',\n",
       "  '\" \".join([\"On a mesure\", \"5\", \"V\"])',\n",
       "  '\" \".join([\"On a mesure\", \"5\", \"V\"])',\n",
       "  '\"On a mesure 5 V\".split(\" \")',\n",
       "  '\"On a mesure 5 V\".split(\" \")',\n",
       "  '\" \\\\t  54.34434   \\\\n \"',\n",
       "  '\" \\\\t  54.34434   \\\\n \".strip()',\n",
       "  '\" \\\\t  54.34434   \\\\n \".lstrip()',\n",
       "  '\" \\\\t  54.34434   \\\\n \".rstrip()',\n",
       "  '\" \\\\t  54.34434   \\\\n \".strip()',\n",
       "  'float(\" \\\\t  54.34434   \\\\n \".strip())',\n",
       "  'float(\" \\\\t  54.34434   \\\\n \")',\n",
       "  'float(\" \\\\t  54.34434   \\\\n \".strip())',\n",
       "  '# parler des fonctions \\n# bytearray / bytestrings \\n# manipulation fichiers\\n# exo ',\n",
       "  'while i < 10:\\n    while True:\\n        break\\n    print(i)',\n",
       "  'i = 0\\nwhile i < 10:\\n    while True:\\n        break\\n    print(i)',\n",
       "  'i = 0\\nwhile i < 10:\\n    while True:\\n        break\\n    i += 1\\n    print(i)',\n",
       "  'i = 0\\ndef f():\\n    while i < 10:\\n        while True:\\n            return \\n        i += 1\\n        print(i)',\n",
       "  'i = 0\\ndef f():\\n    while i < 10:\\n        while True:\\n            return \\n        i += 1\\n        print(i)\\n\\nf()',\n",
       "  'def f():\\n    i = 0\\n    while i < 10:\\n        while True:\\n            return \\n        i += 1\\n        print(i)\\n\\nf()',\n",
       "  'i = 0\\nwhile i < 10:\\n    while True:\\n        break\\n    i += 1\\n    print(i)',\n",
       "  'a = int(\"toto\")',\n",
       "  'try:\\n    a = int(\"toto\")\\nexcept:\\n    print(\"oups\")',\n",
       "  'try:\\n    a = in(\"toto\")\\nexcept:\\n    print(\"oups\")',\n",
       "  'try:\\n    a = intf(\"toto\")\\nexcept:\\n    print(\"oups\")',\n",
       "  'intf',\n",
       "  'try:\\n    a = intf(\"toto\")\\nexcept ValueError:\\n    print(\"oups\")',\n",
       "  'try:\\n    a = intf(\"toto\")\\nexcept Exception as e:\\n    print(\"oups\", e)',\n",
       "  'try:\\n    a = intf(\"toto\")\\nexcept Exception as e:\\n    print(\"oups\", e, type(e))',\n",
       "  'try:\\n    a = intf(\"toto\")\\nexcept ValueError as e:\\n    print(\"oups\", e, type(e))',\n",
       "  'try:\\n    a = intf(\"toto\")\\nexcept ValueError as e:\\n    print(\"oups\", e, type(e))\\nexcept NameError as e:\\n    print(\"mauvais nom\", e, type(e))\\n    ',\n",
       "  'try:\\n    a = intf(\"toto\")\\nexcept ValueError as e:\\n    print(\"oups\", e, type(e))\\nexcept NameError as e:\\n    print(\"mauvais nom\", e, type(e))\\nexcept Exception as e:\\n    print(\"ça marche vraiment pas\")',\n",
       "  'try:\\n    a = intf(\"toto\")\\nexcept Exception as e:\\n    print(\"ça marche vraiment pas\")\\nexcept ValueError as e:\\n    print(\"oups\", e, type(e))\\nexcept NameError as e:\\n    print(\"mauvais nom\", e, type(e))',\n",
       "  'try:\\n    a = intf(\"toto\")\\nexcept ValueError as e:\\n    print(\"oups\", e, type(e))\\nexcept (NameError, TypeError) as e:\\n    print(\"mauvais nom\", e, type(e))\\nexcept Exception as e:\\n    print(\"ça marche vraiment pas\")',\n",
       "  'import random',\n",
       "  \"get_ipython().run_line_magic('pinfo', 'random')\",\n",
       "  'help(random)',\n",
       "  's = \"Salut les amis\".split(\" \")',\n",
       "  's = \"Salut les amis\".split(\" \")\\ns',\n",
       "  's = \"Salut les amis\".split(\" \")\\nrandom.choice(s)',\n",
       "  's = \"Salut les amis\".split(\" \")\\nrandom.choice(s)',\n",
       "  's = \"Salut les amis\".split(\" \")\\nrandom.choice(s)',\n",
       "  's = \"Salut les amis\".split(\" \")\\nrandom.choice(s)',\n",
       "  's = \"Salut les amis\".split(\" \")\\nrandom.choice(s)',\n",
       "  's = \"Salut les amis\".split(\" \")\\nrandom.choice(s)',\n",
       "  's = \"Salut les amis\".split(\" \")\\nrandom.choice(s)',\n",
       "  's = \"Salut les amis\".split(\" \")\\nrandom.choice(s)',\n",
       "  'from random import choice\\n\\nchoice(s)',\n",
       "  'if random.random() > 0.5:\\n    def toto():\\n        return \"c\\'est défini\"\\n\\ntoto()',\n",
       "  'del toto',\n",
       "  'if random.random() > 0.5:\\n    def toto():\\n        return \"c\\'est défini\"\\n\\ntoto()',\n",
       "  'from random import choice\\n\\nrandint()',\n",
       "  'from random import choice',\n",
       "  'from matplotlib import pyplot as plt ',\n",
       "  'import random as r\\nimport numpy as np ',\n",
       "  'globals()'],\n",
       " 'Out': {2: '-----',\n",
       "  3: '---------------------------------------------------',\n",
       "  6: False,\n",
       "  9: (False, False, False, False),\n",
       "  10: (True, True, False, True),\n",
       "  11: (True, True, True, True),\n",
       "  12: False,\n",
       "  13: (False, True, True),\n",
       "  14: (False, True, True, False),\n",
       "  15: 'fizzfizz',\n",
       "  16: 'fizz',\n",
       "  17: '',\n",
       "  18: 'fizz',\n",
       "  19: 'fizz',\n",
       "  20: 'fizzbuzz',\n",
       "  21: 1,\n",
       "  22: (1, 0),\n",
       "  23: 'fizz',\n",
       "  24: 'fizz',\n",
       "  25: '',\n",
       "  27: 1,\n",
       "  28: 2,\n",
       "  29: 2,\n",
       "  30: 2,\n",
       "  31: 2,\n",
       "  34: 1,\n",
       "  36: [],\n",
       "  37: 1,\n",
       "  38: 4,\n",
       "  39: True,\n",
       "  41: 4,\n",
       "  45: 2,\n",
       "  46: 10,\n",
       "  47: 0,\n",
       "  49: 0,\n",
       "  63: '\\ndef fizz_buzz_3():\\n    for nombre in range(1, 101):\\n        match (nombre % 3, nombre % 5):\\n            case (0, 0):\\n                res = \"fizzbuzz\"\\n            case (_, 0):\\n                res = \"buzz\"\\n            case (0, _):\\n                res = \"fizz\"\\n            case _, _:\\n                res = str(nombre)\\n',\n",
       "  66: 'salut',\n",
       "  73: 3,\n",
       "  76: 'On a mesuré 5 V',\n",
       "  81: ('On a mesuré', 5, 'V'),\n",
       "  82: tuple,\n",
       "  108: <function float.hex()>,\n",
       "  109: '0x1.b333333333333p+1',\n",
       "  111: '0x22',\n",
       "  112: 2,\n",
       "  113: (2, <method-wrapper '__len__' of list object at 0x7fce92ffad40>),\n",
       "  114: (2, 2),\n",
       "  123: 'mesure_volt=5.25, mesure_ampere=2',\n",
       "  135: ['On a mesure', '5', 'V'],\n",
       "  136: 'On a mesure5V',\n",
       "  137: 'On a mesure 5 V',\n",
       "  139: 'On a mesure 5 V',\n",
       "  140: 'On a mesure\\t5\\tV',\n",
       "  141: 'On a mesure 5 V',\n",
       "  142: 'On a mesure 5 V',\n",
       "  143: ['On', 'a', 'mesure', '5', 'V'],\n",
       "  144: ['On', 'a', 'mesure', '5', 'V'],\n",
       "  145: ' \\t  54.34434   \\n ',\n",
       "  146: '54.34434',\n",
       "  147: '54.34434   \\n ',\n",
       "  148: ' \\t  54.34434',\n",
       "  149: '54.34434',\n",
       "  150: 54.34434,\n",
       "  151: 54.34434,\n",
       "  152: 54.34434,\n",
       "  178: ['Salut', 'les', 'amis'],\n",
       "  179: 'Salut',\n",
       "  180: 'les',\n",
       "  181: 'amis',\n",
       "  182: 'Salut',\n",
       "  183: 'amis',\n",
       "  184: 'amis',\n",
       "  185: 'les',\n",
       "  186: 'Salut',\n",
       "  187: 'les',\n",
       "  188: \"c'est défini\"},\n",
       " 'get_ipython': <bound method InteractiveShell.get_ipython of <ipykernel.zmqshell.ZMQInteractiveShell object at 0x7fceb1690b20>>,\n",
       " 'exit': <IPython.core.autocall.ZMQExitAutocall at 0x7fceb16a0790>,\n",
       " 'quit': <IPython.core.autocall.ZMQExitAutocall at 0x7fceb16a0790>,\n",
       " 'open': <function io.open(file, mode='r', buffering=-1, encoding=None, errors=None, newline=None, closefd=True, opener=None)>,\n",
       " '_': \"c'est défini\",\n",
       " '__': 'les',\n",
       " '___': 'Salut',\n",
       " '_i': 'import random as r\\nimport numpy as np ',\n",
       " '_ii': 'from matplotlib import pyplot as plt ',\n",
       " '_iii': 'from random import choice',\n",
       " '_i1': 'def f(a:int) -> str:\\n    return a*\"-\"',\n",
       " 'f': <function __main__.f()>,\n",
       " '_i2': 'def f(a:int) -> str:\\n    return a*\"-\"\\n\\nf(5)',\n",
       " '_2': '-----',\n",
       " '_i3': 'def f(a:int) -> str:\\n    return a*\"-\"\\n\\nf(51)',\n",
       " '_3': '---------------------------------------------------',\n",
       " '_i4': 'def f(a:int) -> str:\\n    return a*\"-\"\\n\\nf(\\'a\\')',\n",
       " '_i5': '# annotations de types\\ndef f(a:int) -> str:\\n    return a*\"-\"\\n\\nf(\\'a\\')',\n",
       " '_i6': 'bool(\"\")',\n",
       " '_6': False,\n",
       " '_i7': 'bool(\"\"), bool([]), bool((,)), bool({})',\n",
       " '_i8': 'bool(\"\"), bool([]), bool(,), bool({})',\n",
       " '_i9': 'bool(\"\"), bool([]), bool(tuple()), bool({})',\n",
       " '_9': (False, False, False, False),\n",
       " '_i10': 'bool(\"riri\"), bool([[]]), bool(tuple(\"\")), bool({\"a\": 2})',\n",
       " '_10': (True, True, False, True),\n",
       " '_i11': 'bool(\"riri\"), bool([[]]), bool(tuple([1, 2])), bool({\"a\": 2})',\n",
       " '_11': (True, True, True, True),\n",
       " '_i12': 'bool(0)',\n",
       " '_12': False,\n",
       " '_i13': 'bool(0), bool(-1), bool(3)',\n",
       " '_13': (False, True, True),\n",
       " '_i14': 'bool(0), bool(-1), bool(3), bool(3%3)',\n",
       " '_14': (False, True, True, False),\n",
       " '_i15': '\"fizz\" * 2',\n",
       " '_15': 'fizzfizz',\n",
       " '_i16': '\"fizz\" * 1',\n",
       " '_16': 'fizz',\n",
       " '_i17': '\"fizz\" * 0',\n",
       " '_17': '',\n",
       " '_i18': '\"fizz\" * 1',\n",
       " '_18': 'fizz',\n",
       " '_i19': '\"fizz\" * 1 + \"buzz\" * 0',\n",
       " '_19': 'fizz',\n",
       " '_i20': '\"fizz\" * 1 + \"buzz\" * 1',\n",
       " '_20': 'fizzbuzz',\n",
       " '_i21': 'int(True)',\n",
       " '_21': 1,\n",
       " '_i22': 'int(True), int(False)',\n",
       " '_22': (1, 0),\n",
       " '_i23': '\"fizz\" * True + \"buzz\" * False',\n",
       " '_23': 'fizz',\n",
       " '_i24': '\"fizz\" * True + \"buzz\" * False',\n",
       " '_24': 'fizz',\n",
       " '_i25': 'nombre = 4\\n\"fizz\" * (nombre % 3 == 0) + \"buzz\" * (nombre % 5 == 0)',\n",
       " 'nombre': 4,\n",
       " '_25': '',\n",
       " '_i26': '1/0',\n",
       " '_i27': '1 or 1/0',\n",
       " '_27': 1,\n",
       " '_i28': '2 or 1/0',\n",
       " '_28': 2,\n",
       " '_i29': '2 or time.sleep(10)',\n",
       " '_29': 2,\n",
       " '_i30': 'import time\\n2 or time.sleep(10)',\n",
       " 'time': <module 'time' (built-in)>,\n",
       " '_30': 2,\n",
       " '_i31': 'import time\\n2 or time.sleep(10)',\n",
       " '_31': 2,\n",
       " '_i32': 'import time\\n0 or time.sleep(10)',\n",
       " '_i33': '0 or 1/0',\n",
       " '_i34': '1 or 1/0',\n",
       " '_34': 1,\n",
       " '_i35': 'mon_tableau = []\\nmon_tableau or mon_tableau[0]',\n",
       " 'mon_tableau': [1],\n",
       " '_i36': 'mon_tableau = []\\nmon_tableau and mon_tableau[0]',\n",
       " '_36': [],\n",
       " '_i37': 'mon_tableau = [1]\\nmon_tableau and mon_tableau[0]',\n",
       " '_37': 1,\n",
       " '_i38': '0 or 4',\n",
       " '_38': 4,\n",
       " '_i39': 'res = 0 or 4\\nbool(res)',\n",
       " 'res': 'On a mesuré       5.25 V et 2 A',\n",
       " '_39': True,\n",
       " '_i40': 'res = 0 or 4',\n",
       " '_i41': '\"\" or 4',\n",
       " '_41': 4,\n",
       " '_i42': 'ma_valeur = None\\nma_valeur = ma_valeur or 4',\n",
       " 'ma_valeur': 3,\n",
       " '_i43': 'ma_valeur = None\\nma_valeur = ma_valeur or 4\\nprint(ma_valeur)',\n",
       " '_i44': 'ma_valeur = 3\\nma_valeur = ma_valeur or 4\\nprint(ma_valeur)',\n",
       " '_i45': '11 & 2',\n",
       " '_45': 2,\n",
       " '_i46': '11 & 10',\n",
       " '_46': 10,\n",
       " '_i47': '1 & 2',\n",
       " '_47': 0,\n",
       " '_i48': '1 && 2',\n",
       " '_i49': '1 & 2',\n",
       " '_49': 0,\n",
       " '_i50': 'def fizz_buzz():\\n    for nombre in range(1, 101):\\n        if nombre % 3 == 0 and nombre % 5 == 0:\\n            print(\"fizz\")\\n        elif nombre % 5 == 0:\\n            print(\"buzz\")\\n        elif nombre % 3 == 0:\\n            print(\"fizzbuzz\")\\n        else:\\n            print(nombre)',\n",
       " 'fizz_buzz': <function __main__.fizz_buzz()>,\n",
       " '_i51': '%timeit fizz_buzz()',\n",
       " '_i52': 'def fizz_buzz():\\n    for nombre in range(1, 101):\\n        if nombre % 3 == 0 and nombre % 5 == 0:\\n            res = \"fizz\"\\n        elif nombre % 5 == 0:\\n            res = \"buzz\"\\n        elif nombre % 3 == 0:\\n            res = \"fizzbuzz\"\\n        else:\\n            res = nombre',\n",
       " '_i53': '%timeit fizz_buzz()',\n",
       " '_i54': 'def fizz_buzz():\\n    for nombre in range(1, 101):\\n        if nombre % 3 == 0 and nombre % 5 == 0:\\n            res = \"fizz\"\\n        elif nombre % 5 == 0:\\n            res = \"buzz\"\\n        elif nombre % 3 == 0:\\n            res = \"fizzbuzz\"\\n        else:\\n            res = str(nombre)',\n",
       " '_i55': 'def fizz_buzz():\\n    for nombre in range(1, 101):\\n        if nombre % 3 == 0 and nombre % 5 == 0:\\n            res = \"fizz\"\\n        elif nombre % 5 == 0:\\n            res = \"buzz\"\\n        elif nombre % 3 == 0:\\n            res = \"fizzbuzz\"\\n        else:\\n            res = str(nombre)',\n",
       " '_i56': '%timeit fizz_buzz()',\n",
       " '_i57': '%timeit fizz_buzz()',\n",
       " '_i58': '%timeit fizz_buzz_2()',\n",
       " '_i59': 'def fizz_buzz():\\n    for nombre in range(1, 101):\\n        if nombre % 3 == 0 and nombre % 5 == 0:\\n            res = \"fizz\"\\n        elif nombre % 5 == 0:\\n            res = \"buzz\"\\n        elif nombre % 3 == 0:\\n            res = \"fizzbuzz\"\\n        else:\\n            res = str(nombre)\\n            \\ndef fizz_buzz_2():\\n    for nombre in range(1, 101):\\n        \"fizz\" * (nombre % 3 == 0) + \"buzz\" * (nombre % 5 == 0) or str(nombre)',\n",
       " 'fizz_buzz_2': <function __main__.fizz_buzz_2()>,\n",
       " '_i60': '%timeit fizz_buzz_2()',\n",
       " '_i61': '%timeit fizz_buzz_2()',\n",
       " '_i62': 'def fizz_buzz():\\n    for nombre in range(1, 101):\\n        if nombre % 3 == 0 and nombre % 5 == 0:\\n            res = \"fizz\"\\n        elif nombre % 5 == 0:\\n            res = \"buzz\"\\n        elif nombre % 3 == 0:\\n            res = \"fizzbuzz\"\\n        else:\\n            res = str(nombre)\\n            \\ndef fizz_buzz_2():\\n    for nombre in range(1, 101):\\n        \"fizz\" * (nombre % 3 == 0) + \"buzz\" * (nombre % 5 == 0) or str(nombre)\\n\\ndef fizz_buzz_3():\\n    for nombre in range(1, 101):\\n        match (nombre % 3, nombre % 5):\\n            case (0, 0):\\n                res = \"fizzbuzz\"\\n            case (_, 0):\\n                res = \"buzz\"\\n            case (0, _):\\n                res = \"fizz\"\\n            case _, _:\\n                res = str(nombre)\\n\\n        ',\n",
       " '_i63': 'def fizz_buzz():\\n    for nombre in range(1, 101):\\n        if nombre % 3 == 0 and nombre % 5 == 0:\\n            res = \"fizz\"\\n        elif nombre % 5 == 0:\\n            res = \"buzz\"\\n        elif nombre % 3 == 0:\\n            res = \"fizzbuzz\"\\n        else:\\n            res = str(nombre)\\n            \\ndef fizz_buzz_2():\\n    for nombre in range(1, 101):\\n        \"fizz\" * (nombre % 3 == 0) + \"buzz\" * (nombre % 5 == 0) or str(nombre)\\n\\n\"\"\"\\ndef fizz_buzz_3():\\n    for nombre in range(1, 101):\\n        match (nombre % 3, nombre % 5):\\n            case (0, 0):\\n                res = \"fizzbuzz\"\\n            case (_, 0):\\n                res = \"buzz\"\\n            case (0, _):\\n                res = \"fizz\"\\n            case _, _:\\n                res = str(nombre)\\n\"\"\"\\n        ',\n",
       " '_63': '\\ndef fizz_buzz_3():\\n    for nombre in range(1, 101):\\n        match (nombre % 3, nombre % 5):\\n            case (0, 0):\\n                res = \"fizzbuzz\"\\n            case (_, 0):\\n                res = \"buzz\"\\n            case (0, _):\\n                res = \"fizz\"\\n            case _, _:\\n                res = str(nombre)\\n',\n",
       " '_i64': 'def fizz_buzz():\\n    for nombre in range(1, 101):\\n        if nombre % 3 == 0 and nombre % 5 == 0:\\n            res = \"fizz\"\\n        elif nombre % 5 == 0:\\n            res = \"buzz\"\\n        elif nombre % 3 == 0:\\n            res = \"fizzbuzz\"\\n        else:\\n            res = str(nombre)\\n\\n\"\"\"\\ndef fizz_buzz_3():\\n    for nombre in range(1, 101):\\n        match (nombre % 3, nombre % 5):\\n            case (0, 0):\\n                res = \"fizzbuzz\"\\n            case (_, 0):\\n                res = \"buzz\"\\n            case (0, _):\\n                res = \"fizz\"\\n            case _, _:\\n                res = str(nombre)\\n\"\"\"\\n            \\ndef fizz_buzz_2():\\n    for nombre in range(1, 101):\\n        \"fizz\" * (nombre % 3 == 0) + \"buzz\" * (nombre % 5 == 0) or str(nombre)\\n\\n\\n        ',\n",
       " '_i65': 'cond = True\\nwhile cond:\\n    cond = False',\n",
       " 'cond': False,\n",
       " '_i66': 'input(\"toto\")',\n",
       " '_66': 'salut',\n",
       " '_i67': 'import random\\nprint(random.randint(1, 10))',\n",
       " 'random': <module 'random' from '/usr/lib64/python3.9/random.py'>,\n",
       " '_i68': 'import random\\nprint(random.randint(1, 10))',\n",
       " '_i69': 'import random\\nprint(random.randint(1, 10))',\n",
       " '_i70': 'import random\\nprint(random.randint(1, 10))',\n",
       " '_i71': 'import random\\nprint(random.randint(1, 10))',\n",
       " '_i72': 'import random\\nprint(random.randint(1, 10))',\n",
       " '_i73': 'int(\"3\")',\n",
       " '_73': 3,\n",
       " '_i74': 'res = int(\"3\")\\nprint(res, type(res))',\n",
       " '_i75': 'ma_chaine = \"salut\"\\nprint(len(ma_chaine))',\n",
       " 'ma_chaine': 'salut',\n",
       " '_i76': '\"On a mesuré 5 V\"',\n",
       " '_76': 'On a mesuré 5 V',\n",
       " '_i77': '\"On a mesuré 5 V\"\\nmesure = 5\\nprint(\"On a mesuré\", mesure, \"V\")',\n",
       " 'mesure': 5,\n",
       " '_i78': '\"On a mesuré 5 V\"\\nmesure = 5\\nprint(\"On a mesuré\", mesure, \"V\", sep=\"--\")',\n",
       " '_i79': '\"On a mesuré 5 V\"\\nmesure = 5\\nprint(\"On a mesuré\", mesure, \"V\")',\n",
       " '_i80': 'mesure = 5\\nres = \"On a mesuré\", mesure, \"V\"',\n",
       " '_i81': 'mesure = 5\\nres = \"On a mesuré\", mesure, \"V\"\\nres',\n",
       " '_81': ('On a mesuré', 5, 'V'),\n",
       " '_i82': 'mesure = 5\\nres = \"On a mesuré\", mesure, \"V\"\\ntype(res)',\n",
       " '_82': tuple,\n",
       " '_i83': 'mesure = 5\\nres = \"On a mesuré\", mesure, \"V\"',\n",
       " '_i84': 'mesure = 5\\nres = \"On a mesuré\" + mesure + \"V\"',\n",
       " '_i85': 'mesure = 5\\nres = \"On a mesuré\" + str(mesure) + \"V\"',\n",
       " '_i86': 'mesure = 5\\nres = \"On a mesuré\" + str(mesure) + \"V\"\\nprint(res)',\n",
       " '_i87': 'mesure = 5\\nres = \"On a mesuré \" + str(mesure) + \" V\"\\nprint(res)',\n",
       " '_i88': 'mesure_volt = 5\\nmesure_ampere = 2\\nres = \"On a mesuré \" + str(mesure_volt) + \" V et \" + str(mesure_ampere) + \" A\"\\nprint(res)',\n",
       " 'mesure_volt': 10.25,\n",
       " 'mesure_ampere': 4,\n",
       " '_i89': 'mesure_volt = 5\\nmesure_ampere = 2\\nres = \"On a mesuré \" + str(mesure_volt) + \" V \" et \" + str(mesure_ampere) + \" A\"\\nprint(res)',\n",
       " '_i90': 'mesure_volt = 5\\nmesure_ampere = 2\\nres = \"On a mesuré \" + str(mesure_volt) + \" V et \" + str(mesure_ampere) + \" A\"\\nprint(res)',\n",
       " '_i91': 'mesure_volt = 5\\nmesure_ampere = 2\\nres = \"On a mesuré %d V et %d A\" % (mesure_volt, mesure_ampere)\\nprint(res)',\n",
       " '_i92': 'mesure_volt = 5.2\\nmesure_ampere = 2\\nres = \"On a mesuré %d V et %d A\" % (mesure_volt, mesure_ampere)\\nprint(res)',\n",
       " '_i93': 'mesure_volt = 5.2\\nmesure_ampere = 2\\nres = \"On a mesuré %f V et %d A\" % (mesure_volt, mesure_ampere)\\nprint(res)',\n",
       " '_i94': 'mesure_volt = 5.2\\nmesure_ampere = 2\\nres = \"On a mesuré %02f V et %d A\" % (mesure_volt, mesure_ampere)\\nprint(res)',\n",
       " '_i95': 'mesure_volt = 5.2\\nmesure_ampere = 2\\nres = \"On a mesuré %f02 V et %d A\" % (mesure_volt, mesure_ampere)\\nprint(res)',\n",
       " '_i96': 'mesure_volt = 5.2\\nmesure_ampere = 2\\nres = \"On a mesuré %2f V et %d A\" % (mesure_volt, mesure_ampere)\\nprint(res)',\n",
       " '_i97': 'mesure_volt = 5.2\\nmesure_ampere = 2\\nres = \"On a mesuré %2:f V et %d A\" % (mesure_volt, mesure_ampere)\\nprint(res)',\n",
       " '_i98': 'mesure_volt = 5.2\\nmesure_ampere = 2\\nres = \"On a mesuré %.2f V et %d A\" % (mesure_volt, mesure_ampere)\\nprint(res)',\n",
       " '_i99': 'mesure_volt = 5.2\\nmesure_ampere = 2\\nres = \"On a mesuré %4.2f V et %d A\" % (mesure_volt, mesure_ampere)\\nprint(res)',\n",
       " '_i100': 'mesure_volt = 5.2\\nmesure_ampere = 2\\nres = \"On a mesuré %4.1f V et %d A\" % (mesure_volt, mesure_ampere)\\nprint(res)',\n",
       " '_i101': 'mesure_volt = 5.2\\nmesure_ampere = 2\\nres = \"On a mesuré %.1f V et %d A\" % (mesure_volt, mesure_ampere)\\nprint(res)',\n",
       " '_i102': 'mesure_volt = 5.26\\nmesure_ampere = 2\\nres = \"On a mesuré %.1f V et %d A\" % (mesure_volt, mesure_ampere)\\nprint(res)',\n",
       " '_i103': 'mesure_volt = 5.2\\nmesure_ampere = 2\\nres = \"On a mesuré {} V et {} A\".format(mesure_volt, mesure_ampere)\\nprint(res)',\n",
       " '_i104': 'mesure_volt = [5.26]\\nmesure_ampere = 2\\nres = \"On a mesuré %.1f V et %d A\" % (mesure_volt, mesure_ampere)\\nprint(res)',\n",
       " '_i105': 'mesure_volt = [5.2]\\nmesure_ampere = 2\\nres = \"On a mesuré {} V et {} A\".format(mesure_volt, mesure_ampere)\\nprint(res)',\n",
       " '_i106': 'mesure_volt = 5.26\\nmesure_ampere = 2\\nres = \"On a mesuré %.1f V et %d A\" % (mesure_volt, mesure_ampere)\\nprint(res)',\n",
       " '_i107': 'mesure_volt = 5.2\\nmesure_ampere = 2\\nres = \"On a mesuré {} V et {} A\".format(mesure_volt, mesure_ampere)\\nprint(res)',\n",
       " '_i108': '(3.4).hex',\n",
       " '_108': <function float.hex()>,\n",
       " '_i109': '(3.4).hex()',\n",
       " '_109': '0x1.b333333333333p+1',\n",
       " '_i110': 'hex(3.4)',\n",
       " '_i111': 'hex(34)',\n",
       " '_111': '0x22',\n",
       " '_i112': 'len([1, 2])',\n",
       " '_112': 2,\n",
       " '_i113': 'len([1, 2]), [1, 2].__len__',\n",
       " '_113': (2, <method-wrapper '__len__' of list object at 0x7fce92ffad40>),\n",
       " '_i114': 'len([1, 2]), [1, 2].__len__()',\n",
       " '_114': (2, 2),\n",
       " '_i115': 'mesure_volt = 5.2\\nmesure_ampere = 2\\nres = f\"On a mesuré {mesure_volt} V et {mesure_ampere} A\"\\nprint(res)',\n",
       " '_i116': 'mesure_volt = 5.2\\nmesure_ampere = 2\\nres = f\"On a mesuré {mesure_volt * 3} V et {mesure_ampere} A\"\\nprint(res)',\n",
       " '_i117': 'mesure_volt = 5.25\\nmesure_ampere = 2\\nres = f\"On a mesuré {mesure_volt:.1} V et {mesure_ampere} A\"\\nprint(res)',\n",
       " '_i118': 'mesure_volt = 5.25\\nmesure_ampere = 2\\nres = f\"On a mesuré {mesure_volt:1} V et {mesure_ampere} A\"\\nprint(res)',\n",
       " '_i119': 'mesure_volt = 5.25\\nmesure_ampere = 2\\nres = f\"On a mesuré {mesure_volt:.1} V et {mesure_ampere} A\"\\nprint(res)',\n",
       " '_i120': 'mesure_volt = 5.25\\nmesure_ampere = 2\\nres = f\"On a mesuré {mesure_volt:1.1} V et {mesure_ampere} A\"\\nprint(res)',\n",
       " '_i121': 'mesure_volt = 5.25\\nmesure_ampere = 2\\nres = f\"On a mesuré {mesure_volt:>10} V et {mesure_ampere} A\"\\nprint(res)',\n",
       " '_i122': 'mesure_volt = 5.25\\nmesure_ampere = 2\\nres = f\"On a mesuré {mesure_volt:<10} V et {mesure_ampere} A\"\\nprint(res)',\n",
       " '_i123': 'f\"{mesure_volt=}, {mesure_ampere=}\"',\n",
       " '_123': 'mesure_volt=5.25, mesure_ampere=2',\n",
       " '_i124': 'mesure_volt = 5.2\\nmesure_ampere = 2\\nres = \"On a mesuré {mesure_volt} V et {} A\".format(mesure_volt=mesure_volt, mesure_ampere)\\nprint(res)',\n",
       " '_i125': 'mesure_volt = 5.2\\nmesure_ampere = 2\\nres = \"On a mesuré {mesure_volt} V et {mesure_ampere} A\".format(mesure_volt=mesure_volt, mesure_ampere=mesure_amper)\\nprint(res)',\n",
       " '_i126': 'mesure_volt = 5.2\\nmesure_ampere = 2\\nres = \"On a mesuré {mesure_volt} V et {mesure_ampere} A\".format(mesure_volt=mesure_volt, mesure_ampere=mesure_ampere)\\nprint(res)',\n",
       " '_i127': 'mesure_volt = 5.2\\nmesure_ampere = 2\\nres = \"On a mesuré {mesure_volt} V et {mesure_ampere} A\"\\nprint(res.format(mesure_volt=mesure_volt, mesure_ampere=mesure_ampere))',\n",
       " '_i128': 'mesure_volt = 5.2\\nmesure_ampere = 2\\nres = \"On a mesuré {mesure_volt} V et {mesure_ampere} A\" * 2\\nprint(res.format(mesure_volt=mesure_volt, mesure_ampere=mesure_ampere))',\n",
       " '_i129': 'mesure_volt = 5.2\\nmesure_ampere = 2\\nres = \"On a mesuré {mesure_volt} V et {mesure_ampere} A\"\\nprint(res.format(mesure_volt=mesure_volt, mesure_ampere=mesure_ampere))',\n",
       " '_i130': 'mesure_volt = 5.25\\nmesure_ampere = 2\\nres = f\"On a mesuré {mesure_volt:>10} V et {mesure_ampere} A\"\\nmesure_volt = 10.25\\nmesure_ampere = 4\\nprint(res)',\n",
       " '_i131': 'mesure_volt = 5.2\\nmesure_ampere = 2\\nres = \"On a mesuré {mesure_volt} V et {mesure_ampere} A\"\\nmesure_volt = 10.25\\nmesure_ampere = 4\\nprint(res.format(mesure_volt=mesure_volt, mesure_ampere=mesure_ampere))',\n",
       " '_i132': 'mesure_volt = 5.25\\nmesure_ampere = 2\\nres = \"On a mesuré {mesure_volt:>10} V et {mesure_ampere} A\"\\nmesure_volt = 10.25\\nmesure_ampere = 4\\nprint(res)',\n",
       " '_i133': 'mesure_volt = 5.25\\nmesure_ampere = 2\\nres = f\"On a mesuré {mesure_volt:>10} V et {mesure_ampere} A\"\\nmesure_volt = 10.25\\nmesure_ampere = 4\\nprint(res)',\n",
       " '_i134': 'mesure_volt = 5.25\\nmesure_ampere = 2\\nres = f\"On a mesuré {mesure_volt:>10} V et {mesure_ampere} A\"\\nmesure_volt = 10.25\\nmesure_ampere = 4\\nprint(res)',\n",
       " '_i135': '[\"On a mesure\", \"5\", \"V\"]',\n",
       " '_135': ['On a mesure', '5', 'V'],\n",
       " '_i136': '\"\".join([\"On a mesure\", \"5\", \"V\"])',\n",
       " '_136': 'On a mesure5V',\n",
       " '_i137': '\" \".join([\"On a mesure\", \"5\", \"V\"])',\n",
       " '_137': 'On a mesure 5 V',\n",
       " '_i138': '\" \".join([\"On a mesure\", 5, \"V\"])',\n",
       " '_i139': '\" \".join([\"On a mesure\", \"5\", \"V\"])',\n",
       " '_139': 'On a mesure 5 V',\n",
       " '_i140': '\"\\\\t\".join([\"On a mesure\", \"5\", \"V\"])',\n",
       " '_140': 'On a mesure\\t5\\tV',\n",
       " '_i141': '\" \".join([\"On a mesure\", \"5\", \"V\"])',\n",
       " '_141': 'On a mesure 5 V',\n",
       " '_i142': '\" \".join([\"On a mesure\", \"5\", \"V\"])',\n",
       " '_142': 'On a mesure 5 V',\n",
       " '_i143': '\"On a mesure 5 V\".split(\" \")',\n",
       " '_143': ['On', 'a', 'mesure', '5', 'V'],\n",
       " '_i144': '\"On a mesure 5 V\".split(\" \")',\n",
       " '_144': ['On', 'a', 'mesure', '5', 'V'],\n",
       " '_i145': '\" \\\\t  54.34434   \\\\n \"',\n",
       " '_145': ' \\t  54.34434   \\n ',\n",
       " '_i146': '\" \\\\t  54.34434   \\\\n \".strip()',\n",
       " '_146': '54.34434',\n",
       " '_i147': '\" \\\\t  54.34434   \\\\n \".lstrip()',\n",
       " '_147': '54.34434   \\n ',\n",
       " '_i148': '\" \\\\t  54.34434   \\\\n \".rstrip()',\n",
       " '_148': ' \\t  54.34434',\n",
       " '_i149': '\" \\\\t  54.34434   \\\\n \".strip()',\n",
       " '_149': '54.34434',\n",
       " '_i150': 'float(\" \\\\t  54.34434   \\\\n \".strip())',\n",
       " '_150': 54.34434,\n",
       " '_i151': 'float(\" \\\\t  54.34434   \\\\n \")',\n",
       " '_151': 54.34434,\n",
       " '_i152': 'float(\" \\\\t  54.34434   \\\\n \".strip())',\n",
       " '_152': 54.34434,\n",
       " '_i153': '# parler des fonctions \\n# bytearray / bytestrings \\n# manipulation fichiers\\n# exo ',\n",
       " '_i154': 'while i < 10:\\n    while True:\\n        break\\n    print(i)',\n",
       " '_i155': 'i = 0\\nwhile i < 10:\\n    while True:\\n        break\\n    print(i)',\n",
       " 'i': 10,\n",
       " '_i156': 'i = 0\\nwhile i < 10:\\n    while True:\\n        break\\n    i += 1\\n    print(i)',\n",
       " '_i157': 'i = 0\\ndef f():\\n    while i < 10:\\n        while True:\\n            return \\n        i += 1\\n        print(i)',\n",
       " '_i158': 'i = 0\\ndef f():\\n    while i < 10:\\n        while True:\\n            return \\n        i += 1\\n        print(i)\\n\\nf()',\n",
       " '_i159': 'def f():\\n    i = 0\\n    while i < 10:\\n        while True:\\n            return \\n        i += 1\\n        print(i)\\n\\nf()',\n",
       " '_i160': 'i = 0\\nwhile i < 10:\\n    while True:\\n        break\\n    i += 1\\n    print(i)',\n",
       " '_i161': '    a = int(\"toto\")',\n",
       " '_i162': 'try:\\n    a = int(\"toto\")\\nexcept:\\n    print(\"oups\")',\n",
       " '_i163': 'try:\\n    a = in(\"toto\")\\nexcept:\\n    print(\"oups\")',\n",
       " '_i164': 'try:\\n    a = intf(\"toto\")\\nexcept:\\n    print(\"oups\")',\n",
       " '_i165': 'intf',\n",
       " '_i166': 'try:\\n    a = intf(\"toto\")\\nexcept ValueError:\\n    print(\"oups\")',\n",
       " '_i167': 'try:\\n    a = intf(\"toto\")\\nexcept Exception as e:\\n    print(\"oups\", e)',\n",
       " '_i168': 'try:\\n    a = intf(\"toto\")\\nexcept Exception as e:\\n    print(\"oups\", e, type(e))',\n",
       " '_i169': 'try:\\n    a = intf(\"toto\")\\nexcept ValueError as e:\\n    print(\"oups\", e, type(e))',\n",
       " '_i170': 'try:\\n    a = intf(\"toto\")\\nexcept ValueError as e:\\n    print(\"oups\", e, type(e))\\nexcept NameError as e:\\n    print(\"mauvais nom\", e, type(e))\\n    ',\n",
       " '_i171': 'try:\\n    a = intf(\"toto\")\\nexcept ValueError as e:\\n    print(\"oups\", e, type(e))\\nexcept NameError as e:\\n    print(\"mauvais nom\", e, type(e))\\nexcept Exception as e:\\n    print(\"ça marche vraiment pas\")',\n",
       " '_i172': 'try:\\n    a = intf(\"toto\")\\nexcept Exception as e:\\n    print(\"ça marche vraiment pas\")\\nexcept ValueError as e:\\n    print(\"oups\", e, type(e))\\nexcept NameError as e:\\n    print(\"mauvais nom\", e, type(e))',\n",
       " '_i173': 'try:\\n    a = intf(\"toto\")\\nexcept ValueError as e:\\n    print(\"oups\", e, type(e))\\nexcept (NameError, TypeError) as e:\\n    print(\"mauvais nom\", e, type(e))\\nexcept Exception as e:\\n    print(\"ça marche vraiment pas\")',\n",
       " '_i174': 'import random',\n",
       " '_i175': 'random?',\n",
       " '_i176': 'help(random)',\n",
       " '_i177': 's = \"Salut les amis\".split(\" \")',\n",
       " 's': ['Salut', 'les', 'amis'],\n",
       " '_i178': 's = \"Salut les amis\".split(\" \")\\ns',\n",
       " '_178': ['Salut', 'les', 'amis'],\n",
       " '_i179': 's = \"Salut les amis\".split(\" \")\\nrandom.choice(s)',\n",
       " '_179': 'Salut',\n",
       " '_i180': 's = \"Salut les amis\".split(\" \")\\nrandom.choice(s)',\n",
       " '_180': 'les',\n",
       " '_i181': 's = \"Salut les amis\".split(\" \")\\nrandom.choice(s)',\n",
       " '_181': 'amis',\n",
       " '_i182': 's = \"Salut les amis\".split(\" \")\\nrandom.choice(s)',\n",
       " '_182': 'Salut',\n",
       " '_i183': 's = \"Salut les amis\".split(\" \")\\nrandom.choice(s)',\n",
       " '_183': 'amis',\n",
       " '_i184': 's = \"Salut les amis\".split(\" \")\\nrandom.choice(s)',\n",
       " '_184': 'amis',\n",
       " '_i185': 's = \"Salut les amis\".split(\" \")\\nrandom.choice(s)',\n",
       " '_185': 'les',\n",
       " '_i186': 's = \"Salut les amis\".split(\" \")\\nrandom.choice(s)',\n",
       " '_186': 'Salut',\n",
       " '_i187': 'from random import choice\\n\\nchoice(s)',\n",
       " 'choice': <bound method Random.choice of <random.Random object at 0x557b9f601d40>>,\n",
       " '_187': 'les',\n",
       " '_i188': 'if random.random() > 0.5:\\n    def toto():\\n        return \"c\\'est défini\"\\n\\ntoto()',\n",
       " '_188': \"c'est défini\",\n",
       " '_i189': 'del toto',\n",
       " '_i190': 'if random.random() > 0.5:\\n    def toto():\\n        return \"c\\'est défini\"\\n\\ntoto()',\n",
       " '_i191': 'from random import choice\\n\\nrandint()',\n",
       " '_i192': 'from random import choice',\n",
       " '_i193': 'from matplotlib import pyplot as plt ',\n",
       " 'plt': <module 'matplotlib.pyplot' from '/home/mfalce/.local/lib/python3.9/site-packages/matplotlib/pyplot.py'>,\n",
       " '_i194': 'import random as r\\nimport numpy as np ',\n",
       " 'r': <module 'random' from '/usr/lib64/python3.9/random.py'>,\n",
       " 'np': <module 'numpy' from '/home/mfalce/.local/lib/python3.9/site-packages/numpy/__init__.py'>,\n",
       " '_i195': 'globals()'}"
      ]
     },
     "execution_count": 195,
     "metadata": {},
     "output_type": "execute_result"
    }
   ],
   "source": [
    "globals()"
   ]
  },
  {
   "cell_type": "code",
   "execution_count": null,
   "id": "a5cfefef",
   "metadata": {},
   "outputs": [],
   "source": []
  }
 ],
 "metadata": {
  "kernelspec": {
   "display_name": "Python 3 (ipykernel)",
   "language": "python",
   "name": "python3"
  },
  "language_info": {
   "codemirror_mode": {
    "name": "ipython",
    "version": 3
   },
   "file_extension": ".py",
   "mimetype": "text/x-python",
   "name": "python",
   "nbconvert_exporter": "python",
   "pygments_lexer": "ipython3",
   "version": "3.9.9"
  }
 },
 "nbformat": 4,
 "nbformat_minor": 5
}

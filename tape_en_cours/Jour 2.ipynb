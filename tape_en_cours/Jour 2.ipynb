{
 "cells": [
  {
   "cell_type": "markdown",
   "id": "9abf4681",
   "metadata": {},
   "source": [
    "# Rappel du jour 1\n",
    "\n",
    "## Matin \n",
    "\n",
    "* installation \n",
    "* créer des environnements virtuels\n",
    "\n",
    "## Après\n",
    "\n",
    "* création et activations de venv depuis VSCode \n",
    "* annotations de types\n",
    "* erreurs dûes aux types\n",
    "* installation / configuration de VSCode \n",
    "    * installé l'extension VSCode python\n",
    "    * outils de gestion de la Qualité \n",
    "        * pylint / mypy : linter (le collègue maniaque) analyse statique du code, vont relevé des erreurs de syntaxe, de style (variable mal nommée, manque de docstring...), ...\n",
    "            * pylint : généraliste\n",
    "            * mypy : spécialisé sur les types \n",
    "        * black : autoformatteur \n",
    "            * `Python › Formatting: Provider` à mettre à `black`\n",
    "            * `Editor: Format On Save` : oui\n",
    "* bases de la syntaxe python"
   ]
  },
  {
   "cell_type": "code",
   "execution_count": 5,
   "id": "249be70f",
   "metadata": {},
   "outputs": [
    {
     "ename": "TypeError",
     "evalue": "can't multiply sequence by non-int of type 'str'",
     "output_type": "error",
     "traceback": [
      "\u001b[0;31m---------------------------------------------------------------------------\u001b[0m",
      "\u001b[0;31mTypeError\u001b[0m                                 Traceback (most recent call last)",
      "Cell \u001b[0;32mIn [5], line 5\u001b[0m\n\u001b[1;32m      2\u001b[0m \u001b[38;5;28;01mdef\u001b[39;00m \u001b[38;5;21mf\u001b[39m(a:\u001b[38;5;28mint\u001b[39m) \u001b[38;5;241m-\u001b[39m\u001b[38;5;241m>\u001b[39m \u001b[38;5;28mstr\u001b[39m:\n\u001b[1;32m      3\u001b[0m     \u001b[38;5;28;01mreturn\u001b[39;00m a\u001b[38;5;241m*\u001b[39m\u001b[38;5;124m\"\u001b[39m\u001b[38;5;124m-\u001b[39m\u001b[38;5;124m\"\u001b[39m\n\u001b[0;32m----> 5\u001b[0m \u001b[43mf\u001b[49m\u001b[43m(\u001b[49m\u001b[38;5;124;43m'\u001b[39;49m\u001b[38;5;124;43ma\u001b[39;49m\u001b[38;5;124;43m'\u001b[39;49m\u001b[43m)\u001b[49m\n",
      "Cell \u001b[0;32mIn [5], line 3\u001b[0m, in \u001b[0;36mf\u001b[0;34m(a)\u001b[0m\n\u001b[1;32m      2\u001b[0m \u001b[38;5;28;01mdef\u001b[39;00m \u001b[38;5;21mf\u001b[39m(a:\u001b[38;5;28mint\u001b[39m) \u001b[38;5;241m-\u001b[39m\u001b[38;5;241m>\u001b[39m \u001b[38;5;28mstr\u001b[39m:\n\u001b[0;32m----> 3\u001b[0m     \u001b[38;5;28;01mreturn\u001b[39;00m \u001b[43ma\u001b[49m\u001b[38;5;241;43m*\u001b[39;49m\u001b[38;5;124;43m\"\u001b[39;49m\u001b[38;5;124;43m-\u001b[39;49m\u001b[38;5;124;43m\"\u001b[39;49m\n",
      "\u001b[0;31mTypeError\u001b[0m: can't multiply sequence by non-int of type 'str'"
     ]
    }
   ],
   "source": [
    "# annotations de types\n",
    "def f(a:int) -> str:\n",
    "    return a*\"-\"\n",
    "\n",
    "f('a')"
   ]
  },
  {
   "cell_type": "markdown",
   "id": "b73d58ad",
   "metadata": {},
   "source": [
    "## Booléens en python"
   ]
  },
  {
   "cell_type": "code",
   "execution_count": 9,
   "id": "6c09c304",
   "metadata": {},
   "outputs": [
    {
     "data": {
      "text/plain": [
       "(False, False, False, False)"
      ]
     },
     "execution_count": 9,
     "metadata": {},
     "output_type": "execute_result"
    }
   ],
   "source": [
    "bool(\"\"), bool([]), bool(tuple()), bool({})"
   ]
  },
  {
   "cell_type": "code",
   "execution_count": 11,
   "id": "b200e5d1",
   "metadata": {},
   "outputs": [
    {
     "data": {
      "text/plain": [
       "(True, True, True, True)"
      ]
     },
     "execution_count": 11,
     "metadata": {},
     "output_type": "execute_result"
    }
   ],
   "source": [
    "bool(\"riri\"), bool([[]]), bool(tuple([1, 2])), bool({\"a\": 2})"
   ]
  },
  {
   "cell_type": "code",
   "execution_count": 14,
   "id": "a74461bc",
   "metadata": {},
   "outputs": [
    {
     "data": {
      "text/plain": [
       "(False, True, True, False)"
      ]
     },
     "execution_count": 14,
     "metadata": {},
     "output_type": "execute_result"
    }
   ],
   "source": [
    "bool(0), bool(-1), bool(3), bool(3%3)"
   ]
  },
  {
   "cell_type": "code",
   "execution_count": 23,
   "id": "27e2a8f3",
   "metadata": {},
   "outputs": [
    {
     "data": {
      "text/plain": [
       "'fizz'"
      ]
     },
     "execution_count": 23,
     "metadata": {},
     "output_type": "execute_result"
    }
   ],
   "source": [
    "\"fizz\" * 1 + \"buzz\" * 1"
   ]
  },
  {
   "cell_type": "code",
   "execution_count": 22,
   "id": "5b03026d",
   "metadata": {},
   "outputs": [
    {
     "data": {
      "text/plain": [
       "(1, 0)"
      ]
     },
     "execution_count": 22,
     "metadata": {},
     "output_type": "execute_result"
    }
   ],
   "source": [
    "int(True), int(False)"
   ]
  },
  {
   "cell_type": "code",
   "execution_count": 24,
   "id": "f19ff394",
   "metadata": {},
   "outputs": [
    {
     "data": {
      "text/plain": [
       "'fizz'"
      ]
     },
     "execution_count": 24,
     "metadata": {},
     "output_type": "execute_result"
    }
   ],
   "source": [
    "\"fizz\" * True + \"buzz\" * False"
   ]
  },
  {
   "cell_type": "code",
   "execution_count": 25,
   "id": "fbcc79b8",
   "metadata": {},
   "outputs": [
    {
     "data": {
      "text/plain": [
       "''"
      ]
     },
     "execution_count": 25,
     "metadata": {},
     "output_type": "execute_result"
    }
   ],
   "source": [
    "nombre = 4\n",
    "\"fizz\" * (nombre % 3 == 0) + \"buzz\" * (nombre % 5 == 0)"
   ]
  },
  {
   "cell_type": "code",
   "execution_count": 34,
   "id": "3a303dd7",
   "metadata": {},
   "outputs": [
    {
     "data": {
      "text/plain": [
       "1"
      ]
     },
     "execution_count": 34,
     "metadata": {},
     "output_type": "execute_result"
    }
   ],
   "source": [
    "1 or 1/0"
   ]
  },
  {
   "cell_type": "code",
   "execution_count": 33,
   "id": "ae09ab00",
   "metadata": {},
   "outputs": [
    {
     "ename": "ZeroDivisionError",
     "evalue": "division by zero",
     "output_type": "error",
     "traceback": [
      "\u001b[0;31m---------------------------------------------------------------------------\u001b[0m",
      "\u001b[0;31mZeroDivisionError\u001b[0m                         Traceback (most recent call last)",
      "Cell \u001b[0;32mIn [33], line 1\u001b[0m\n\u001b[0;32m----> 1\u001b[0m \u001b[38;5;241m0\u001b[39m \u001b[38;5;129;01mor\u001b[39;00m \u001b[38;5;241;43m1\u001b[39;49m\u001b[38;5;241;43m/\u001b[39;49m\u001b[38;5;241;43m0\u001b[39;49m\n",
      "\u001b[0;31mZeroDivisionError\u001b[0m: division by zero"
     ]
    }
   ],
   "source": [
    "0 or 1/0"
   ]
  },
  {
   "cell_type": "code",
   "execution_count": 32,
   "id": "9e9d8a39",
   "metadata": {},
   "outputs": [],
   "source": [
    "import time\n",
    "0 or time.sleep(10)"
   ]
  },
  {
   "cell_type": "code",
   "execution_count": 37,
   "id": "a6e182ee",
   "metadata": {},
   "outputs": [
    {
     "data": {
      "text/plain": [
       "1"
      ]
     },
     "execution_count": 37,
     "metadata": {},
     "output_type": "execute_result"
    }
   ],
   "source": [
    "mon_tableau = [1]\n",
    "mon_tableau and mon_tableau[0]"
   ]
  },
  {
   "cell_type": "code",
   "execution_count": 44,
   "id": "21d9d258",
   "metadata": {},
   "outputs": [
    {
     "name": "stdout",
     "output_type": "stream",
     "text": [
      "3\n"
     ]
    }
   ],
   "source": [
    "ma_valeur = 3\n",
    "ma_valeur = ma_valeur or 4\n",
    "print(ma_valeur)"
   ]
  },
  {
   "cell_type": "code",
   "execution_count": 49,
   "id": "2ca5a5a0",
   "metadata": {},
   "outputs": [
    {
     "data": {
      "text/plain": [
       "0"
      ]
     },
     "execution_count": 49,
     "metadata": {},
     "output_type": "execute_result"
    }
   ],
   "source": [
    "1 & 2"
   ]
  },
  {
   "cell_type": "code",
   "execution_count": 64,
   "id": "89de0978",
   "metadata": {},
   "outputs": [],
   "source": [
    "def fizz_buzz():\n",
    "    for nombre in range(1, 101):\n",
    "        if nombre % 3 == 0 and nombre % 5 == 0:\n",
    "            res = \"fizz\"\n",
    "        elif nombre % 5 == 0:\n",
    "            res = \"buzz\"\n",
    "        elif nombre % 3 == 0:\n",
    "            res = \"fizzbuzz\"\n",
    "        else:\n",
    "            res = str(nombre)\n",
    "\n",
    "\"\"\"\n",
    "def fizz_buzz_3():\n",
    "    for nombre in range(1, 101):\n",
    "        match (nombre % 3, nombre % 5):\n",
    "            case (0, 0):\n",
    "                res = \"fizzbuzz\"\n",
    "            case (_, 0):\n",
    "                res = \"buzz\"\n",
    "            case (0, _):\n",
    "                res = \"fizz\"\n",
    "            case _, _:\n",
    "                res = str(nombre)\n",
    "\"\"\"\n",
    "            \n",
    "def fizz_buzz_2():\n",
    "    for nombre in range(1, 101):\n",
    "        \"fizz\" * (nombre % 3 == 0) + \"buzz\" * (nombre % 5 == 0) or str(nombre)\n",
    "\n",
    "\n",
    "        "
   ]
  },
  {
   "cell_type": "code",
   "execution_count": 53,
   "id": "c2dad4c2",
   "metadata": {},
   "outputs": [
    {
     "name": "stdout",
     "output_type": "stream",
     "text": [
      "14.1 µs ± 458 ns per loop (mean ± std. dev. of 7 runs, 100,000 loops each)\n"
     ]
    }
   ],
   "source": [
    "%timeit fizz_buzz()"
   ]
  },
  {
   "cell_type": "code",
   "execution_count": 56,
   "id": "32f5f24d",
   "metadata": {},
   "outputs": [
    {
     "name": "stdout",
     "output_type": "stream",
     "text": [
      "22 µs ± 665 ns per loop (mean ± std. dev. of 7 runs, 100,000 loops each)\n"
     ]
    }
   ],
   "source": [
    "%timeit fizz_buzz()"
   ]
  },
  {
   "cell_type": "code",
   "execution_count": 57,
   "id": "e75a2dc2",
   "metadata": {},
   "outputs": [
    {
     "name": "stdout",
     "output_type": "stream",
     "text": [
      "21.7 µs ± 1.52 µs per loop (mean ± std. dev. of 7 runs, 10,000 loops each)\n"
     ]
    }
   ],
   "source": [
    "%timeit fizz_buzz()"
   ]
  },
  {
   "cell_type": "code",
   "execution_count": 61,
   "id": "c108febd",
   "metadata": {},
   "outputs": [
    {
     "name": "stdout",
     "output_type": "stream",
     "text": [
      "24.7 µs ± 827 ns per loop (mean ± std. dev. of 7 runs, 10,000 loops each)\n"
     ]
    }
   ],
   "source": [
    "%timeit fizz_buzz_2()"
   ]
  },
  {
   "cell_type": "code",
   "execution_count": null,
   "id": "a31a23c8",
   "metadata": {},
   "outputs": [],
   "source": []
  }
 ],
 "metadata": {
  "kernelspec": {
   "display_name": "Python 3 (ipykernel)",
   "language": "python",
   "name": "python3"
  },
  "language_info": {
   "codemirror_mode": {
    "name": "ipython",
    "version": 3
   },
   "file_extension": ".py",
   "mimetype": "text/x-python",
   "name": "python",
   "nbconvert_exporter": "python",
   "pygments_lexer": "ipython3",
   "version": "3.9.9"
  }
 },
 "nbformat": 4,
 "nbformat_minor": 5
}
